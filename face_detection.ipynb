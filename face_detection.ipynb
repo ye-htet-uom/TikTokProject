{
 "cells": [
  {
   "cell_type": "code",
   "id": "initial_id",
   "metadata": {
    "collapsed": true,
    "ExecuteTime": {
     "end_time": "2025-06-23T04:59:26.822647Z",
     "start_time": "2025-06-23T04:58:52.636213Z"
    }
   },
   "source": [
    "import os\n",
    "import cv2\n",
    "import torch\n",
    "import numpy as np\n",
    "from PIL import Image\n",
    "from ultralytics import YOLO\n",
    "\n",
    "# Setup device for computations (CUDA if available, otherwise CPU)\n",
    "device = \"cuda\" if torch.cuda.is_available() else \"cpu\"\n",
    "print(f\"Using device: {device}\")\n",
    "\n",
    "# Load YOLOv8 face detector\n",
    "face_model = YOLO(\"yolov8l-face-lindevs.pt\")\n",
    "face_model.to(device)\n",
    "\n",
    "# Define parent folders\n",
    "input_dir = \"C:/Users/yehte/Downloads/Ye Htet/Projects/TikTok/Annotation/Politician_Photos_2025-06-23\"\n",
    "output_dir = \"C:/Users/yehte/Downloads/Ye Htet/Projects/TikTok/Annotation/fine-tune/crop-faces\"\n",
    "\n",
    "# Process each video folder\n",
    "for folder_name in os.listdir(input_dir):\n",
    "    print(\"Processing\", folder_name)\n",
    "    input_folder = os.path.join(input_dir, folder_name)\n",
    "    result_folder = os.path.join(output_dir, folder_name)\n",
    "    os.makedirs(result_folder, exist_ok=True)\n",
    "\n",
    "    # Collect all image files in the current video folder to determine its length\n",
    "    image_files = sorted([f for f in os.listdir(input_folder) if f.lower().endswith(('.jpg', '.png'))])\n",
    "\n",
    "    for filename in image_files:\n",
    "\n",
    "        image_path = os.path.join(input_folder, filename)\n",
    "        bgr_img = cv2.imread(image_path)\n",
    "        if bgr_img is None:\n",
    "            print(f\"Warning: Could not read image {image_path}, skipping.\")\n",
    "            continue\n",
    "        rgb_img = cv2.cvtColor(bgr_img, cv2.COLOR_BGR2RGB)\n",
    "\n",
    "        results = face_model.predict(image_path, conf=0.6, verbose=False)\n",
    "        boxes = results[0].boxes.xyxy.cpu().numpy().astype(int)\n",
    "\n",
    "        if len(boxes) == 0:\n",
    "            print(f\"No faces in {filename}, skipping.\")\n",
    "            continue\n",
    "\n",
    "        for i, (x1, y1, x2, y2) in enumerate(boxes):\n",
    "            if i == 0:\n",
    "                face = rgb_img[y1:y2, x1:x2]\n",
    "                face_pil = Image.fromarray(face).convert(\"RGB\")\n",
    "                save_filename = f\"{filename.split('.')[0]}.jpg\"\n",
    "                save_path = os.path.join(result_folder, save_filename)\n",
    "                cv2.imwrite(save_path, cv2.cvtColor(np.array(face_pil), cv2.COLOR_RGB2BGR))"
   ],
   "outputs": [
    {
     "name": "stdout",
     "output_type": "stream",
     "text": [
      "Using device: cuda\n",
      "Processing Abdurrahman Wahid\n",
      "Processing Agus Harimurti Yudhoyono\n",
      "Processing Airlangga Hartarto\n",
      "Processing Anies Rasyid Baswedan\n",
      "Processing Baharuddin Jusuf Habibie\n",
      "Processing Boediono\n",
      "Processing Erick Thohir\n",
      "Processing Ganjar Pranowo\n",
      "Processing Gibran Rakabuming Raka\n",
      "Processing Joko Widodo\n",
      "Processing Jusuf Kalla\n",
      "Processing Mahfud MD\n",
      "Processing Maruf Amin\n",
      "Processing Megawati Sukarnoputri\n",
      "Processing Muhaimin Iskandar\n",
      "Processing Prabowo Subianto\n",
      "Processing Soekarno\n",
      "Processing Sri Mulyani Indrawati\n",
      "Processing Suharto\n",
      "Processing Susilo Bambang Yudhoyono\n"
     ]
    }
   ],
   "execution_count": 8
  }
 ],
 "metadata": {
  "kernelspec": {
   "display_name": "Python 3",
   "language": "python",
   "name": "python3"
  },
  "language_info": {
   "codemirror_mode": {
    "name": "ipython",
    "version": 2
   },
   "file_extension": ".py",
   "mimetype": "text/x-python",
   "name": "python",
   "nbconvert_exporter": "python",
   "pygments_lexer": "ipython2",
   "version": "2.7.6"
  }
 },
 "nbformat": 4,
 "nbformat_minor": 5
}
