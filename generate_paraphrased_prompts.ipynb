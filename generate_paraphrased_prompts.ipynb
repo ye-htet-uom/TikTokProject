{
 "cells": [
  {
   "cell_type": "code",
   "id": "initial_id",
   "metadata": {
    "collapsed": true,
    "ExecuteTime": {
     "end_time": "2025-06-30T09:26:12.057701Z",
     "start_time": "2025-06-30T09:26:11.745631Z"
    }
   },
   "source": [
    "import pandas as pd\n",
    "import random\n",
    "import os\n",
    "\n",
    "# -------------------------\n",
    "# CONFIGURATION\n",
    "# -------------------------\n",
    "random.seed(42)\n",
    "\n",
    "parent_path = \"C:/Users/yehte/Downloads/Ye Htet/Projects/TikTok/Annotation/\"\n",
    "INPUT_CSV = parent_path + \"Annotation_Template_2025-06-23.csv\"  # Your original CSV with columns: image_path, name, age_group, gender, expression\n",
    "OUTPUT_CSV = parent_path + \"Annotation_Template_Fine_Tune_Consistent_2025-06-30.csv\"\n",
    "NUM_PROMPTS_PER_IMAGE = 1\n",
    "\n",
    "# Prompt templates with placeholders\n",
    "# TEMPLATES = [\n",
    "#     \"{age_group} {gender} named {name} with {expression} expression.\",\n",
    "#     \"{name} is {age_group} {gender} showing {expression} face.\",\n",
    "#     \"portrait of {name}, {age_group} {gender} who looks {expression}.\",\n",
    "#     \"face of {name}, {age_group} {gender}, expressing {expression}.\",\n",
    "#     \"{name}, {age_group} {gender}, with {expression} look.\",\n",
    "#     \"the {expression} face of {name}, {age_group} {gender}.\",\n",
    "#     \"{name} looks {expression}, is {age_group} {gender}.\",\n",
    "# ]\n",
    "\n",
    "TEMPLATES = [\n",
    "    \"{name}, {gender}, {age_group}, {expression}.\"\n",
    "]\n",
    "\n",
    "def generate_prompts(metadata, num_prompts=NUM_PROMPTS_PER_IMAGE):\n",
    "    prompts = []\n",
    "    for _ in range(num_prompts):\n",
    "        template = random.choice(TEMPLATES)\n",
    "        prompt = template.format(\n",
    "            name=metadata['name'].lower(),\n",
    "            age_group=metadata['age_group'].lower(),\n",
    "            gender=metadata['gender'].lower(),\n",
    "            expression=metadata['expression'].lower()\n",
    "        )\n",
    "        prompts.append(prompt)\n",
    "    return prompts\n",
    "\n",
    "def main():\n",
    "    df = pd.read_csv(INPUT_CSV)\n",
    "\n",
    "    # Check required columns\n",
    "    required_cols = [\"image_filename\", \"name\", \"age_group\", \"gender\", \"expression\"]\n",
    "    for col in required_cols:\n",
    "        if col not in df.columns:\n",
    "            raise ValueError(f\"Input CSV missing required column: {col}\")\n",
    "\n",
    "    expanded_rows = []\n",
    "    for idx, row in df.iterrows():\n",
    "        metadata = {\n",
    "            \"name\": str(row[\"name\"]),\n",
    "            \"age_group\": str(row[\"age_group\"]),\n",
    "            \"gender\": str(row[\"gender\"]),\n",
    "            \"expression\": str(row[\"expression\"])\n",
    "        }\n",
    "        prompts = generate_prompts(metadata)\n",
    "\n",
    "        for prompt in prompts:\n",
    "            expanded_rows.append({\n",
    "                \"image_filename\": row[\"image_filename\"],\n",
    "                \"text_prompt\": prompt,\n",
    "                # You can also add columns like identity, age, gender, expression if needed\n",
    "            })\n",
    "\n",
    "    expanded_df = pd.DataFrame(expanded_rows)\n",
    "    expanded_df.to_csv(OUTPUT_CSV, index=False)\n",
    "    print(f\"✅ Expanded dataset saved to {OUTPUT_CSV}\")\n",
    "    print(f\"Total rows: {len(expanded_df)}\")\n",
    "\n",
    "if __name__ == \"__main__\":\n",
    "    main()\n"
   ],
   "outputs": [
    {
     "name": "stdout",
     "output_type": "stream",
     "text": [
      "✅ Expanded dataset saved to C:/Users/yehte/Downloads/Ye Htet/Projects/TikTok/Annotation/Annotation_Template_Fine_Tune_Consistent_2025-06-30.csv\n",
      "Total rows: 1000\n"
     ]
    }
   ],
   "execution_count": 1
  }
 ],
 "metadata": {
  "kernelspec": {
   "display_name": "Python 3",
   "language": "python",
   "name": "python3"
  },
  "language_info": {
   "codemirror_mode": {
    "name": "ipython",
    "version": 2
   },
   "file_extension": ".py",
   "mimetype": "text/x-python",
   "name": "python",
   "nbconvert_exporter": "python",
   "pygments_lexer": "ipython2",
   "version": "2.7.6"
  }
 },
 "nbformat": 4,
 "nbformat_minor": 5
}
