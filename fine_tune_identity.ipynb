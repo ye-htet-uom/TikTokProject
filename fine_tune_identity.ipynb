{
 "cells": [
  {
   "cell_type": "code",
   "id": "initial_id",
   "metadata": {
    "collapsed": true,
    "ExecuteTime": {
     "end_time": "2025-07-02T01:42:56.769812Z",
     "start_time": "2025-07-02T01:13:25.198103Z"
    }
   },
   "source": [
    "import os\n",
    "import pandas as pd\n",
    "import torch\n",
    "from torch.utils.data import Dataset, DataLoader\n",
    "from torchvision import transforms\n",
    "from PIL import Image\n",
    "import open_clip\n",
    "from tqdm import tqdm\n",
    "import matplotlib.pyplot as plt\n",
    "import textwrap\n",
    "import re\n",
    "\n",
    "# ------------------------------\n",
    "# DEBUGGING & CONFIGURATION\n",
    "# ------------------------------\n",
    "# This forces CUDA operations to be synchronous for accurate error reporting.\n",
    "os.environ['CUDA_LAUNCH_BLOCKING'] = \"1\"\n",
    "\n",
    "CONFIG = {\n",
    "    \"model_name\": \"ViT-B-16\",\n",
    "    \"pretrained\": \"openai\",\n",
    "    \"csv_train\": \"C:/Users/yehte/Downloads/Ye Htet/Projects/TikTok/Annotation/fine-tune/train.csv\",\n",
    "    \"csv_val\": \"C:/Users/yehte/Downloads/Ye Htet/Projects/TikTok/Annotation/fine-tune/valid.csv\",\n",
    "    \"csv_test\": \"C:/Users/yehte/Downloads/Ye Htet/Projects/TikTok/Annotation/fine-tune/test.csv\",\n",
    "    \"save_path\": \"finetuned_identity_only_best_ViT-B-16_openai.pt\",\n",
    "    \"plot_save_dir\": \"test_results_identity_only_ViT-B-16_openai\",\n",
    "    \"num_plots\": 100,\n",
    "    \"batch_size\": 32, # Start small for large models like ViT-H-14\n",
    "    \"epochs\": 100,\n",
    "    \"lr\": 1e-6,\n",
    "    \"patience\": 5,\n",
    "    \"device\": \"cuda\" if torch.cuda.is_available() else \"cpu\",\n",
    "\n",
    "    # --- SIMPLIFIED: Prompts for Identity ONLY ---\n",
    "    \"identity_prompts\": [\n",
    "        \"A face of Soekarno, a male First President (1945-1967) from Indonesia.\",\n",
    "        \"A face of Suharto, a male Second President (1967-1998) from Indonesia.\",\n",
    "        \"A face of Baharuddin Jusuf Habibie, a male Third President (1998-1999) from Indonesia.\",\n",
    "        \"A face of Abdurrahman Wahid, a male Fourth President (1999-2001) from Indonesia.\",\n",
    "        \"A face of Megawati Sukarnoputri, a female Fifth President (2001-2004) from Indonesia.\",\n",
    "        \"A face of Susilo Bambang Yudhoyono, a male Sixth President (2004-2014) from Indonesia.\",\n",
    "        \"A face of Joko Widodo, a male Seventh President (2014-2024) from Indonesia.\",\n",
    "        \"A face of Prabowo Subianto, a male Eight President (2024-Present) from Indonesia.\",\n",
    "        \"A face of Anies Rasyid Baswedan, a male Governor of Jakarta (2017-2022) and Presidential Candidate Election (2024) from Indonesia.\",\n",
    "        \"A face of Ganjar Pranowo, a male Governor of Central Java (2013-2023) and Presidential Candidate Election (2024) from Indonesia.\",\n",
    "        \"A face of Gibran Rakabuming Raka, a male Vice President (2024-2029) from Indonesia.\",\n",
    "        \"A face of Maruf Amin, a male Vice President (2019-2024) from Indonesia.\",\n",
    "        \"A face of Airlangga Hartarto, a male Coordinating Minister of Economic Affairs (2024-2029) from Indonesia.\",\n",
    "        \"A face of Sri Mulyani Indrawati, a female Minister of Finance (2024-2029) from Indonesia.\",\n",
    "        \"A face of Erick Thohir, a male Minister of State Owned Entreprises (2024-2029) from Indonesia.\",\n",
    "        \"A face of Agus Harimurti Yudhoyono, a male Coordinating Minister of Agrarian Affairs and Spatial Planning (2024-2029) and Chairman of Democratic Party from Indonesia.\",\n",
    "        \"A face of Muhaimin Iskandar, a male Coordinating Minister of Social Empowrement (2024-2029) and Chairman of National Awakening Party from Indonesia.\",\n",
    "        \"A face of Mahfud MD, a male Coordinating Minister of Political, Legal, and Security Affairs (2019-2024) from Indonesia.\",\n",
    "        \"A face of Boediono, a male Vice President (2009-2014) from Indonesia.\",\n",
    "        \"A face of Jusuf Kalla, a male Vice President (2004-2009) and Vice President (2014-2019) from Indonesia.\"\n",
    "    ]\n",
    "}\n",
    "\n",
    "# --- Create simplified keys from prompts for mapping ---\n",
    "CONFIG[\"identity_keys\"] = [p.replace(\"A face of \", \"\").split(\",\")[0] for p in CONFIG[\"identity_prompts\"]]\n",
    "print(CONFIG[\"identity_keys\"])\n",
    "\n",
    "# ------------------------------\n",
    "# Helper Function for Parsing\n",
    "# ------------------------------\n",
    "def parse_identity_from_prompt(prompt_text):\n",
    "    \"\"\"\n",
    "    A more robust parser to find any of the identity keys in the prompt\n",
    "    using word boundaries to ensure exact matches.\n",
    "    \"\"\"\n",
    "    # Search for any of the names from the key list in the prompt text\n",
    "    for name in CONFIG[\"identity_keys\"]:\n",
    "        # Use regex with word boundaries (\\b) to match the whole name\n",
    "        if re.search(r'\\b' + re.escape(name) + r'\\b', prompt_text, re.IGNORECASE):\n",
    "            return name\n",
    "    return None\n",
    "\n",
    "# ------------------------------\n",
    "# Preprocessing and Caching\n",
    "# ------------------------------\n",
    "def preprocess_and_cache_csv(csv_path):\n",
    "    \"\"\"\n",
    "    Parses prompts for identity and saves a cached version.\n",
    "    \"\"\"\n",
    "    cache_path = csv_path.replace(\".csv\", \".identity_cached.csv\")\n",
    "    if os.path.exists(cache_path):\n",
    "        print(f\"Loading preprocessed identity data from cache: {cache_path}\")\n",
    "        try:\n",
    "            df_cache = pd.read_csv(cache_path)\n",
    "            if df_cache.empty:\n",
    "                 print(\"Warning: Cached file is empty. Reprocessing.\")\n",
    "            else:\n",
    "                return df_cache\n",
    "        except pd.errors.EmptyDataError:\n",
    "            print(f\"Warning: Cached file is empty. Reprocessing.\")\n",
    "\n",
    "    print(f\"Preprocessing identity data and caching: {csv_path}\")\n",
    "    try:\n",
    "        df = pd.read_csv(csv_path)\n",
    "    except (FileNotFoundError, pd.errors.EmptyDataError):\n",
    "        print(f\"Error or empty file at {csv_path}\")\n",
    "        return None\n",
    "\n",
    "    new_data = []\n",
    "    for _, row in tqdm(df.iterrows(), total=len(df), desc=f\"Preprocessing {os.path.basename(csv_path)}\"):\n",
    "        name = parse_identity_from_prompt(row['prompt'])\n",
    "        if name:\n",
    "            row_data = {\n",
    "                'filepath': row['filepath'],\n",
    "                'prompt': row['prompt'],\n",
    "                'identity_idx': CONFIG[\"identity_keys\"].index(name)\n",
    "            }\n",
    "            new_data.append(row_data)\n",
    "\n",
    "    if not new_data:\n",
    "        print(\"Warning: Preprocessing resulted in an empty dataset.\")\n",
    "        return None\n",
    "\n",
    "    cached_df = pd.DataFrame(new_data)\n",
    "    cached_df.to_csv(cache_path, index=False)\n",
    "    return cached_df\n",
    "\n",
    "# ------------------------------\n",
    "# Dataset Class\n",
    "# ------------------------------\n",
    "class IdentityDataset(Dataset):\n",
    "    def __init__(self, df, preprocess):\n",
    "        self.df = df if df is not None else pd.DataFrame()\n",
    "        self.preprocess = preprocess\n",
    "\n",
    "    def __len__(self):\n",
    "        return len(self.df)\n",
    "\n",
    "    def __getitem__(self, idx):\n",
    "        row = self.df.iloc[idx]\n",
    "        image_path = row[\"filepath\"]\n",
    "        try:\n",
    "            image = Image.open(image_path).convert(\"RGB\")\n",
    "            image = self.preprocess(image)\n",
    "        except FileNotFoundError:\n",
    "            image = torch.zeros((3, 224, 224))\n",
    "\n",
    "        identity_idx = torch.tensor(row[\"identity_idx\"])\n",
    "        return image, identity_idx, image_path\n",
    "\n",
    "# ------------------------------\n",
    "# Training and Evaluation Functions\n",
    "# ------------------------------\n",
    "def train_and_validate(model, train_loader, val_loader, identity_text_features):\n",
    "    optimizer = torch.optim.AdamW(model.parameters(), lr=CONFIG[\"lr\"])\n",
    "    loss_fn = torch.nn.CrossEntropyLoss()\n",
    "    best_val_loss = float(\"inf\")\n",
    "    patience_counter = 0\n",
    "    model_saved = False\n",
    "\n",
    "    for epoch in range(CONFIG[\"epochs\"]):\n",
    "        model.train()\n",
    "        total_train_loss = 0\n",
    "        for images, gt_indices, _ in tqdm(train_loader, desc=f\"Epoch {epoch+1}/{CONFIG['epochs']} [Train]\"):\n",
    "            images, gt_indices = images.to(CONFIG[\"device\"]), gt_indices.to(CONFIG[\"device\"])\n",
    "\n",
    "            image_features = model.encode_image(images)\n",
    "            image_features = image_features / image_features.norm(dim=-1, keepdim=True)\n",
    "\n",
    "            logits_per_image = (100.0 * image_features @ identity_text_features.T)\n",
    "\n",
    "            loss = loss_fn(logits_per_image, gt_indices)\n",
    "\n",
    "            optimizer.zero_grad(); loss.backward(); optimizer.step()\n",
    "            total_train_loss += loss.item()\n",
    "\n",
    "        avg_train_loss = total_train_loss / len(train_loader)\n",
    "\n",
    "        model.eval()\n",
    "        total_val_loss = 0\n",
    "        with torch.no_grad():\n",
    "            for images, gt_indices, _ in tqdm(val_loader, desc=f\"Epoch {epoch+1}/{CONFIG['epochs']} [Val]\"):\n",
    "                images, gt_indices = images.to(CONFIG[\"device\"]), gt_indices.to(CONFIG[\"device\"])\n",
    "                image_features = model.encode_image(images)\n",
    "                image_features = image_features / image_features.norm(dim=-1, keepdim=True)\n",
    "                logits_per_image = (100.0 * image_features @ identity_text_features.T)\n",
    "                loss = loss_fn(logits_per_image, gt_indices)\n",
    "                total_val_loss += loss.item()\n",
    "\n",
    "        avg_val_loss = total_val_loss / len(val_loader)\n",
    "        print(f\"✅ Epoch {epoch+1}: Train Loss = {avg_train_loss:.4f}, Val Loss = {avg_val_loss:.4f}\")\n",
    "\n",
    "        if avg_val_loss < best_val_loss:\n",
    "            best_val_loss = avg_val_loss\n",
    "            torch.save(model.state_dict(), CONFIG[\"save_path\"])\n",
    "            print(f\"🎉 Saved best model to {CONFIG['save_path']}\")\n",
    "            patience_counter = 0\n",
    "            model_saved = True\n",
    "        else:\n",
    "            patience_counter += 1\n",
    "            print(f\"⚠️ No improvement. Patience: {patience_counter}/{CONFIG['patience']}\")\n",
    "        if patience_counter >= CONFIG[\"patience\"]:\n",
    "            print(\"🛑 Early stopping triggered.\"); break\n",
    "\n",
    "    return model_saved\n",
    "\n",
    "\n",
    "def test_and_plot(model, identity_text_features, preprocess):\n",
    "    print(\"\\n--- Starting Final Testing and Plotting Phase ---\")\n",
    "    model.load_state_dict(torch.load(CONFIG[\"save_path\"])); model.to(CONFIG[\"device\"]).eval()\n",
    "    print(\"Best model loaded.\")\n",
    "\n",
    "    test_df = preprocess_and_cache_csv(CONFIG[\"csv_test\"])\n",
    "    if test_df is None or test_df.empty:\n",
    "        print(f\"Error or empty data in test CSV. Halting testing.\")\n",
    "        return\n",
    "\n",
    "    test_dataset = IdentityDataset(test_df, preprocess)\n",
    "    test_loader = DataLoader(test_dataset, batch_size=CONFIG[\"batch_size\"], shuffle=False)\n",
    "\n",
    "    correct_predictions, total_samples = 0, 0\n",
    "    all_results = []\n",
    "\n",
    "    with torch.no_grad():\n",
    "        for images, gt_indices, image_paths in tqdm(test_loader, desc=\"[Testing]\"):\n",
    "            images = images.to(CONFIG[\"device\"])\n",
    "            image_features = model.encode_image(images)\n",
    "            image_features = image_features / image_features.norm(dim=-1, keepdim=True)\n",
    "\n",
    "            logits = (100.0 * image_features @ identity_text_features.T)\n",
    "            preds = logits.argmax(dim=-1)\n",
    "\n",
    "            for i in range(len(images)):\n",
    "                is_correct = (preds[i] == gt_indices[i]).item()\n",
    "                if is_correct: correct_predictions += 1\n",
    "\n",
    "                all_results.append({\n",
    "                    \"image_path\": image_paths[i],\n",
    "                    \"ground_truth\": CONFIG[\"identity_keys\"][gt_indices[i]],\n",
    "                    \"prediction\": CONFIG[\"identity_keys\"][preds[i]],\n",
    "                    \"is_correct\": is_correct\n",
    "                })\n",
    "            total_samples += len(images)\n",
    "\n",
    "    if total_samples > 0:\n",
    "        accuracy = (correct_predictions / total_samples) * 100\n",
    "        print(f\"\\n📊 Test Accuracy: {accuracy:.2f}%\")\n",
    "    else:\n",
    "        print(\"No valid samples were processed in the test set.\")\n",
    "\n",
    "    print(f\"\\n--- Plotting up to {CONFIG['num_plots']} results ---\")\n",
    "    os.makedirs(CONFIG[\"plot_save_dir\"], exist_ok=True)\n",
    "\n",
    "    for i, result in enumerate(all_results):\n",
    "        if i >= CONFIG[\"num_plots\"]: break\n",
    "        try:\n",
    "            img = Image.open(result[\"image_path\"])\n",
    "        except FileNotFoundError: continue\n",
    "\n",
    "        fig, ax = plt.subplots(figsize=(8, 10))\n",
    "        ax.imshow(img); ax.axis(\"off\")\n",
    "\n",
    "        title = f\"Result {i+1}: {'CORRECT' if result['is_correct'] else 'INCORRECT'}\"\n",
    "        color = 'green' if result['is_correct'] else 'red'\n",
    "        fig.suptitle(title, fontsize=16, color=color)\n",
    "\n",
    "        text = (f\"Ground Truth: {result['ground_truth']}\\n\"\n",
    "                f\"Prediction:   {result['prediction']}\")\n",
    "\n",
    "        ax.set_title(text, fontsize=12, pad=10)\n",
    "\n",
    "        save_name = f\"result_{i+1}_{'correct' if result['is_correct'] else 'incorrect'}.png\"\n",
    "        plt.savefig(os.path.join(CONFIG[\"plot_save_dir\"], save_name), bbox_inches='tight')\n",
    "        plt.close(fig)\n",
    "\n",
    "    print(\"--- Plotting complete ---\")\n",
    "\n",
    "# ==============================\n",
    "#      MAIN EXECUTION BLOCK\n",
    "# ==============================\n",
    "if __name__ == '__main__':\n",
    "    print(f\"Using device: {CONFIG['device']}\")\n",
    "    # --- ADDED: Version checking and Memory check for easier debugging ---\n",
    "    print(f\"PyTorch Version: {torch.__version__}\")\n",
    "    if torch.cuda.is_available():\n",
    "        print(f\"CUDA Version: {torch.version.cuda}\")\n",
    "        print(f\"cuDNN Version: {torch.backends.cudnn.version()}\")\n",
    "        t = torch.cuda.get_device_properties(0).total_memory / (1024**3)\n",
    "        r = torch.cuda.memory_reserved(0) / (1024**3)\n",
    "        a = torch.cuda.memory_allocated(0) / (1024**3)\n",
    "        print(f\"GPU Memory: Total={t:.2f}GB, Reserved={r:.2f}GB, Allocated={a:.2f}GB\")\n",
    "\n",
    "\n",
    "    model, _, preprocess = open_clip.create_model_and_transforms(\n",
    "        CONFIG[\"model_name\"], pretrained=CONFIG[\"pretrained\"], device=CONFIG[\"device\"]\n",
    "    )\n",
    "    tokenizer = open_clip.get_tokenizer(CONFIG[\"model_name\"])\n",
    "\n",
    "    with torch.no_grad():\n",
    "        identity_text_tokens = tokenizer(CONFIG[\"identity_prompts\"]).to(CONFIG[\"device\"])\n",
    "        identity_text_features = model.encode_text(identity_text_tokens)\n",
    "        identity_text_features = identity_text_features / identity_text_features.norm(dim=-1, keepdim=True)\n",
    "\n",
    "    train_df = preprocess_and_cache_csv(CONFIG[\"csv_train\"])\n",
    "    val_df = preprocess_and_cache_csv(CONFIG[\"csv_val\"])\n",
    "\n",
    "    if train_df is not None and val_df is not None and not train_df.empty and not val_df.empty:\n",
    "        train_dataset = IdentityDataset(train_df, preprocess)\n",
    "        val_dataset = IdentityDataset(val_df, preprocess)\n",
    "        train_loader = DataLoader(train_dataset, batch_size=CONFIG[\"batch_size\"], shuffle=True)\n",
    "        val_loader = DataLoader(val_dataset, batch_size=CONFIG[\"batch_size\"], shuffle=False)\n",
    "\n",
    "        training_successful = train_and_validate(model, train_loader, val_loader, identity_text_features)\n",
    "\n",
    "        if training_successful:\n",
    "            test_and_plot(model, identity_text_features, preprocess)\n",
    "        else:\n",
    "            print(\"\\nSkipping testing phase: No model was saved during training.\")\n",
    "    else:\n",
    "\n",
    "        print(\"\\nSkipping training: Training/validation datasets are empty or could not be loaded.\")\n"
   ],
   "outputs": [
    {
     "name": "stdout",
     "output_type": "stream",
     "text": [
      "['Soekarno', 'Suharto', 'Baharuddin Jusuf Habibie', 'Abdurrahman Wahid', 'Megawati Sukarnoputri', 'Susilo Bambang Yudhoyono', 'Joko Widodo', 'Prabowo Subianto', 'Anies Rasyid Baswedan', 'Ganjar Pranowo', 'Gibran Rakabuming Raka', 'Maruf Amin', 'Airlangga Hartarto', 'Sri Mulyani Indrawati', 'Erick Thohir', 'Agus Harimurti Yudhoyono', 'Muhaimin Iskandar', 'Mahfud MD', 'Boediono', 'Jusuf Kalla']\n",
      "Using device: cuda\n",
      "PyTorch Version: 2.8.0.dev20250507+cu128\n",
      "CUDA Version: 12.8\n",
      "cuDNN Version: 90701\n",
      "GPU Memory: Total=11.94GB, Reserved=0.00GB, Allocated=0.00GB\n"
     ]
    },
    {
     "data": {
      "text/plain": [
       "open_clip_model.safetensors:   0%|          | 0.00/599M [00:00<?, ?B/s]"
      ],
      "application/vnd.jupyter.widget-view+json": {
       "version_major": 2,
       "version_minor": 0,
       "model_id": "ec8bfa10dafb44348e2c59d4ce19bfd3"
      }
     },
     "metadata": {},
     "output_type": "display_data"
    },
    {
     "name": "stderr",
     "output_type": "stream",
     "text": [
      "C:\\Users\\yehte\\PycharmProjects\\TikTokProject\\.venv\\Lib\\site-packages\\huggingface_hub\\file_download.py:143: UserWarning: `huggingface_hub` cache-system uses symlinks by default to efficiently store duplicated files but your machine does not support them in C:\\Users\\yehte\\.cache\\huggingface\\hub\\models--timm--vit_base_patch16_clip_224.openai. Caching files will still work but in a degraded version that might require more space on your disk. This warning can be disabled by setting the `HF_HUB_DISABLE_SYMLINKS_WARNING` environment variable. For more details, see https://huggingface.co/docs/huggingface_hub/how-to-cache#limitations.\n",
      "To support symlinks on Windows, you either need to activate Developer Mode or to run Python as an administrator. In order to activate developer mode, see this article: https://docs.microsoft.com/en-us/windows/apps/get-started/enable-your-device-for-development\n",
      "  warnings.warn(message)\n",
      "C:\\Users\\yehte\\PycharmProjects\\TikTokProject\\.venv\\Lib\\site-packages\\open_clip\\factory.py:388: UserWarning: These pretrained weights were trained with QuickGELU activation but the model config does not have that enabled. Consider using a model config with a \"-quickgelu\" suffix or enable with a flag.\n",
      "  warnings.warn(\n"
     ]
    },
    {
     "name": "stdout",
     "output_type": "stream",
     "text": [
      "Loading preprocessed identity data from cache: C:/Users/yehte/Downloads/Ye Htet/Projects/TikTok/Annotation/fine-tune/train.identity_cached.csv\n",
      "Loading preprocessed identity data from cache: C:/Users/yehte/Downloads/Ye Htet/Projects/TikTok/Annotation/fine-tune/valid.identity_cached.csv\n"
     ]
    },
    {
     "name": "stderr",
     "output_type": "stream",
     "text": [
      "Epoch 1/100 [Train]: 100%|██████████| 22/22 [00:14<00:00,  1.50it/s]\n",
      "Epoch 1/100 [Val]: 100%|██████████| 7/7 [00:02<00:00,  3.11it/s]\n"
     ]
    },
    {
     "name": "stdout",
     "output_type": "stream",
     "text": [
      "✅ Epoch 1: Train Loss = 1.5608, Val Loss = 1.1274\n",
      "🎉 Saved best model to finetuned_identity_only_best_ViT-B-16_openai.pt\n"
     ]
    },
    {
     "name": "stderr",
     "output_type": "stream",
     "text": [
      "Epoch 2/100 [Train]: 100%|██████████| 22/22 [00:10<00:00,  2.08it/s]\n",
      "Epoch 2/100 [Val]: 100%|██████████| 7/7 [00:01<00:00,  3.61it/s]\n"
     ]
    },
    {
     "name": "stdout",
     "output_type": "stream",
     "text": [
      "✅ Epoch 2: Train Loss = 0.8952, Val Loss = 0.7335\n",
      "🎉 Saved best model to finetuned_identity_only_best_ViT-B-16_openai.pt\n"
     ]
    },
    {
     "name": "stderr",
     "output_type": "stream",
     "text": [
      "Epoch 3/100 [Train]: 100%|██████████| 22/22 [00:10<00:00,  2.11it/s]\n",
      "Epoch 3/100 [Val]: 100%|██████████| 7/7 [00:03<00:00,  2.18it/s]\n"
     ]
    },
    {
     "name": "stdout",
     "output_type": "stream",
     "text": [
      "✅ Epoch 3: Train Loss = 0.5238, Val Loss = 0.4906\n",
      "🎉 Saved best model to finetuned_identity_only_best_ViT-B-16_openai.pt\n"
     ]
    },
    {
     "name": "stderr",
     "output_type": "stream",
     "text": [
      "Epoch 4/100 [Train]: 100%|██████████| 22/22 [00:11<00:00,  1.90it/s]\n",
      "Epoch 4/100 [Val]: 100%|██████████| 7/7 [00:02<00:00,  2.56it/s]\n"
     ]
    },
    {
     "name": "stdout",
     "output_type": "stream",
     "text": [
      "✅ Epoch 4: Train Loss = 0.3004, Val Loss = 0.3786\n",
      "🎉 Saved best model to finetuned_identity_only_best_ViT-B-16_openai.pt\n"
     ]
    },
    {
     "name": "stderr",
     "output_type": "stream",
     "text": [
      "Epoch 5/100 [Train]: 100%|██████████| 22/22 [00:15<00:00,  1.44it/s]\n",
      "Epoch 5/100 [Val]: 100%|██████████| 7/7 [00:01<00:00,  3.57it/s]\n"
     ]
    },
    {
     "name": "stdout",
     "output_type": "stream",
     "text": [
      "✅ Epoch 5: Train Loss = 0.1810, Val Loss = 0.2872\n",
      "🎉 Saved best model to finetuned_identity_only_best_ViT-B-16_openai.pt\n"
     ]
    },
    {
     "name": "stderr",
     "output_type": "stream",
     "text": [
      "Epoch 6/100 [Train]: 100%|██████████| 22/22 [00:10<00:00,  2.12it/s]\n",
      "Epoch 6/100 [Val]: 100%|██████████| 7/7 [00:01<00:00,  3.63it/s]\n"
     ]
    },
    {
     "name": "stdout",
     "output_type": "stream",
     "text": [
      "✅ Epoch 6: Train Loss = 0.1117, Val Loss = 0.2394\n",
      "🎉 Saved best model to finetuned_identity_only_best_ViT-B-16_openai.pt\n"
     ]
    },
    {
     "name": "stderr",
     "output_type": "stream",
     "text": [
      "Epoch 7/100 [Train]: 100%|██████████| 22/22 [00:10<00:00,  2.10it/s]\n",
      "Epoch 7/100 [Val]: 100%|██████████| 7/7 [00:01<00:00,  3.63it/s]\n"
     ]
    },
    {
     "name": "stdout",
     "output_type": "stream",
     "text": [
      "✅ Epoch 7: Train Loss = 0.0730, Val Loss = 0.2098\n",
      "🎉 Saved best model to finetuned_identity_only_best_ViT-B-16_openai.pt\n"
     ]
    },
    {
     "name": "stderr",
     "output_type": "stream",
     "text": [
      "Epoch 8/100 [Train]: 100%|██████████| 22/22 [00:10<00:00,  2.11it/s]\n",
      "Epoch 8/100 [Val]: 100%|██████████| 7/7 [00:01<00:00,  3.58it/s]\n"
     ]
    },
    {
     "name": "stdout",
     "output_type": "stream",
     "text": [
      "✅ Epoch 8: Train Loss = 0.0531, Val Loss = 0.1916\n",
      "🎉 Saved best model to finetuned_identity_only_best_ViT-B-16_openai.pt\n"
     ]
    },
    {
     "name": "stderr",
     "output_type": "stream",
     "text": [
      "Epoch 9/100 [Train]: 100%|██████████| 22/22 [00:10<00:00,  2.08it/s]\n",
      "Epoch 9/100 [Val]: 100%|██████████| 7/7 [00:01<00:00,  3.59it/s]\n"
     ]
    },
    {
     "name": "stdout",
     "output_type": "stream",
     "text": [
      "✅ Epoch 9: Train Loss = 0.0400, Val Loss = 0.1786\n",
      "🎉 Saved best model to finetuned_identity_only_best_ViT-B-16_openai.pt\n"
     ]
    },
    {
     "name": "stderr",
     "output_type": "stream",
     "text": [
      "Epoch 10/100 [Train]: 100%|██████████| 22/22 [00:10<00:00,  2.10it/s]\n",
      "Epoch 10/100 [Val]: 100%|██████████| 7/7 [00:01<00:00,  3.67it/s]\n"
     ]
    },
    {
     "name": "stdout",
     "output_type": "stream",
     "text": [
      "✅ Epoch 10: Train Loss = 0.0316, Val Loss = 0.1659\n",
      "🎉 Saved best model to finetuned_identity_only_best_ViT-B-16_openai.pt\n"
     ]
    },
    {
     "name": "stderr",
     "output_type": "stream",
     "text": [
      "Epoch 11/100 [Train]: 100%|██████████| 22/22 [00:10<00:00,  2.11it/s]\n",
      "Epoch 11/100 [Val]: 100%|██████████| 7/7 [00:01<00:00,  3.68it/s]\n"
     ]
    },
    {
     "name": "stdout",
     "output_type": "stream",
     "text": [
      "✅ Epoch 11: Train Loss = 0.0254, Val Loss = 0.1591\n",
      "🎉 Saved best model to finetuned_identity_only_best_ViT-B-16_openai.pt\n"
     ]
    },
    {
     "name": "stderr",
     "output_type": "stream",
     "text": [
      "Epoch 12/100 [Train]: 100%|██████████| 22/22 [00:10<00:00,  2.11it/s]\n",
      "Epoch 12/100 [Val]: 100%|██████████| 7/7 [00:01<00:00,  3.65it/s]\n"
     ]
    },
    {
     "name": "stdout",
     "output_type": "stream",
     "text": [
      "✅ Epoch 12: Train Loss = 0.0213, Val Loss = 0.1517\n",
      "🎉 Saved best model to finetuned_identity_only_best_ViT-B-16_openai.pt\n"
     ]
    },
    {
     "name": "stderr",
     "output_type": "stream",
     "text": [
      "Epoch 13/100 [Train]: 100%|██████████| 22/22 [00:10<00:00,  2.12it/s]\n",
      "Epoch 13/100 [Val]: 100%|██████████| 7/7 [00:01<00:00,  3.67it/s]\n"
     ]
    },
    {
     "name": "stdout",
     "output_type": "stream",
     "text": [
      "✅ Epoch 13: Train Loss = 0.0179, Val Loss = 0.1466\n",
      "🎉 Saved best model to finetuned_identity_only_best_ViT-B-16_openai.pt\n"
     ]
    },
    {
     "name": "stderr",
     "output_type": "stream",
     "text": [
      "Epoch 14/100 [Train]: 100%|██████████| 22/22 [00:10<00:00,  2.13it/s]\n",
      "Epoch 14/100 [Val]: 100%|██████████| 7/7 [00:01<00:00,  3.64it/s]\n"
     ]
    },
    {
     "name": "stdout",
     "output_type": "stream",
     "text": [
      "✅ Epoch 14: Train Loss = 0.0155, Val Loss = 0.1414\n",
      "🎉 Saved best model to finetuned_identity_only_best_ViT-B-16_openai.pt\n"
     ]
    },
    {
     "name": "stderr",
     "output_type": "stream",
     "text": [
      "Epoch 15/100 [Train]: 100%|██████████| 22/22 [00:10<00:00,  2.12it/s]\n",
      "Epoch 15/100 [Val]: 100%|██████████| 7/7 [00:01<00:00,  3.62it/s]\n"
     ]
    },
    {
     "name": "stdout",
     "output_type": "stream",
     "text": [
      "✅ Epoch 15: Train Loss = 0.0135, Val Loss = 0.1383\n",
      "🎉 Saved best model to finetuned_identity_only_best_ViT-B-16_openai.pt\n"
     ]
    },
    {
     "name": "stderr",
     "output_type": "stream",
     "text": [
      "Epoch 16/100 [Train]: 100%|██████████| 22/22 [00:10<00:00,  2.12it/s]\n",
      "Epoch 16/100 [Val]: 100%|██████████| 7/7 [00:01<00:00,  3.67it/s]\n"
     ]
    },
    {
     "name": "stdout",
     "output_type": "stream",
     "text": [
      "✅ Epoch 16: Train Loss = 0.0118, Val Loss = 0.1339\n",
      "🎉 Saved best model to finetuned_identity_only_best_ViT-B-16_openai.pt\n"
     ]
    },
    {
     "name": "stderr",
     "output_type": "stream",
     "text": [
      "Epoch 17/100 [Train]: 100%|██████████| 22/22 [00:10<00:00,  2.12it/s]\n",
      "Epoch 17/100 [Val]: 100%|██████████| 7/7 [00:01<00:00,  3.68it/s]\n"
     ]
    },
    {
     "name": "stdout",
     "output_type": "stream",
     "text": [
      "✅ Epoch 17: Train Loss = 0.0105, Val Loss = 0.1306\n",
      "🎉 Saved best model to finetuned_identity_only_best_ViT-B-16_openai.pt\n"
     ]
    },
    {
     "name": "stderr",
     "output_type": "stream",
     "text": [
      "Epoch 18/100 [Train]: 100%|██████████| 22/22 [00:10<00:00,  2.13it/s]\n",
      "Epoch 18/100 [Val]: 100%|██████████| 7/7 [00:01<00:00,  3.58it/s]\n"
     ]
    },
    {
     "name": "stdout",
     "output_type": "stream",
     "text": [
      "✅ Epoch 18: Train Loss = 0.0095, Val Loss = 0.1282\n",
      "🎉 Saved best model to finetuned_identity_only_best_ViT-B-16_openai.pt\n"
     ]
    },
    {
     "name": "stderr",
     "output_type": "stream",
     "text": [
      "Epoch 19/100 [Train]: 100%|██████████| 22/22 [00:10<00:00,  2.13it/s]\n",
      "Epoch 19/100 [Val]: 100%|██████████| 7/7 [00:01<00:00,  3.66it/s]\n"
     ]
    },
    {
     "name": "stdout",
     "output_type": "stream",
     "text": [
      "✅ Epoch 19: Train Loss = 0.0085, Val Loss = 0.1261\n",
      "🎉 Saved best model to finetuned_identity_only_best_ViT-B-16_openai.pt\n"
     ]
    },
    {
     "name": "stderr",
     "output_type": "stream",
     "text": [
      "Epoch 20/100 [Train]: 100%|██████████| 22/22 [00:10<00:00,  2.12it/s]\n",
      "Epoch 20/100 [Val]: 100%|██████████| 7/7 [00:01<00:00,  3.69it/s]\n"
     ]
    },
    {
     "name": "stdout",
     "output_type": "stream",
     "text": [
      "✅ Epoch 20: Train Loss = 0.0077, Val Loss = 0.1236\n",
      "🎉 Saved best model to finetuned_identity_only_best_ViT-B-16_openai.pt\n"
     ]
    },
    {
     "name": "stderr",
     "output_type": "stream",
     "text": [
      "Epoch 21/100 [Train]: 100%|██████████| 22/22 [00:10<00:00,  2.14it/s]\n",
      "Epoch 21/100 [Val]: 100%|██████████| 7/7 [00:01<00:00,  3.72it/s]\n"
     ]
    },
    {
     "name": "stdout",
     "output_type": "stream",
     "text": [
      "✅ Epoch 21: Train Loss = 0.0070, Val Loss = 0.1219\n",
      "🎉 Saved best model to finetuned_identity_only_best_ViT-B-16_openai.pt\n"
     ]
    },
    {
     "name": "stderr",
     "output_type": "stream",
     "text": [
      "Epoch 22/100 [Train]: 100%|██████████| 22/22 [00:10<00:00,  2.14it/s]\n",
      "Epoch 22/100 [Val]: 100%|██████████| 7/7 [00:01<00:00,  3.68it/s]\n"
     ]
    },
    {
     "name": "stdout",
     "output_type": "stream",
     "text": [
      "✅ Epoch 22: Train Loss = 0.0064, Val Loss = 0.1203\n",
      "🎉 Saved best model to finetuned_identity_only_best_ViT-B-16_openai.pt\n"
     ]
    },
    {
     "name": "stderr",
     "output_type": "stream",
     "text": [
      "Epoch 23/100 [Train]: 100%|██████████| 22/22 [00:10<00:00,  2.13it/s]\n",
      "Epoch 23/100 [Val]: 100%|██████████| 7/7 [00:01<00:00,  3.70it/s]\n"
     ]
    },
    {
     "name": "stdout",
     "output_type": "stream",
     "text": [
      "✅ Epoch 23: Train Loss = 0.0059, Val Loss = 0.1185\n",
      "🎉 Saved best model to finetuned_identity_only_best_ViT-B-16_openai.pt\n"
     ]
    },
    {
     "name": "stderr",
     "output_type": "stream",
     "text": [
      "Epoch 24/100 [Train]: 100%|██████████| 22/22 [00:10<00:00,  2.15it/s]\n",
      "Epoch 24/100 [Val]: 100%|██████████| 7/7 [00:01<00:00,  3.65it/s]\n"
     ]
    },
    {
     "name": "stdout",
     "output_type": "stream",
     "text": [
      "✅ Epoch 24: Train Loss = 0.0055, Val Loss = 0.1171\n",
      "🎉 Saved best model to finetuned_identity_only_best_ViT-B-16_openai.pt\n"
     ]
    },
    {
     "name": "stderr",
     "output_type": "stream",
     "text": [
      "Epoch 25/100 [Train]: 100%|██████████| 22/22 [00:10<00:00,  2.14it/s]\n",
      "Epoch 25/100 [Val]: 100%|██████████| 7/7 [00:01<00:00,  3.62it/s]\n"
     ]
    },
    {
     "name": "stdout",
     "output_type": "stream",
     "text": [
      "✅ Epoch 25: Train Loss = 0.0051, Val Loss = 0.1153\n",
      "🎉 Saved best model to finetuned_identity_only_best_ViT-B-16_openai.pt\n"
     ]
    },
    {
     "name": "stderr",
     "output_type": "stream",
     "text": [
      "Epoch 26/100 [Train]: 100%|██████████| 22/22 [00:10<00:00,  2.11it/s]\n",
      "Epoch 26/100 [Val]: 100%|██████████| 7/7 [00:01<00:00,  3.69it/s]\n"
     ]
    },
    {
     "name": "stdout",
     "output_type": "stream",
     "text": [
      "✅ Epoch 26: Train Loss = 0.0047, Val Loss = 0.1144\n",
      "🎉 Saved best model to finetuned_identity_only_best_ViT-B-16_openai.pt\n"
     ]
    },
    {
     "name": "stderr",
     "output_type": "stream",
     "text": [
      "Epoch 27/100 [Train]: 100%|██████████| 22/22 [00:10<00:00,  2.10it/s]\n",
      "Epoch 27/100 [Val]: 100%|██████████| 7/7 [00:01<00:00,  3.70it/s]\n"
     ]
    },
    {
     "name": "stdout",
     "output_type": "stream",
     "text": [
      "✅ Epoch 27: Train Loss = 0.0044, Val Loss = 0.1132\n",
      "🎉 Saved best model to finetuned_identity_only_best_ViT-B-16_openai.pt\n"
     ]
    },
    {
     "name": "stderr",
     "output_type": "stream",
     "text": [
      "Epoch 28/100 [Train]: 100%|██████████| 22/22 [00:10<00:00,  2.11it/s]\n",
      "Epoch 28/100 [Val]: 100%|██████████| 7/7 [00:01<00:00,  3.65it/s]\n"
     ]
    },
    {
     "name": "stdout",
     "output_type": "stream",
     "text": [
      "✅ Epoch 28: Train Loss = 0.0041, Val Loss = 0.1123\n",
      "🎉 Saved best model to finetuned_identity_only_best_ViT-B-16_openai.pt\n"
     ]
    },
    {
     "name": "stderr",
     "output_type": "stream",
     "text": [
      "Epoch 29/100 [Train]: 100%|██████████| 22/22 [00:10<00:00,  2.08it/s]\n",
      "Epoch 29/100 [Val]: 100%|██████████| 7/7 [00:01<00:00,  3.55it/s]\n"
     ]
    },
    {
     "name": "stdout",
     "output_type": "stream",
     "text": [
      "✅ Epoch 29: Train Loss = 0.0038, Val Loss = 0.1115\n",
      "🎉 Saved best model to finetuned_identity_only_best_ViT-B-16_openai.pt\n"
     ]
    },
    {
     "name": "stderr",
     "output_type": "stream",
     "text": [
      "Epoch 30/100 [Train]: 100%|██████████| 22/22 [00:10<00:00,  2.10it/s]\n",
      "Epoch 30/100 [Val]: 100%|██████████| 7/7 [00:01<00:00,  3.68it/s]\n"
     ]
    },
    {
     "name": "stdout",
     "output_type": "stream",
     "text": [
      "✅ Epoch 30: Train Loss = 0.0036, Val Loss = 0.1103\n",
      "🎉 Saved best model to finetuned_identity_only_best_ViT-B-16_openai.pt\n"
     ]
    },
    {
     "name": "stderr",
     "output_type": "stream",
     "text": [
      "Epoch 31/100 [Train]: 100%|██████████| 22/22 [00:10<00:00,  2.09it/s]\n",
      "Epoch 31/100 [Val]: 100%|██████████| 7/7 [00:01<00:00,  3.63it/s]\n"
     ]
    },
    {
     "name": "stdout",
     "output_type": "stream",
     "text": [
      "✅ Epoch 31: Train Loss = 0.0034, Val Loss = 0.1095\n",
      "🎉 Saved best model to finetuned_identity_only_best_ViT-B-16_openai.pt\n"
     ]
    },
    {
     "name": "stderr",
     "output_type": "stream",
     "text": [
      "Epoch 32/100 [Train]: 100%|██████████| 22/22 [00:11<00:00,  1.98it/s]\n",
      "Epoch 32/100 [Val]: 100%|██████████| 7/7 [00:03<00:00,  2.25it/s]\n"
     ]
    },
    {
     "name": "stdout",
     "output_type": "stream",
     "text": [
      "✅ Epoch 32: Train Loss = 0.0032, Val Loss = 0.1091\n",
      "🎉 Saved best model to finetuned_identity_only_best_ViT-B-16_openai.pt\n"
     ]
    },
    {
     "name": "stderr",
     "output_type": "stream",
     "text": [
      "Epoch 33/100 [Train]: 100%|██████████| 22/22 [00:14<00:00,  1.50it/s]\n",
      "Epoch 33/100 [Val]: 100%|██████████| 7/7 [00:03<00:00,  1.94it/s]\n"
     ]
    },
    {
     "name": "stdout",
     "output_type": "stream",
     "text": [
      "✅ Epoch 33: Train Loss = 0.0030, Val Loss = 0.1081\n",
      "🎉 Saved best model to finetuned_identity_only_best_ViT-B-16_openai.pt\n"
     ]
    },
    {
     "name": "stderr",
     "output_type": "stream",
     "text": [
      "Epoch 34/100 [Train]: 100%|██████████| 22/22 [00:16<00:00,  1.32it/s]\n",
      "Epoch 34/100 [Val]: 100%|██████████| 7/7 [00:03<00:00,  2.07it/s]\n"
     ]
    },
    {
     "name": "stdout",
     "output_type": "stream",
     "text": [
      "✅ Epoch 34: Train Loss = 0.0028, Val Loss = 0.1071\n",
      "🎉 Saved best model to finetuned_identity_only_best_ViT-B-16_openai.pt\n"
     ]
    },
    {
     "name": "stderr",
     "output_type": "stream",
     "text": [
      "Epoch 35/100 [Train]: 100%|██████████| 22/22 [00:16<00:00,  1.30it/s]\n",
      "Epoch 35/100 [Val]: 100%|██████████| 7/7 [00:03<00:00,  2.10it/s]\n"
     ]
    },
    {
     "name": "stdout",
     "output_type": "stream",
     "text": [
      "✅ Epoch 35: Train Loss = 0.0027, Val Loss = 0.1068\n",
      "🎉 Saved best model to finetuned_identity_only_best_ViT-B-16_openai.pt\n"
     ]
    },
    {
     "name": "stderr",
     "output_type": "stream",
     "text": [
      "Epoch 36/100 [Train]: 100%|██████████| 22/22 [00:17<00:00,  1.26it/s]\n",
      "Epoch 36/100 [Val]: 100%|██████████| 7/7 [00:03<00:00,  1.97it/s]\n"
     ]
    },
    {
     "name": "stdout",
     "output_type": "stream",
     "text": [
      "✅ Epoch 36: Train Loss = 0.0026, Val Loss = 0.1060\n",
      "🎉 Saved best model to finetuned_identity_only_best_ViT-B-16_openai.pt\n"
     ]
    },
    {
     "name": "stderr",
     "output_type": "stream",
     "text": [
      "Epoch 37/100 [Train]: 100%|██████████| 22/22 [00:17<00:00,  1.25it/s]\n",
      "Epoch 37/100 [Val]: 100%|██████████| 7/7 [00:03<00:00,  1.76it/s]\n"
     ]
    },
    {
     "name": "stdout",
     "output_type": "stream",
     "text": [
      "✅ Epoch 37: Train Loss = 0.0024, Val Loss = 0.1053\n",
      "🎉 Saved best model to finetuned_identity_only_best_ViT-B-16_openai.pt\n"
     ]
    },
    {
     "name": "stderr",
     "output_type": "stream",
     "text": [
      "Epoch 38/100 [Train]: 100%|██████████| 22/22 [00:17<00:00,  1.29it/s]\n",
      "Epoch 38/100 [Val]: 100%|██████████| 7/7 [00:03<00:00,  1.84it/s]\n"
     ]
    },
    {
     "name": "stdout",
     "output_type": "stream",
     "text": [
      "✅ Epoch 38: Train Loss = 0.0023, Val Loss = 0.1047\n",
      "🎉 Saved best model to finetuned_identity_only_best_ViT-B-16_openai.pt\n"
     ]
    },
    {
     "name": "stderr",
     "output_type": "stream",
     "text": [
      "Epoch 39/100 [Train]: 100%|██████████| 22/22 [00:16<00:00,  1.37it/s]\n",
      "Epoch 39/100 [Val]: 100%|██████████| 7/7 [00:03<00:00,  2.10it/s]\n"
     ]
    },
    {
     "name": "stdout",
     "output_type": "stream",
     "text": [
      "✅ Epoch 39: Train Loss = 0.0022, Val Loss = 0.1043\n",
      "🎉 Saved best model to finetuned_identity_only_best_ViT-B-16_openai.pt\n"
     ]
    },
    {
     "name": "stderr",
     "output_type": "stream",
     "text": [
      "Epoch 40/100 [Train]: 100%|██████████| 22/22 [00:13<00:00,  1.67it/s]\n",
      "Epoch 40/100 [Val]: 100%|██████████| 7/7 [00:02<00:00,  2.80it/s]\n"
     ]
    },
    {
     "name": "stdout",
     "output_type": "stream",
     "text": [
      "✅ Epoch 40: Train Loss = 0.0021, Val Loss = 0.1038\n",
      "🎉 Saved best model to finetuned_identity_only_best_ViT-B-16_openai.pt\n"
     ]
    },
    {
     "name": "stderr",
     "output_type": "stream",
     "text": [
      "Epoch 41/100 [Train]: 100%|██████████| 22/22 [00:13<00:00,  1.66it/s]\n",
      "Epoch 41/100 [Val]: 100%|██████████| 7/7 [00:03<00:00,  2.12it/s]\n"
     ]
    },
    {
     "name": "stdout",
     "output_type": "stream",
     "text": [
      "✅ Epoch 41: Train Loss = 0.0020, Val Loss = 0.1032\n",
      "🎉 Saved best model to finetuned_identity_only_best_ViT-B-16_openai.pt\n"
     ]
    },
    {
     "name": "stderr",
     "output_type": "stream",
     "text": [
      "Epoch 42/100 [Train]: 100%|██████████| 22/22 [00:15<00:00,  1.38it/s]\n",
      "Epoch 42/100 [Val]: 100%|██████████| 7/7 [00:03<00:00,  2.11it/s]\n"
     ]
    },
    {
     "name": "stdout",
     "output_type": "stream",
     "text": [
      "✅ Epoch 42: Train Loss = 0.0019, Val Loss = 0.1029\n",
      "🎉 Saved best model to finetuned_identity_only_best_ViT-B-16_openai.pt\n"
     ]
    },
    {
     "name": "stderr",
     "output_type": "stream",
     "text": [
      "Epoch 43/100 [Train]: 100%|██████████| 22/22 [00:14<00:00,  1.50it/s]\n",
      "Epoch 43/100 [Val]: 100%|██████████| 7/7 [00:02<00:00,  2.55it/s]\n"
     ]
    },
    {
     "name": "stdout",
     "output_type": "stream",
     "text": [
      "✅ Epoch 43: Train Loss = 0.0018, Val Loss = 0.1025\n",
      "🎉 Saved best model to finetuned_identity_only_best_ViT-B-16_openai.pt\n"
     ]
    },
    {
     "name": "stderr",
     "output_type": "stream",
     "text": [
      "Epoch 44/100 [Train]: 100%|██████████| 22/22 [00:14<00:00,  1.53it/s]\n",
      "Epoch 44/100 [Val]: 100%|██████████| 7/7 [00:02<00:00,  2.61it/s]\n"
     ]
    },
    {
     "name": "stdout",
     "output_type": "stream",
     "text": [
      "✅ Epoch 44: Train Loss = 0.0018, Val Loss = 0.1022\n",
      "🎉 Saved best model to finetuned_identity_only_best_ViT-B-16_openai.pt\n"
     ]
    },
    {
     "name": "stderr",
     "output_type": "stream",
     "text": [
      "Epoch 45/100 [Train]: 100%|██████████| 22/22 [00:14<00:00,  1.54it/s]\n",
      "Epoch 45/100 [Val]: 100%|██████████| 7/7 [00:02<00:00,  2.38it/s]\n"
     ]
    },
    {
     "name": "stdout",
     "output_type": "stream",
     "text": [
      "✅ Epoch 45: Train Loss = 0.0017, Val Loss = 0.1016\n",
      "🎉 Saved best model to finetuned_identity_only_best_ViT-B-16_openai.pt\n"
     ]
    },
    {
     "name": "stderr",
     "output_type": "stream",
     "text": [
      "Epoch 46/100 [Train]: 100%|██████████| 22/22 [00:14<00:00,  1.53it/s]\n",
      "Epoch 46/100 [Val]: 100%|██████████| 7/7 [00:03<00:00,  1.98it/s]\n"
     ]
    },
    {
     "name": "stdout",
     "output_type": "stream",
     "text": [
      "✅ Epoch 46: Train Loss = 0.0016, Val Loss = 0.1013\n",
      "🎉 Saved best model to finetuned_identity_only_best_ViT-B-16_openai.pt\n"
     ]
    },
    {
     "name": "stderr",
     "output_type": "stream",
     "text": [
      "Epoch 47/100 [Train]: 100%|██████████| 22/22 [00:16<00:00,  1.30it/s]\n",
      "Epoch 47/100 [Val]: 100%|██████████| 7/7 [00:03<00:00,  1.81it/s]\n"
     ]
    },
    {
     "name": "stdout",
     "output_type": "stream",
     "text": [
      "✅ Epoch 47: Train Loss = 0.0016, Val Loss = 0.1011\n",
      "🎉 Saved best model to finetuned_identity_only_best_ViT-B-16_openai.pt\n"
     ]
    },
    {
     "name": "stderr",
     "output_type": "stream",
     "text": [
      "Epoch 48/100 [Train]: 100%|██████████| 22/22 [00:16<00:00,  1.33it/s]\n",
      "Epoch 48/100 [Val]: 100%|██████████| 7/7 [00:03<00:00,  1.90it/s]\n"
     ]
    },
    {
     "name": "stdout",
     "output_type": "stream",
     "text": [
      "✅ Epoch 48: Train Loss = 0.0015, Val Loss = 0.1006\n",
      "🎉 Saved best model to finetuned_identity_only_best_ViT-B-16_openai.pt\n"
     ]
    },
    {
     "name": "stderr",
     "output_type": "stream",
     "text": [
      "Epoch 49/100 [Train]: 100%|██████████| 22/22 [00:16<00:00,  1.32it/s]\n",
      "Epoch 49/100 [Val]: 100%|██████████| 7/7 [00:03<00:00,  1.81it/s]\n"
     ]
    },
    {
     "name": "stdout",
     "output_type": "stream",
     "text": [
      "✅ Epoch 49: Train Loss = 0.0014, Val Loss = 0.1002\n",
      "🎉 Saved best model to finetuned_identity_only_best_ViT-B-16_openai.pt\n"
     ]
    },
    {
     "name": "stderr",
     "output_type": "stream",
     "text": [
      "Epoch 50/100 [Train]: 100%|██████████| 22/22 [00:17<00:00,  1.25it/s]\n",
      "Epoch 50/100 [Val]: 100%|██████████| 7/7 [00:03<00:00,  1.94it/s]\n"
     ]
    },
    {
     "name": "stdout",
     "output_type": "stream",
     "text": [
      "✅ Epoch 50: Train Loss = 0.0014, Val Loss = 0.1002\n",
      "🎉 Saved best model to finetuned_identity_only_best_ViT-B-16_openai.pt\n"
     ]
    },
    {
     "name": "stderr",
     "output_type": "stream",
     "text": [
      "Epoch 51/100 [Train]: 100%|██████████| 22/22 [00:17<00:00,  1.26it/s]\n",
      "Epoch 51/100 [Val]: 100%|██████████| 7/7 [00:03<00:00,  1.90it/s]\n"
     ]
    },
    {
     "name": "stdout",
     "output_type": "stream",
     "text": [
      "✅ Epoch 51: Train Loss = 0.0013, Val Loss = 0.0999\n",
      "🎉 Saved best model to finetuned_identity_only_best_ViT-B-16_openai.pt\n"
     ]
    },
    {
     "name": "stderr",
     "output_type": "stream",
     "text": [
      "Epoch 52/100 [Train]: 100%|██████████| 22/22 [00:16<00:00,  1.34it/s]\n",
      "Epoch 52/100 [Val]: 100%|██████████| 7/7 [00:03<00:00,  1.97it/s]\n"
     ]
    },
    {
     "name": "stdout",
     "output_type": "stream",
     "text": [
      "✅ Epoch 52: Train Loss = 0.0013, Val Loss = 0.0994\n",
      "🎉 Saved best model to finetuned_identity_only_best_ViT-B-16_openai.pt\n"
     ]
    },
    {
     "name": "stderr",
     "output_type": "stream",
     "text": [
      "Epoch 53/100 [Train]: 100%|██████████| 22/22 [00:16<00:00,  1.32it/s]\n",
      "Epoch 53/100 [Val]: 100%|██████████| 7/7 [00:03<00:00,  1.97it/s]\n"
     ]
    },
    {
     "name": "stdout",
     "output_type": "stream",
     "text": [
      "✅ Epoch 53: Train Loss = 0.0012, Val Loss = 0.0995\n",
      "⚠️ No improvement. Patience: 1/5\n"
     ]
    },
    {
     "name": "stderr",
     "output_type": "stream",
     "text": [
      "Epoch 54/100 [Train]: 100%|██████████| 22/22 [00:16<00:00,  1.32it/s]\n",
      "Epoch 54/100 [Val]: 100%|██████████| 7/7 [00:03<00:00,  1.84it/s]\n"
     ]
    },
    {
     "name": "stdout",
     "output_type": "stream",
     "text": [
      "✅ Epoch 54: Train Loss = 0.0012, Val Loss = 0.0990\n",
      "🎉 Saved best model to finetuned_identity_only_best_ViT-B-16_openai.pt\n"
     ]
    },
    {
     "name": "stderr",
     "output_type": "stream",
     "text": [
      "Epoch 55/100 [Train]: 100%|██████████| 22/22 [00:17<00:00,  1.29it/s]\n",
      "Epoch 55/100 [Val]: 100%|██████████| 7/7 [00:03<00:00,  1.82it/s]\n"
     ]
    },
    {
     "name": "stdout",
     "output_type": "stream",
     "text": [
      "✅ Epoch 55: Train Loss = 0.0012, Val Loss = 0.0990\n",
      "🎉 Saved best model to finetuned_identity_only_best_ViT-B-16_openai.pt\n"
     ]
    },
    {
     "name": "stderr",
     "output_type": "stream",
     "text": [
      "Epoch 56/100 [Train]: 100%|██████████| 22/22 [00:17<00:00,  1.28it/s]\n",
      "Epoch 56/100 [Val]: 100%|██████████| 7/7 [00:02<00:00,  2.62it/s]\n"
     ]
    },
    {
     "name": "stdout",
     "output_type": "stream",
     "text": [
      "✅ Epoch 56: Train Loss = 0.0011, Val Loss = 0.0986\n",
      "🎉 Saved best model to finetuned_identity_only_best_ViT-B-16_openai.pt\n"
     ]
    },
    {
     "name": "stderr",
     "output_type": "stream",
     "text": [
      "Epoch 57/100 [Train]: 100%|██████████| 22/22 [00:14<00:00,  1.56it/s]\n",
      "Epoch 57/100 [Val]: 100%|██████████| 7/7 [00:03<00:00,  2.07it/s]\n"
     ]
    },
    {
     "name": "stdout",
     "output_type": "stream",
     "text": [
      "✅ Epoch 57: Train Loss = 0.0011, Val Loss = 0.0983\n",
      "🎉 Saved best model to finetuned_identity_only_best_ViT-B-16_openai.pt\n"
     ]
    },
    {
     "name": "stderr",
     "output_type": "stream",
     "text": [
      "Epoch 58/100 [Train]: 100%|██████████| 22/22 [00:14<00:00,  1.51it/s]\n",
      "Epoch 58/100 [Val]: 100%|██████████| 7/7 [00:02<00:00,  2.57it/s]\n"
     ]
    },
    {
     "name": "stdout",
     "output_type": "stream",
     "text": [
      "✅ Epoch 58: Train Loss = 0.0010, Val Loss = 0.0982\n",
      "🎉 Saved best model to finetuned_identity_only_best_ViT-B-16_openai.pt\n"
     ]
    },
    {
     "name": "stderr",
     "output_type": "stream",
     "text": [
      "Epoch 59/100 [Train]: 100%|██████████| 22/22 [00:13<00:00,  1.57it/s]\n",
      "Epoch 59/100 [Val]: 100%|██████████| 7/7 [00:02<00:00,  2.50it/s]\n"
     ]
    },
    {
     "name": "stdout",
     "output_type": "stream",
     "text": [
      "✅ Epoch 59: Train Loss = 0.0010, Val Loss = 0.0982\n",
      "🎉 Saved best model to finetuned_identity_only_best_ViT-B-16_openai.pt\n"
     ]
    },
    {
     "name": "stderr",
     "output_type": "stream",
     "text": [
      "Epoch 60/100 [Train]: 100%|██████████| 22/22 [00:13<00:00,  1.64it/s]\n",
      "Epoch 60/100 [Val]: 100%|██████████| 7/7 [00:02<00:00,  2.61it/s]\n"
     ]
    },
    {
     "name": "stdout",
     "output_type": "stream",
     "text": [
      "✅ Epoch 60: Train Loss = 0.0010, Val Loss = 0.0978\n",
      "🎉 Saved best model to finetuned_identity_only_best_ViT-B-16_openai.pt\n"
     ]
    },
    {
     "name": "stderr",
     "output_type": "stream",
     "text": [
      "Epoch 61/100 [Train]: 100%|██████████| 22/22 [00:14<00:00,  1.53it/s]\n",
      "Epoch 61/100 [Val]: 100%|██████████| 7/7 [00:02<00:00,  2.65it/s]\n"
     ]
    },
    {
     "name": "stdout",
     "output_type": "stream",
     "text": [
      "✅ Epoch 61: Train Loss = 0.0009, Val Loss = 0.0976\n",
      "🎉 Saved best model to finetuned_identity_only_best_ViT-B-16_openai.pt\n"
     ]
    },
    {
     "name": "stderr",
     "output_type": "stream",
     "text": [
      "Epoch 62/100 [Train]: 100%|██████████| 22/22 [00:13<00:00,  1.62it/s]\n",
      "Epoch 62/100 [Val]: 100%|██████████| 7/7 [00:02<00:00,  2.44it/s]\n"
     ]
    },
    {
     "name": "stdout",
     "output_type": "stream",
     "text": [
      "✅ Epoch 62: Train Loss = 0.0009, Val Loss = 0.0974\n",
      "🎉 Saved best model to finetuned_identity_only_best_ViT-B-16_openai.pt\n"
     ]
    },
    {
     "name": "stderr",
     "output_type": "stream",
     "text": [
      "Epoch 63/100 [Train]: 100%|██████████| 22/22 [00:14<00:00,  1.55it/s]\n",
      "Epoch 63/100 [Val]: 100%|██████████| 7/7 [00:02<00:00,  2.58it/s]\n"
     ]
    },
    {
     "name": "stdout",
     "output_type": "stream",
     "text": [
      "✅ Epoch 63: Train Loss = 0.0009, Val Loss = 0.0973\n",
      "🎉 Saved best model to finetuned_identity_only_best_ViT-B-16_openai.pt\n"
     ]
    },
    {
     "name": "stderr",
     "output_type": "stream",
     "text": [
      "Epoch 64/100 [Train]: 100%|██████████| 22/22 [00:13<00:00,  1.60it/s]\n",
      "Epoch 64/100 [Val]: 100%|██████████| 7/7 [00:02<00:00,  2.59it/s]\n"
     ]
    },
    {
     "name": "stdout",
     "output_type": "stream",
     "text": [
      "✅ Epoch 64: Train Loss = 0.0009, Val Loss = 0.0971\n",
      "🎉 Saved best model to finetuned_identity_only_best_ViT-B-16_openai.pt\n"
     ]
    },
    {
     "name": "stderr",
     "output_type": "stream",
     "text": [
      "Epoch 65/100 [Train]: 100%|██████████| 22/22 [00:16<00:00,  1.35it/s]\n",
      "Epoch 65/100 [Val]: 100%|██████████| 7/7 [00:03<00:00,  2.01it/s]\n"
     ]
    },
    {
     "name": "stdout",
     "output_type": "stream",
     "text": [
      "✅ Epoch 65: Train Loss = 0.0008, Val Loss = 0.0969\n",
      "🎉 Saved best model to finetuned_identity_only_best_ViT-B-16_openai.pt\n"
     ]
    },
    {
     "name": "stderr",
     "output_type": "stream",
     "text": [
      "Epoch 66/100 [Train]: 100%|██████████| 22/22 [00:16<00:00,  1.32it/s]\n",
      "Epoch 66/100 [Val]: 100%|██████████| 7/7 [00:03<00:00,  1.97it/s]\n"
     ]
    },
    {
     "name": "stdout",
     "output_type": "stream",
     "text": [
      "✅ Epoch 66: Train Loss = 0.0008, Val Loss = 0.0970\n",
      "⚠️ No improvement. Patience: 1/5\n"
     ]
    },
    {
     "name": "stderr",
     "output_type": "stream",
     "text": [
      "Epoch 67/100 [Train]: 100%|██████████| 22/22 [00:16<00:00,  1.32it/s]\n",
      "Epoch 67/100 [Val]: 100%|██████████| 7/7 [00:03<00:00,  1.92it/s]\n"
     ]
    },
    {
     "name": "stdout",
     "output_type": "stream",
     "text": [
      "✅ Epoch 67: Train Loss = 0.0008, Val Loss = 0.0968\n",
      "🎉 Saved best model to finetuned_identity_only_best_ViT-B-16_openai.pt\n"
     ]
    },
    {
     "name": "stderr",
     "output_type": "stream",
     "text": [
      "Epoch 68/100 [Train]: 100%|██████████| 22/22 [00:16<00:00,  1.30it/s]\n",
      "Epoch 68/100 [Val]: 100%|██████████| 7/7 [00:03<00:00,  1.83it/s]\n"
     ]
    },
    {
     "name": "stdout",
     "output_type": "stream",
     "text": [
      "✅ Epoch 68: Train Loss = 0.0008, Val Loss = 0.0964\n",
      "🎉 Saved best model to finetuned_identity_only_best_ViT-B-16_openai.pt\n"
     ]
    },
    {
     "name": "stderr",
     "output_type": "stream",
     "text": [
      "Epoch 69/100 [Train]: 100%|██████████| 22/22 [00:16<00:00,  1.30it/s]\n",
      "Epoch 69/100 [Val]: 100%|██████████| 7/7 [00:03<00:00,  1.90it/s]\n"
     ]
    },
    {
     "name": "stdout",
     "output_type": "stream",
     "text": [
      "✅ Epoch 69: Train Loss = 0.0007, Val Loss = 0.0965\n",
      "⚠️ No improvement. Patience: 1/5\n"
     ]
    },
    {
     "name": "stderr",
     "output_type": "stream",
     "text": [
      "Epoch 70/100 [Train]: 100%|██████████| 22/22 [00:16<00:00,  1.31it/s]\n",
      "Epoch 70/100 [Val]: 100%|██████████| 7/7 [00:03<00:00,  1.95it/s]\n"
     ]
    },
    {
     "name": "stdout",
     "output_type": "stream",
     "text": [
      "✅ Epoch 70: Train Loss = 0.0007, Val Loss = 0.0963\n",
      "🎉 Saved best model to finetuned_identity_only_best_ViT-B-16_openai.pt\n"
     ]
    },
    {
     "name": "stderr",
     "output_type": "stream",
     "text": [
      "Epoch 71/100 [Train]: 100%|██████████| 22/22 [00:17<00:00,  1.29it/s]\n",
      "Epoch 71/100 [Val]: 100%|██████████| 7/7 [00:03<00:00,  2.15it/s]\n"
     ]
    },
    {
     "name": "stdout",
     "output_type": "stream",
     "text": [
      "✅ Epoch 71: Train Loss = 0.0007, Val Loss = 0.0961\n",
      "🎉 Saved best model to finetuned_identity_only_best_ViT-B-16_openai.pt\n"
     ]
    },
    {
     "name": "stderr",
     "output_type": "stream",
     "text": [
      "Epoch 72/100 [Train]: 100%|██████████| 22/22 [00:16<00:00,  1.33it/s]\n",
      "Epoch 72/100 [Val]: 100%|██████████| 7/7 [00:02<00:00,  2.40it/s]\n"
     ]
    },
    {
     "name": "stdout",
     "output_type": "stream",
     "text": [
      "✅ Epoch 72: Train Loss = 0.0007, Val Loss = 0.0962\n",
      "⚠️ No improvement. Patience: 1/5\n"
     ]
    },
    {
     "name": "stderr",
     "output_type": "stream",
     "text": [
      "Epoch 73/100 [Train]: 100%|██████████| 22/22 [00:15<00:00,  1.42it/s]\n",
      "Epoch 73/100 [Val]: 100%|██████████| 7/7 [00:03<00:00,  2.06it/s]\n"
     ]
    },
    {
     "name": "stdout",
     "output_type": "stream",
     "text": [
      "✅ Epoch 73: Train Loss = 0.0007, Val Loss = 0.0960\n",
      "🎉 Saved best model to finetuned_identity_only_best_ViT-B-16_openai.pt\n"
     ]
    },
    {
     "name": "stderr",
     "output_type": "stream",
     "text": [
      "Epoch 74/100 [Train]: 100%|██████████| 22/22 [00:16<00:00,  1.37it/s]\n",
      "Epoch 74/100 [Val]: 100%|██████████| 7/7 [00:03<00:00,  2.10it/s]\n"
     ]
    },
    {
     "name": "stdout",
     "output_type": "stream",
     "text": [
      "✅ Epoch 74: Train Loss = 0.0006, Val Loss = 0.0960\n",
      "⚠️ No improvement. Patience: 1/5\n"
     ]
    },
    {
     "name": "stderr",
     "output_type": "stream",
     "text": [
      "Epoch 75/100 [Train]: 100%|██████████| 22/22 [00:16<00:00,  1.32it/s]\n",
      "Epoch 75/100 [Val]: 100%|██████████| 7/7 [00:03<00:00,  1.90it/s]\n"
     ]
    },
    {
     "name": "stdout",
     "output_type": "stream",
     "text": [
      "✅ Epoch 75: Train Loss = 0.0006, Val Loss = 0.0960\n",
      "🎉 Saved best model to finetuned_identity_only_best_ViT-B-16_openai.pt\n"
     ]
    },
    {
     "name": "stderr",
     "output_type": "stream",
     "text": [
      "Epoch 76/100 [Train]: 100%|██████████| 22/22 [00:17<00:00,  1.26it/s]\n",
      "Epoch 76/100 [Val]: 100%|██████████| 7/7 [00:02<00:00,  2.50it/s]\n"
     ]
    },
    {
     "name": "stdout",
     "output_type": "stream",
     "text": [
      "✅ Epoch 76: Train Loss = 0.0006, Val Loss = 0.0957\n",
      "🎉 Saved best model to finetuned_identity_only_best_ViT-B-16_openai.pt\n"
     ]
    },
    {
     "name": "stderr",
     "output_type": "stream",
     "text": [
      "Epoch 77/100 [Train]: 100%|██████████| 22/22 [00:13<00:00,  1.57it/s]\n",
      "Epoch 77/100 [Val]: 100%|██████████| 7/7 [00:02<00:00,  2.41it/s]\n"
     ]
    },
    {
     "name": "stdout",
     "output_type": "stream",
     "text": [
      "✅ Epoch 77: Train Loss = 0.0006, Val Loss = 0.0955\n",
      "🎉 Saved best model to finetuned_identity_only_best_ViT-B-16_openai.pt\n"
     ]
    },
    {
     "name": "stderr",
     "output_type": "stream",
     "text": [
      "Epoch 78/100 [Train]: 100%|██████████| 22/22 [00:13<00:00,  1.60it/s]\n",
      "Epoch 78/100 [Val]: 100%|██████████| 7/7 [00:02<00:00,  2.72it/s]\n"
     ]
    },
    {
     "name": "stdout",
     "output_type": "stream",
     "text": [
      "✅ Epoch 78: Train Loss = 0.0006, Val Loss = 0.0953\n",
      "🎉 Saved best model to finetuned_identity_only_best_ViT-B-16_openai.pt\n"
     ]
    },
    {
     "name": "stderr",
     "output_type": "stream",
     "text": [
      "Epoch 79/100 [Train]: 100%|██████████| 22/22 [00:13<00:00,  1.57it/s]\n",
      "Epoch 79/100 [Val]: 100%|██████████| 7/7 [00:02<00:00,  2.42it/s]\n"
     ]
    },
    {
     "name": "stdout",
     "output_type": "stream",
     "text": [
      "✅ Epoch 79: Train Loss = 0.0006, Val Loss = 0.0954\n",
      "⚠️ No improvement. Patience: 1/5\n"
     ]
    },
    {
     "name": "stderr",
     "output_type": "stream",
     "text": [
      "Epoch 80/100 [Train]: 100%|██████████| 22/22 [00:14<00:00,  1.52it/s]\n",
      "Epoch 80/100 [Val]: 100%|██████████| 7/7 [00:02<00:00,  2.57it/s]\n"
     ]
    },
    {
     "name": "stdout",
     "output_type": "stream",
     "text": [
      "✅ Epoch 80: Train Loss = 0.0005, Val Loss = 0.0954\n",
      "⚠️ No improvement. Patience: 2/5\n"
     ]
    },
    {
     "name": "stderr",
     "output_type": "stream",
     "text": [
      "Epoch 81/100 [Train]: 100%|██████████| 22/22 [00:13<00:00,  1.59it/s]\n",
      "Epoch 81/100 [Val]: 100%|██████████| 7/7 [00:02<00:00,  2.68it/s]\n"
     ]
    },
    {
     "name": "stdout",
     "output_type": "stream",
     "text": [
      "✅ Epoch 81: Train Loss = 0.0005, Val Loss = 0.0952\n",
      "🎉 Saved best model to finetuned_identity_only_best_ViT-B-16_openai.pt\n"
     ]
    },
    {
     "name": "stderr",
     "output_type": "stream",
     "text": [
      "Epoch 82/100 [Train]: 100%|██████████| 22/22 [00:14<00:00,  1.57it/s]\n",
      "Epoch 82/100 [Val]: 100%|██████████| 7/7 [00:02<00:00,  2.50it/s]\n"
     ]
    },
    {
     "name": "stdout",
     "output_type": "stream",
     "text": [
      "✅ Epoch 82: Train Loss = 0.0005, Val Loss = 0.0952\n",
      "🎉 Saved best model to finetuned_identity_only_best_ViT-B-16_openai.pt\n"
     ]
    },
    {
     "name": "stderr",
     "output_type": "stream",
     "text": [
      "Epoch 83/100 [Train]: 100%|██████████| 22/22 [00:14<00:00,  1.47it/s]\n",
      "Epoch 83/100 [Val]: 100%|██████████| 7/7 [00:03<00:00,  1.87it/s]\n"
     ]
    },
    {
     "name": "stdout",
     "output_type": "stream",
     "text": [
      "✅ Epoch 83: Train Loss = 0.0005, Val Loss = 0.0949\n",
      "🎉 Saved best model to finetuned_identity_only_best_ViT-B-16_openai.pt\n"
     ]
    },
    {
     "name": "stderr",
     "output_type": "stream",
     "text": [
      "Epoch 84/100 [Train]: 100%|██████████| 22/22 [00:16<00:00,  1.30it/s]\n",
      "Epoch 84/100 [Val]: 100%|██████████| 7/7 [00:03<00:00,  1.99it/s]\n"
     ]
    },
    {
     "name": "stdout",
     "output_type": "stream",
     "text": [
      "✅ Epoch 84: Train Loss = 0.0005, Val Loss = 0.0952\n",
      "⚠️ No improvement. Patience: 1/5\n"
     ]
    },
    {
     "name": "stderr",
     "output_type": "stream",
     "text": [
      "Epoch 85/100 [Train]: 100%|██████████| 22/22 [00:16<00:00,  1.31it/s]\n",
      "Epoch 85/100 [Val]: 100%|██████████| 7/7 [00:03<00:00,  2.02it/s]\n"
     ]
    },
    {
     "name": "stdout",
     "output_type": "stream",
     "text": [
      "✅ Epoch 85: Train Loss = 0.0005, Val Loss = 0.0949\n",
      "🎉 Saved best model to finetuned_identity_only_best_ViT-B-16_openai.pt\n"
     ]
    },
    {
     "name": "stderr",
     "output_type": "stream",
     "text": [
      "Epoch 86/100 [Train]: 100%|██████████| 22/22 [00:15<00:00,  1.41it/s]\n",
      "Epoch 86/100 [Val]: 100%|██████████| 7/7 [00:02<00:00,  2.37it/s]\n"
     ]
    },
    {
     "name": "stdout",
     "output_type": "stream",
     "text": [
      "✅ Epoch 86: Train Loss = 0.0005, Val Loss = 0.0950\n",
      "⚠️ No improvement. Patience: 1/5\n"
     ]
    },
    {
     "name": "stderr",
     "output_type": "stream",
     "text": [
      "Epoch 87/100 [Train]: 100%|██████████| 22/22 [00:15<00:00,  1.38it/s]\n",
      "Epoch 87/100 [Val]: 100%|██████████| 7/7 [00:03<00:00,  2.12it/s]\n"
     ]
    },
    {
     "name": "stdout",
     "output_type": "stream",
     "text": [
      "✅ Epoch 87: Train Loss = 0.0005, Val Loss = 0.0950\n",
      "⚠️ No improvement. Patience: 2/5\n"
     ]
    },
    {
     "name": "stderr",
     "output_type": "stream",
     "text": [
      "Epoch 88/100 [Train]: 100%|██████████| 22/22 [00:15<00:00,  1.40it/s]\n",
      "Epoch 88/100 [Val]: 100%|██████████| 7/7 [00:03<00:00,  2.15it/s]\n"
     ]
    },
    {
     "name": "stdout",
     "output_type": "stream",
     "text": [
      "✅ Epoch 88: Train Loss = 0.0005, Val Loss = 0.0949\n",
      "🎉 Saved best model to finetuned_identity_only_best_ViT-B-16_openai.pt\n"
     ]
    },
    {
     "name": "stderr",
     "output_type": "stream",
     "text": [
      "Epoch 89/100 [Train]: 100%|██████████| 22/22 [00:15<00:00,  1.40it/s]\n",
      "Epoch 89/100 [Val]: 100%|██████████| 7/7 [00:03<00:00,  2.01it/s]\n"
     ]
    },
    {
     "name": "stdout",
     "output_type": "stream",
     "text": [
      "✅ Epoch 89: Train Loss = 0.0004, Val Loss = 0.0947\n",
      "🎉 Saved best model to finetuned_identity_only_best_ViT-B-16_openai.pt\n"
     ]
    },
    {
     "name": "stderr",
     "output_type": "stream",
     "text": [
      "Epoch 90/100 [Train]: 100%|██████████| 22/22 [00:15<00:00,  1.42it/s]\n",
      "Epoch 90/100 [Val]: 100%|██████████| 7/7 [00:03<00:00,  2.03it/s]\n"
     ]
    },
    {
     "name": "stdout",
     "output_type": "stream",
     "text": [
      "✅ Epoch 90: Train Loss = 0.0004, Val Loss = 0.0948\n",
      "⚠️ No improvement. Patience: 1/5\n"
     ]
    },
    {
     "name": "stderr",
     "output_type": "stream",
     "text": [
      "Epoch 91/100 [Train]: 100%|██████████| 22/22 [00:16<00:00,  1.34it/s]\n",
      "Epoch 91/100 [Val]: 100%|██████████| 7/7 [00:03<00:00,  1.87it/s]\n"
     ]
    },
    {
     "name": "stdout",
     "output_type": "stream",
     "text": [
      "✅ Epoch 91: Train Loss = 0.0004, Val Loss = 0.0945\n",
      "🎉 Saved best model to finetuned_identity_only_best_ViT-B-16_openai.pt\n"
     ]
    },
    {
     "name": "stderr",
     "output_type": "stream",
     "text": [
      "Epoch 92/100 [Train]: 100%|██████████| 22/22 [00:15<00:00,  1.41it/s]\n",
      "Epoch 92/100 [Val]: 100%|██████████| 7/7 [00:03<00:00,  2.06it/s]\n"
     ]
    },
    {
     "name": "stdout",
     "output_type": "stream",
     "text": [
      "✅ Epoch 92: Train Loss = 0.0004, Val Loss = 0.0946\n",
      "⚠️ No improvement. Patience: 1/5\n"
     ]
    },
    {
     "name": "stderr",
     "output_type": "stream",
     "text": [
      "Epoch 93/100 [Train]: 100%|██████████| 22/22 [00:16<00:00,  1.36it/s]\n",
      "Epoch 93/100 [Val]: 100%|██████████| 7/7 [00:03<00:00,  2.21it/s]\n"
     ]
    },
    {
     "name": "stdout",
     "output_type": "stream",
     "text": [
      "✅ Epoch 93: Train Loss = 0.0004, Val Loss = 0.0945\n",
      "⚠️ No improvement. Patience: 2/5\n"
     ]
    },
    {
     "name": "stderr",
     "output_type": "stream",
     "text": [
      "Epoch 94/100 [Train]: 100%|██████████| 22/22 [00:16<00:00,  1.31it/s]\n",
      "Epoch 94/100 [Val]: 100%|██████████| 7/7 [00:03<00:00,  2.01it/s]\n"
     ]
    },
    {
     "name": "stdout",
     "output_type": "stream",
     "text": [
      "✅ Epoch 94: Train Loss = 0.0004, Val Loss = 0.0945\n",
      "🎉 Saved best model to finetuned_identity_only_best_ViT-B-16_openai.pt\n"
     ]
    },
    {
     "name": "stderr",
     "output_type": "stream",
     "text": [
      "Epoch 95/100 [Train]: 100%|██████████| 22/22 [00:16<00:00,  1.30it/s]\n",
      "Epoch 95/100 [Val]: 100%|██████████| 7/7 [00:02<00:00,  2.57it/s]\n"
     ]
    },
    {
     "name": "stdout",
     "output_type": "stream",
     "text": [
      "✅ Epoch 95: Train Loss = 0.0004, Val Loss = 0.0944\n",
      "🎉 Saved best model to finetuned_identity_only_best_ViT-B-16_openai.pt\n"
     ]
    },
    {
     "name": "stderr",
     "output_type": "stream",
     "text": [
      "Epoch 96/100 [Train]: 100%|██████████| 22/22 [00:14<00:00,  1.52it/s]\n",
      "Epoch 96/100 [Val]: 100%|██████████| 7/7 [00:02<00:00,  2.35it/s]\n"
     ]
    },
    {
     "name": "stdout",
     "output_type": "stream",
     "text": [
      "✅ Epoch 96: Train Loss = 0.0004, Val Loss = 0.0942\n",
      "🎉 Saved best model to finetuned_identity_only_best_ViT-B-16_openai.pt\n"
     ]
    },
    {
     "name": "stderr",
     "output_type": "stream",
     "text": [
      "Epoch 97/100 [Train]: 100%|██████████| 22/22 [00:14<00:00,  1.57it/s]\n",
      "Epoch 97/100 [Val]: 100%|██████████| 7/7 [00:02<00:00,  2.77it/s]\n"
     ]
    },
    {
     "name": "stdout",
     "output_type": "stream",
     "text": [
      "✅ Epoch 97: Train Loss = 0.0004, Val Loss = 0.0944\n",
      "⚠️ No improvement. Patience: 1/5\n"
     ]
    },
    {
     "name": "stderr",
     "output_type": "stream",
     "text": [
      "Epoch 98/100 [Train]: 100%|██████████| 22/22 [00:14<00:00,  1.55it/s]\n",
      "Epoch 98/100 [Val]: 100%|██████████| 7/7 [00:02<00:00,  2.71it/s]\n"
     ]
    },
    {
     "name": "stdout",
     "output_type": "stream",
     "text": [
      "✅ Epoch 98: Train Loss = 0.0004, Val Loss = 0.0943\n",
      "⚠️ No improvement. Patience: 2/5\n"
     ]
    },
    {
     "name": "stderr",
     "output_type": "stream",
     "text": [
      "Epoch 99/100 [Train]: 100%|██████████| 22/22 [00:14<00:00,  1.49it/s]\n",
      "Epoch 99/100 [Val]: 100%|██████████| 7/7 [00:02<00:00,  2.47it/s]\n"
     ]
    },
    {
     "name": "stdout",
     "output_type": "stream",
     "text": [
      "✅ Epoch 99: Train Loss = 0.0004, Val Loss = 0.0943\n",
      "⚠️ No improvement. Patience: 3/5\n"
     ]
    },
    {
     "name": "stderr",
     "output_type": "stream",
     "text": [
      "Epoch 100/100 [Train]: 100%|██████████| 22/22 [00:14<00:00,  1.56it/s]\n",
      "Epoch 100/100 [Val]: 100%|██████████| 7/7 [00:02<00:00,  2.42it/s]\n"
     ]
    },
    {
     "name": "stdout",
     "output_type": "stream",
     "text": [
      "✅ Epoch 100: Train Loss = 0.0003, Val Loss = 0.0941\n",
      "🎉 Saved best model to finetuned_identity_only_best_ViT-B-16_openai.pt\n",
      "\n",
      "--- Starting Final Testing and Plotting Phase ---\n",
      "Best model loaded.\n",
      "Loading preprocessed identity data from cache: C:/Users/yehte/Downloads/Ye Htet/Projects/TikTok/Annotation/fine-tune/test.identity_cached.csv\n"
     ]
    },
    {
     "name": "stderr",
     "output_type": "stream",
     "text": [
      "[Testing]: 100%|██████████| 4/4 [00:01<00:00,  2.58it/s]\n"
     ]
    },
    {
     "name": "stdout",
     "output_type": "stream",
     "text": [
      "\n",
      "📊 Test Accuracy: 98.00%\n",
      "\n",
      "--- Plotting up to 100 results ---\n",
      "--- Plotting complete ---\n"
     ]
    }
   ],
   "execution_count": 1
  },
  {
   "metadata": {},
   "cell_type": "code",
   "outputs": [],
   "execution_count": null,
   "source": "",
   "id": "821e2556bab8458a"
  }
 ],
 "metadata": {
  "kernelspec": {
   "display_name": "Python 3",
   "language": "python",
   "name": "python3"
  },
  "language_info": {
   "codemirror_mode": {
    "name": "ipython",
    "version": 2
   },
   "file_extension": ".py",
   "mimetype": "text/x-python",
   "name": "python",
   "nbconvert_exporter": "python",
   "pygments_lexer": "ipython2",
   "version": "2.7.6"
  }
 },
 "nbformat": 4,
 "nbformat_minor": 5
}
