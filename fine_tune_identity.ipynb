{
 "cells": [
  {
   "cell_type": "code",
   "id": "initial_id",
   "metadata": {
    "collapsed": true,
    "ExecuteTime": {
     "end_time": "2025-06-24T03:01:01.603556Z",
     "start_time": "2025-06-24T02:37:52.541389Z"
    }
   },
   "source": [
    "import os\n",
    "import pandas as pd\n",
    "import torch\n",
    "from torch.utils.data import Dataset, DataLoader\n",
    "from torchvision import transforms\n",
    "from PIL import Image\n",
    "import open_clip\n",
    "from tqdm import tqdm\n",
    "import matplotlib.pyplot as plt\n",
    "import textwrap\n",
    "import re\n",
    "\n",
    "# ------------------------------\n",
    "# DEBUGGING & CONFIGURATION\n",
    "# ------------------------------\n",
    "# This forces CUDA operations to be synchronous for accurate error reporting.\n",
    "os.environ['CUDA_LAUNCH_BLOCKING'] = \"1\"\n",
    "\n",
    "CONFIG = {\n",
    "    \"model_name\": \"ViT-B-16\",\n",
    "    \"pretrained\": \"laion2b_s34b_b88k\",\n",
    "    \"csv_train\": \"C:/Users/yehte/Downloads/Ye Htet/Projects/TikTok/Annotation/fine-tune/train.csv\",\n",
    "    \"csv_val\": \"C:/Users/yehte/Downloads/Ye Htet/Projects/TikTok/Annotation/fine-tune/valid.csv\",\n",
    "    \"csv_test\": \"C:/Users/yehte/Downloads/Ye Htet/Projects/TikTok/Annotation/fine-tune/test.csv\",\n",
    "    \"save_path\": \"finetuned_identity_only_best.pt\",\n",
    "    \"plot_save_dir\": \"test_results_identity_only\",\n",
    "    \"num_plots\": 100,\n",
    "    \"batch_size\": 32, # Start small for large models like ViT-H-14\n",
    "    \"epochs\": 100,\n",
    "    \"lr\": 1e-6,\n",
    "    \"patience\": 5,\n",
    "    \"device\": \"cuda\" if torch.cuda.is_available() else \"cpu\",\n",
    "\n",
    "    # --- SIMPLIFIED: Prompts for Identity ONLY ---\n",
    "    \"identity_prompts\": [\n",
    "        \"A photo of Soekarno.\", \"A photo of Suharto.\", \"A photo of Baharuddin Jusuf Habibie.\",\n",
    "        \"A photo of Abdurrahman Wahid.\", \"A photo of Megawati Sukarnoputri.\",\n",
    "        \"A photo of Susilo Bambang Yudhoyono.\", \"A photo of Joko Widodo.\",\n",
    "        \"A photo of Prabowo Subianto.\", \"A photo of Anies Rasyid Baswedan.\",\n",
    "        \"A photo of Ganjar Pranowo.\", \"A photo of Gibran Rakabuming Raka.\",\n",
    "        \"A photo of Maruf Amin.\", \"A photo of Airlangga Hartarto.\",\n",
    "        \"A photo of Sri Mulyani Indrawati.\", \"A photo of Erick Thohir.\",\n",
    "        \"A photo of Agus Harimurti Yudhoyono.\", \"A photo of Muhaimin Iskandar.\",\n",
    "        \"A photo of Mahfud MD.\", \"A photo of Boediono.\", \"A photo of Jusuf Kalla.\"\n",
    "    ]\n",
    "}\n",
    "\n",
    "# --- Create simplified keys from prompts for mapping ---\n",
    "CONFIG[\"identity_keys\"] = [p.replace(\"A photo of \", \"\").replace(\".\", \"\") for p in CONFIG[\"identity_prompts\"]]\n",
    "\n",
    "# ------------------------------\n",
    "# Helper Function for Parsing\n",
    "# ------------------------------\n",
    "def parse_identity_from_prompt(prompt_text):\n",
    "    \"\"\"\n",
    "    A more robust parser to find any of the identity keys in the prompt\n",
    "    using word boundaries to ensure exact matches.\n",
    "    \"\"\"\n",
    "    # Search for any of the names from the key list in the prompt text\n",
    "    for name in CONFIG[\"identity_keys\"]:\n",
    "        # Use regex with word boundaries (\\b) to match the whole name\n",
    "        if re.search(r'\\b' + re.escape(name) + r'\\b', prompt_text, re.IGNORECASE):\n",
    "            return name\n",
    "    return None\n",
    "\n",
    "# ------------------------------\n",
    "# Preprocessing and Caching\n",
    "# ------------------------------\n",
    "def preprocess_and_cache_csv(csv_path):\n",
    "    \"\"\"\n",
    "    Parses prompts for identity and saves a cached version.\n",
    "    \"\"\"\n",
    "    cache_path = csv_path.replace(\".csv\", \".identity_cached.csv\")\n",
    "    if os.path.exists(cache_path):\n",
    "        print(f\"Loading preprocessed identity data from cache: {cache_path}\")\n",
    "        try:\n",
    "            df_cache = pd.read_csv(cache_path)\n",
    "            if df_cache.empty:\n",
    "                 print(\"Warning: Cached file is empty. Reprocessing.\")\n",
    "            else:\n",
    "                return df_cache\n",
    "        except pd.errors.EmptyDataError:\n",
    "            print(f\"Warning: Cached file is empty. Reprocessing.\")\n",
    "\n",
    "    print(f\"Preprocessing identity data and caching: {csv_path}\")\n",
    "    try:\n",
    "        df = pd.read_csv(csv_path)\n",
    "    except (FileNotFoundError, pd.errors.EmptyDataError):\n",
    "        print(f\"Error or empty file at {csv_path}\")\n",
    "        return None\n",
    "\n",
    "    new_data = []\n",
    "    for _, row in tqdm(df.iterrows(), total=len(df), desc=f\"Preprocessing {os.path.basename(csv_path)}\"):\n",
    "        name = parse_identity_from_prompt(row['prompt'])\n",
    "        if name:\n",
    "            row_data = {\n",
    "                'filepath': row['filepath'],\n",
    "                'prompt': row['prompt'],\n",
    "                'identity_idx': CONFIG[\"identity_keys\"].index(name)\n",
    "            }\n",
    "            new_data.append(row_data)\n",
    "\n",
    "    if not new_data:\n",
    "        print(\"Warning: Preprocessing resulted in an empty dataset.\")\n",
    "        return None\n",
    "\n",
    "    cached_df = pd.DataFrame(new_data)\n",
    "    cached_df.to_csv(cache_path, index=False)\n",
    "    return cached_df\n",
    "\n",
    "# ------------------------------\n",
    "# Dataset Class\n",
    "# ------------------------------\n",
    "class IdentityDataset(Dataset):\n",
    "    def __init__(self, df, preprocess):\n",
    "        self.df = df if df is not None else pd.DataFrame()\n",
    "        self.preprocess = preprocess\n",
    "\n",
    "    def __len__(self):\n",
    "        return len(self.df)\n",
    "\n",
    "    def __getitem__(self, idx):\n",
    "        row = self.df.iloc[idx]\n",
    "        image_path = row[\"filepath\"]\n",
    "        try:\n",
    "            image = Image.open(image_path).convert(\"RGB\")\n",
    "            image = self.preprocess(image)\n",
    "        except FileNotFoundError:\n",
    "            image = torch.zeros((3, 224, 224))\n",
    "\n",
    "        identity_idx = torch.tensor(row[\"identity_idx\"])\n",
    "        return image, identity_idx, image_path\n",
    "\n",
    "# ------------------------------\n",
    "# Training and Evaluation Functions\n",
    "# ------------------------------\n",
    "def train_and_validate(model, train_loader, val_loader, identity_text_features):\n",
    "    optimizer = torch.optim.AdamW(model.parameters(), lr=CONFIG[\"lr\"])\n",
    "    loss_fn = torch.nn.CrossEntropyLoss()\n",
    "    best_val_loss = float(\"inf\")\n",
    "    patience_counter = 0\n",
    "    model_saved = False\n",
    "\n",
    "    for epoch in range(CONFIG[\"epochs\"]):\n",
    "        model.train()\n",
    "        total_train_loss = 0\n",
    "        for images, gt_indices, _ in tqdm(train_loader, desc=f\"Epoch {epoch+1}/{CONFIG['epochs']} [Train]\"):\n",
    "            images, gt_indices = images.to(CONFIG[\"device\"]), gt_indices.to(CONFIG[\"device\"])\n",
    "\n",
    "            image_features = model.encode_image(images)\n",
    "            image_features = image_features / image_features.norm(dim=-1, keepdim=True)\n",
    "\n",
    "            logits_per_image = (100.0 * image_features @ identity_text_features.T)\n",
    "\n",
    "            loss = loss_fn(logits_per_image, gt_indices)\n",
    "\n",
    "            optimizer.zero_grad(); loss.backward(); optimizer.step()\n",
    "            total_train_loss += loss.item()\n",
    "\n",
    "        avg_train_loss = total_train_loss / len(train_loader)\n",
    "\n",
    "        model.eval()\n",
    "        total_val_loss = 0\n",
    "        with torch.no_grad():\n",
    "            for images, gt_indices, _ in tqdm(val_loader, desc=f\"Epoch {epoch+1}/{CONFIG['epochs']} [Val]\"):\n",
    "                images, gt_indices = images.to(CONFIG[\"device\"]), gt_indices.to(CONFIG[\"device\"])\n",
    "                image_features = model.encode_image(images)\n",
    "                image_features = image_features / image_features.norm(dim=-1, keepdim=True)\n",
    "                logits_per_image = (100.0 * image_features @ identity_text_features.T)\n",
    "                loss = loss_fn(logits_per_image, gt_indices)\n",
    "                total_val_loss += loss.item()\n",
    "\n",
    "        avg_val_loss = total_val_loss / len(val_loader)\n",
    "        print(f\"✅ Epoch {epoch+1}: Train Loss = {avg_train_loss:.4f}, Val Loss = {avg_val_loss:.4f}\")\n",
    "\n",
    "        if avg_val_loss < best_val_loss:\n",
    "            best_val_loss = avg_val_loss\n",
    "            torch.save(model.state_dict(), CONFIG[\"save_path\"])\n",
    "            print(f\"🎉 Saved best model to {CONFIG['save_path']}\")\n",
    "            patience_counter = 0\n",
    "            model_saved = True\n",
    "        else:\n",
    "            patience_counter += 1\n",
    "            print(f\"⚠️ No improvement. Patience: {patience_counter}/{CONFIG['patience']}\")\n",
    "        if patience_counter >= CONFIG[\"patience\"]:\n",
    "            print(\"🛑 Early stopping triggered.\"); break\n",
    "\n",
    "    return model_saved\n",
    "\n",
    "\n",
    "def test_and_plot(model, identity_text_features, preprocess):\n",
    "    print(\"\\n--- Starting Final Testing and Plotting Phase ---\")\n",
    "    model.load_state_dict(torch.load(CONFIG[\"save_path\"])); model.to(CONFIG[\"device\"]).eval()\n",
    "    print(\"Best model loaded.\")\n",
    "\n",
    "    test_df = preprocess_and_cache_csv(CONFIG[\"csv_test\"])\n",
    "    if test_df is None or test_df.empty:\n",
    "        print(f\"Error or empty data in test CSV. Halting testing.\")\n",
    "        return\n",
    "\n",
    "    test_dataset = IdentityDataset(test_df, preprocess)\n",
    "    test_loader = DataLoader(test_dataset, batch_size=CONFIG[\"batch_size\"], shuffle=False)\n",
    "\n",
    "    correct_predictions, total_samples = 0, 0\n",
    "    all_results = []\n",
    "\n",
    "    with torch.no_grad():\n",
    "        for images, gt_indices, image_paths in tqdm(test_loader, desc=\"[Testing]\"):\n",
    "            images = images.to(CONFIG[\"device\"])\n",
    "            image_features = model.encode_image(images)\n",
    "            image_features = image_features / image_features.norm(dim=-1, keepdim=True)\n",
    "\n",
    "            logits = (100.0 * image_features @ identity_text_features.T)\n",
    "            preds = logits.argmax(dim=-1)\n",
    "\n",
    "            for i in range(len(images)):\n",
    "                is_correct = (preds[i] == gt_indices[i]).item()\n",
    "                if is_correct: correct_predictions += 1\n",
    "\n",
    "                all_results.append({\n",
    "                    \"image_path\": image_paths[i],\n",
    "                    \"ground_truth\": CONFIG[\"identity_keys\"][gt_indices[i]],\n",
    "                    \"prediction\": CONFIG[\"identity_keys\"][preds[i]],\n",
    "                    \"is_correct\": is_correct\n",
    "                })\n",
    "            total_samples += len(images)\n",
    "\n",
    "    if total_samples > 0:\n",
    "        accuracy = (correct_predictions / total_samples) * 100\n",
    "        print(f\"\\n📊 Test Accuracy: {accuracy:.2f}%\")\n",
    "    else:\n",
    "        print(\"No valid samples were processed in the test set.\")\n",
    "\n",
    "    print(f\"\\n--- Plotting up to {CONFIG['num_plots']} results ---\")\n",
    "    os.makedirs(CONFIG[\"plot_save_dir\"], exist_ok=True)\n",
    "\n",
    "    for i, result in enumerate(all_results):\n",
    "        if i >= CONFIG[\"num_plots\"]: break\n",
    "        try:\n",
    "            img = Image.open(result[\"image_path\"])\n",
    "        except FileNotFoundError: continue\n",
    "\n",
    "        fig, ax = plt.subplots(figsize=(8, 10))\n",
    "        ax.imshow(img); ax.axis(\"off\")\n",
    "\n",
    "        title = f\"Result {i+1}: {'CORRECT' if result['is_correct'] else 'INCORRECT'}\"\n",
    "        color = 'green' if result['is_correct'] else 'red'\n",
    "        fig.suptitle(title, fontsize=16, color=color)\n",
    "\n",
    "        text = (f\"Ground Truth: {result['ground_truth']}\\n\"\n",
    "                f\"Prediction:   {result['prediction']}\")\n",
    "\n",
    "        ax.set_title(text, fontsize=12, pad=10)\n",
    "\n",
    "        save_name = f\"result_{i+1}_{'correct' if result['is_correct'] else 'incorrect'}.png\"\n",
    "        plt.savefig(os.path.join(CONFIG[\"plot_save_dir\"], save_name), bbox_inches='tight')\n",
    "        plt.close(fig)\n",
    "\n",
    "    print(\"--- Plotting complete ---\")\n",
    "\n",
    "# ==============================\n",
    "#      MAIN EXECUTION BLOCK\n",
    "# ==============================\n",
    "if __name__ == '__main__':\n",
    "    print(f\"Using device: {CONFIG['device']}\")\n",
    "    # --- ADDED: Version checking and Memory check for easier debugging ---\n",
    "    print(f\"PyTorch Version: {torch.__version__}\")\n",
    "    if torch.cuda.is_available():\n",
    "        print(f\"CUDA Version: {torch.version.cuda}\")\n",
    "        print(f\"cuDNN Version: {torch.backends.cudnn.version()}\")\n",
    "        t = torch.cuda.get_device_properties(0).total_memory / (1024**3)\n",
    "        r = torch.cuda.memory_reserved(0) / (1024**3)\n",
    "        a = torch.cuda.memory_allocated(0) / (1024**3)\n",
    "        print(f\"GPU Memory: Total={t:.2f}GB, Reserved={r:.2f}GB, Allocated={a:.2f}GB\")\n",
    "\n",
    "\n",
    "    model, _, preprocess = open_clip.create_model_and_transforms(\n",
    "        CONFIG[\"model_name\"], pretrained=CONFIG[\"pretrained\"], device=CONFIG[\"device\"]\n",
    "    )\n",
    "    tokenizer = open_clip.get_tokenizer(CONFIG[\"model_name\"])\n",
    "\n",
    "    with torch.no_grad():\n",
    "        identity_text_tokens = tokenizer(CONFIG[\"identity_prompts\"]).to(CONFIG[\"device\"])\n",
    "        identity_text_features = model.encode_text(identity_text_tokens)\n",
    "        identity_text_features = identity_text_features / identity_text_features.norm(dim=-1, keepdim=True)\n",
    "\n",
    "    train_df = preprocess_and_cache_csv(CONFIG[\"csv_train\"])\n",
    "    val_df = preprocess_and_cache_csv(CONFIG[\"csv_val\"])\n",
    "\n",
    "    if train_df is not None and val_df is not None and not train_df.empty and not val_df.empty:\n",
    "        train_dataset = IdentityDataset(train_df, preprocess)\n",
    "        val_dataset = IdentityDataset(val_df, preprocess)\n",
    "        train_loader = DataLoader(train_dataset, batch_size=CONFIG[\"batch_size\"], shuffle=True)\n",
    "        val_loader = DataLoader(val_dataset, batch_size=CONFIG[\"batch_size\"], shuffle=False)\n",
    "\n",
    "        training_successful = train_and_validate(model, train_loader, val_loader, identity_text_features)\n",
    "\n",
    "        if training_successful:\n",
    "            test_and_plot(model, identity_text_features, preprocess)\n",
    "        else:\n",
    "            print(\"\\nSkipping testing phase: No model was saved during training.\")\n",
    "    else:\n",
    "\n",
    "        print(\"\\nSkipping training: Training/validation datasets are empty or could not be loaded.\")\n"
   ],
   "outputs": [
    {
     "name": "stdout",
     "output_type": "stream",
     "text": [
      "Using device: cuda\n",
      "PyTorch Version: 2.8.0.dev20250507+cu128\n",
      "CUDA Version: 12.8\n",
      "cuDNN Version: 90701\n",
      "GPU Memory: Total=11.94GB, Reserved=0.00GB, Allocated=0.00GB\n",
      "Loading preprocessed identity data from cache: C:/Users/yehte/Downloads/Ye Htet/Projects/TikTok/Annotation/fine-tune/train.identity_cached.csv\n",
      "Loading preprocessed identity data from cache: C:/Users/yehte/Downloads/Ye Htet/Projects/TikTok/Annotation/fine-tune/valid.identity_cached.csv\n"
     ]
    },
    {
     "name": "stderr",
     "output_type": "stream",
     "text": [
      "Epoch 1/100 [Train]: 100%|██████████| 22/22 [00:11<00:00,  1.99it/s]\n",
      "Epoch 1/100 [Val]: 100%|██████████| 7/7 [00:01<00:00,  3.55it/s]\n"
     ]
    },
    {
     "name": "stdout",
     "output_type": "stream",
     "text": [
      "✅ Epoch 1: Train Loss = 2.1993, Val Loss = 1.6218\n",
      "🎉 Saved best model to finetuned_identity_only_best.pt\n"
     ]
    },
    {
     "name": "stderr",
     "output_type": "stream",
     "text": [
      "Epoch 2/100 [Train]: 100%|██████████| 22/22 [00:10<00:00,  2.05it/s]\n",
      "Epoch 2/100 [Val]: 100%|██████████| 7/7 [00:01<00:00,  3.53it/s]\n"
     ]
    },
    {
     "name": "stdout",
     "output_type": "stream",
     "text": [
      "✅ Epoch 2: Train Loss = 1.2840, Val Loss = 1.2606\n",
      "🎉 Saved best model to finetuned_identity_only_best.pt\n"
     ]
    },
    {
     "name": "stderr",
     "output_type": "stream",
     "text": [
      "Epoch 3/100 [Train]: 100%|██████████| 22/22 [00:11<00:00,  1.98it/s]\n",
      "Epoch 3/100 [Val]: 100%|██████████| 7/7 [00:02<00:00,  2.39it/s]\n"
     ]
    },
    {
     "name": "stdout",
     "output_type": "stream",
     "text": [
      "✅ Epoch 3: Train Loss = 0.8468, Val Loss = 1.0150\n",
      "🎉 Saved best model to finetuned_identity_only_best.pt\n"
     ]
    },
    {
     "name": "stderr",
     "output_type": "stream",
     "text": [
      "Epoch 4/100 [Train]: 100%|██████████| 22/22 [00:14<00:00,  1.54it/s]\n",
      "Epoch 4/100 [Val]: 100%|██████████| 7/7 [00:02<00:00,  2.41it/s]\n"
     ]
    },
    {
     "name": "stdout",
     "output_type": "stream",
     "text": [
      "✅ Epoch 4: Train Loss = 0.5788, Val Loss = 0.8836\n",
      "🎉 Saved best model to finetuned_identity_only_best.pt\n"
     ]
    },
    {
     "name": "stderr",
     "output_type": "stream",
     "text": [
      "Epoch 5/100 [Train]: 100%|██████████| 22/22 [00:14<00:00,  1.49it/s]\n",
      "Epoch 5/100 [Val]: 100%|██████████| 7/7 [00:02<00:00,  2.64it/s]\n"
     ]
    },
    {
     "name": "stdout",
     "output_type": "stream",
     "text": [
      "✅ Epoch 5: Train Loss = 0.4049, Val Loss = 0.7800\n",
      "🎉 Saved best model to finetuned_identity_only_best.pt\n"
     ]
    },
    {
     "name": "stderr",
     "output_type": "stream",
     "text": [
      "Epoch 6/100 [Train]: 100%|██████████| 22/22 [00:13<00:00,  1.65it/s]\n",
      "Epoch 6/100 [Val]: 100%|██████████| 7/7 [00:02<00:00,  2.79it/s]\n"
     ]
    },
    {
     "name": "stdout",
     "output_type": "stream",
     "text": [
      "✅ Epoch 6: Train Loss = 0.2852, Val Loss = 0.6864\n",
      "🎉 Saved best model to finetuned_identity_only_best.pt\n"
     ]
    },
    {
     "name": "stderr",
     "output_type": "stream",
     "text": [
      "Epoch 7/100 [Train]: 100%|██████████| 22/22 [00:14<00:00,  1.54it/s]\n",
      "Epoch 7/100 [Val]: 100%|██████████| 7/7 [00:02<00:00,  2.58it/s]\n"
     ]
    },
    {
     "name": "stdout",
     "output_type": "stream",
     "text": [
      "✅ Epoch 7: Train Loss = 0.2014, Val Loss = 0.6241\n",
      "🎉 Saved best model to finetuned_identity_only_best.pt\n"
     ]
    },
    {
     "name": "stderr",
     "output_type": "stream",
     "text": [
      "Epoch 8/100 [Train]: 100%|██████████| 22/22 [00:14<00:00,  1.57it/s]\n",
      "Epoch 8/100 [Val]: 100%|██████████| 7/7 [00:03<00:00,  2.30it/s]\n"
     ]
    },
    {
     "name": "stdout",
     "output_type": "stream",
     "text": [
      "✅ Epoch 8: Train Loss = 0.1482, Val Loss = 0.5975\n",
      "🎉 Saved best model to finetuned_identity_only_best.pt\n"
     ]
    },
    {
     "name": "stderr",
     "output_type": "stream",
     "text": [
      "Epoch 9/100 [Train]: 100%|██████████| 22/22 [00:15<00:00,  1.45it/s]\n",
      "Epoch 9/100 [Val]: 100%|██████████| 7/7 [00:03<00:00,  2.28it/s]\n"
     ]
    },
    {
     "name": "stdout",
     "output_type": "stream",
     "text": [
      "✅ Epoch 9: Train Loss = 0.1128, Val Loss = 0.5590\n",
      "🎉 Saved best model to finetuned_identity_only_best.pt\n"
     ]
    },
    {
     "name": "stderr",
     "output_type": "stream",
     "text": [
      "Epoch 10/100 [Train]: 100%|██████████| 22/22 [00:16<00:00,  1.35it/s]\n",
      "Epoch 10/100 [Val]: 100%|██████████| 7/7 [00:03<00:00,  2.19it/s]\n"
     ]
    },
    {
     "name": "stdout",
     "output_type": "stream",
     "text": [
      "✅ Epoch 10: Train Loss = 0.0882, Val Loss = 0.5540\n",
      "🎉 Saved best model to finetuned_identity_only_best.pt\n"
     ]
    },
    {
     "name": "stderr",
     "output_type": "stream",
     "text": [
      "Epoch 11/100 [Train]: 100%|██████████| 22/22 [00:15<00:00,  1.38it/s]\n",
      "Epoch 11/100 [Val]: 100%|██████████| 7/7 [00:02<00:00,  2.46it/s]\n"
     ]
    },
    {
     "name": "stdout",
     "output_type": "stream",
     "text": [
      "✅ Epoch 11: Train Loss = 0.0707, Val Loss = 0.5331\n",
      "🎉 Saved best model to finetuned_identity_only_best.pt\n"
     ]
    },
    {
     "name": "stderr",
     "output_type": "stream",
     "text": [
      "Epoch 12/100 [Train]: 100%|██████████| 22/22 [00:15<00:00,  1.44it/s]\n",
      "Epoch 12/100 [Val]: 100%|██████████| 7/7 [00:02<00:00,  2.38it/s]\n"
     ]
    },
    {
     "name": "stdout",
     "output_type": "stream",
     "text": [
      "✅ Epoch 12: Train Loss = 0.0576, Val Loss = 0.5227\n",
      "🎉 Saved best model to finetuned_identity_only_best.pt\n"
     ]
    },
    {
     "name": "stderr",
     "output_type": "stream",
     "text": [
      "Epoch 13/100 [Train]: 100%|██████████| 22/22 [00:11<00:00,  1.85it/s]\n",
      "Epoch 13/100 [Val]: 100%|██████████| 7/7 [00:01<00:00,  3.51it/s]\n"
     ]
    },
    {
     "name": "stdout",
     "output_type": "stream",
     "text": [
      "✅ Epoch 13: Train Loss = 0.0477, Val Loss = 0.5143\n",
      "🎉 Saved best model to finetuned_identity_only_best.pt\n"
     ]
    },
    {
     "name": "stderr",
     "output_type": "stream",
     "text": [
      "Epoch 14/100 [Train]: 100%|██████████| 22/22 [00:10<00:00,  2.06it/s]\n",
      "Epoch 14/100 [Val]: 100%|██████████| 7/7 [00:01<00:00,  3.56it/s]\n"
     ]
    },
    {
     "name": "stdout",
     "output_type": "stream",
     "text": [
      "✅ Epoch 14: Train Loss = 0.0405, Val Loss = 0.5086\n",
      "🎉 Saved best model to finetuned_identity_only_best.pt\n"
     ]
    },
    {
     "name": "stderr",
     "output_type": "stream",
     "text": [
      "Epoch 15/100 [Train]: 100%|██████████| 22/22 [00:10<00:00,  2.09it/s]\n",
      "Epoch 15/100 [Val]: 100%|██████████| 7/7 [00:01<00:00,  3.61it/s]\n"
     ]
    },
    {
     "name": "stdout",
     "output_type": "stream",
     "text": [
      "✅ Epoch 15: Train Loss = 0.0347, Val Loss = 0.5028\n",
      "🎉 Saved best model to finetuned_identity_only_best.pt\n"
     ]
    },
    {
     "name": "stderr",
     "output_type": "stream",
     "text": [
      "Epoch 16/100 [Train]: 100%|██████████| 22/22 [00:12<00:00,  1.78it/s]\n",
      "Epoch 16/100 [Val]: 100%|██████████| 7/7 [00:02<00:00,  3.33it/s]\n"
     ]
    },
    {
     "name": "stdout",
     "output_type": "stream",
     "text": [
      "✅ Epoch 16: Train Loss = 0.0301, Val Loss = 0.4928\n",
      "🎉 Saved best model to finetuned_identity_only_best.pt\n"
     ]
    },
    {
     "name": "stderr",
     "output_type": "stream",
     "text": [
      "Epoch 17/100 [Train]: 100%|██████████| 22/22 [00:10<00:00,  2.09it/s]\n",
      "Epoch 17/100 [Val]: 100%|██████████| 7/7 [00:01<00:00,  3.59it/s]\n"
     ]
    },
    {
     "name": "stdout",
     "output_type": "stream",
     "text": [
      "✅ Epoch 17: Train Loss = 0.0264, Val Loss = 0.4906\n",
      "🎉 Saved best model to finetuned_identity_only_best.pt\n"
     ]
    },
    {
     "name": "stderr",
     "output_type": "stream",
     "text": [
      "Epoch 18/100 [Train]: 100%|██████████| 22/22 [00:10<00:00,  2.09it/s]\n",
      "Epoch 18/100 [Val]: 100%|██████████| 7/7 [00:01<00:00,  3.57it/s]\n"
     ]
    },
    {
     "name": "stdout",
     "output_type": "stream",
     "text": [
      "✅ Epoch 18: Train Loss = 0.0235, Val Loss = 0.4863\n",
      "🎉 Saved best model to finetuned_identity_only_best.pt\n"
     ]
    },
    {
     "name": "stderr",
     "output_type": "stream",
     "text": [
      "Epoch 19/100 [Train]: 100%|██████████| 22/22 [00:10<00:00,  2.10it/s]\n",
      "Epoch 19/100 [Val]: 100%|██████████| 7/7 [00:01<00:00,  3.63it/s]\n"
     ]
    },
    {
     "name": "stdout",
     "output_type": "stream",
     "text": [
      "✅ Epoch 19: Train Loss = 0.0209, Val Loss = 0.4824\n",
      "🎉 Saved best model to finetuned_identity_only_best.pt\n"
     ]
    },
    {
     "name": "stderr",
     "output_type": "stream",
     "text": [
      "Epoch 20/100 [Train]: 100%|██████████| 22/22 [00:10<00:00,  2.10it/s]\n",
      "Epoch 20/100 [Val]: 100%|██████████| 7/7 [00:01<00:00,  3.59it/s]\n"
     ]
    },
    {
     "name": "stdout",
     "output_type": "stream",
     "text": [
      "✅ Epoch 20: Train Loss = 0.0188, Val Loss = 0.4810\n",
      "🎉 Saved best model to finetuned_identity_only_best.pt\n"
     ]
    },
    {
     "name": "stderr",
     "output_type": "stream",
     "text": [
      "Epoch 21/100 [Train]: 100%|██████████| 22/22 [00:10<00:00,  2.08it/s]\n",
      "Epoch 21/100 [Val]: 100%|██████████| 7/7 [00:01<00:00,  3.60it/s]\n"
     ]
    },
    {
     "name": "stdout",
     "output_type": "stream",
     "text": [
      "✅ Epoch 21: Train Loss = 0.0170, Val Loss = 0.4767\n",
      "🎉 Saved best model to finetuned_identity_only_best.pt\n"
     ]
    },
    {
     "name": "stderr",
     "output_type": "stream",
     "text": [
      "Epoch 22/100 [Train]: 100%|██████████| 22/22 [00:10<00:00,  2.09it/s]\n",
      "Epoch 22/100 [Val]: 100%|██████████| 7/7 [00:01<00:00,  3.61it/s]\n"
     ]
    },
    {
     "name": "stdout",
     "output_type": "stream",
     "text": [
      "✅ Epoch 22: Train Loss = 0.0155, Val Loss = 0.4742\n",
      "🎉 Saved best model to finetuned_identity_only_best.pt\n"
     ]
    },
    {
     "name": "stderr",
     "output_type": "stream",
     "text": [
      "Epoch 23/100 [Train]: 100%|██████████| 22/22 [00:10<00:00,  2.07it/s]\n",
      "Epoch 23/100 [Val]: 100%|██████████| 7/7 [00:01<00:00,  3.62it/s]\n"
     ]
    },
    {
     "name": "stdout",
     "output_type": "stream",
     "text": [
      "✅ Epoch 23: Train Loss = 0.0141, Val Loss = 0.4727\n",
      "🎉 Saved best model to finetuned_identity_only_best.pt\n"
     ]
    },
    {
     "name": "stderr",
     "output_type": "stream",
     "text": [
      "Epoch 24/100 [Train]: 100%|██████████| 22/22 [00:11<00:00,  1.87it/s]\n",
      "Epoch 24/100 [Val]: 100%|██████████| 7/7 [00:01<00:00,  3.53it/s]\n"
     ]
    },
    {
     "name": "stdout",
     "output_type": "stream",
     "text": [
      "✅ Epoch 24: Train Loss = 0.0130, Val Loss = 0.4687\n",
      "🎉 Saved best model to finetuned_identity_only_best.pt\n"
     ]
    },
    {
     "name": "stderr",
     "output_type": "stream",
     "text": [
      "Epoch 25/100 [Train]: 100%|██████████| 22/22 [00:10<00:00,  2.06it/s]\n",
      "Epoch 25/100 [Val]: 100%|██████████| 7/7 [00:02<00:00,  3.27it/s]\n"
     ]
    },
    {
     "name": "stdout",
     "output_type": "stream",
     "text": [
      "✅ Epoch 25: Train Loss = 0.0120, Val Loss = 0.4699\n",
      "⚠️ No improvement. Patience: 1/5\n"
     ]
    },
    {
     "name": "stderr",
     "output_type": "stream",
     "text": [
      "Epoch 26/100 [Train]: 100%|██████████| 22/22 [00:10<00:00,  2.00it/s]\n",
      "Epoch 26/100 [Val]: 100%|██████████| 7/7 [00:02<00:00,  3.43it/s]\n"
     ]
    },
    {
     "name": "stdout",
     "output_type": "stream",
     "text": [
      "✅ Epoch 26: Train Loss = 0.0111, Val Loss = 0.4689\n",
      "⚠️ No improvement. Patience: 2/5\n"
     ]
    },
    {
     "name": "stderr",
     "output_type": "stream",
     "text": [
      "Epoch 27/100 [Train]: 100%|██████████| 22/22 [00:10<00:00,  2.03it/s]\n",
      "Epoch 27/100 [Val]: 100%|██████████| 7/7 [00:02<00:00,  3.46it/s]\n"
     ]
    },
    {
     "name": "stdout",
     "output_type": "stream",
     "text": [
      "✅ Epoch 27: Train Loss = 0.0103, Val Loss = 0.4652\n",
      "🎉 Saved best model to finetuned_identity_only_best.pt\n"
     ]
    },
    {
     "name": "stderr",
     "output_type": "stream",
     "text": [
      "Epoch 28/100 [Train]: 100%|██████████| 22/22 [00:10<00:00,  2.02it/s]\n",
      "Epoch 28/100 [Val]: 100%|██████████| 7/7 [00:02<00:00,  3.47it/s]\n"
     ]
    },
    {
     "name": "stdout",
     "output_type": "stream",
     "text": [
      "✅ Epoch 28: Train Loss = 0.0096, Val Loss = 0.4633\n",
      "🎉 Saved best model to finetuned_identity_only_best.pt\n"
     ]
    },
    {
     "name": "stderr",
     "output_type": "stream",
     "text": [
      "Epoch 29/100 [Train]: 100%|██████████| 22/22 [00:10<00:00,  2.03it/s]\n",
      "Epoch 29/100 [Val]: 100%|██████████| 7/7 [00:02<00:00,  3.44it/s]\n"
     ]
    },
    {
     "name": "stdout",
     "output_type": "stream",
     "text": [
      "✅ Epoch 29: Train Loss = 0.0089, Val Loss = 0.4631\n",
      "🎉 Saved best model to finetuned_identity_only_best.pt\n"
     ]
    },
    {
     "name": "stderr",
     "output_type": "stream",
     "text": [
      "Epoch 30/100 [Train]: 100%|██████████| 22/22 [00:10<00:00,  2.03it/s]\n",
      "Epoch 30/100 [Val]: 100%|██████████| 7/7 [00:01<00:00,  3.52it/s]\n"
     ]
    },
    {
     "name": "stdout",
     "output_type": "stream",
     "text": [
      "✅ Epoch 30: Train Loss = 0.0084, Val Loss = 0.4620\n",
      "🎉 Saved best model to finetuned_identity_only_best.pt\n"
     ]
    },
    {
     "name": "stderr",
     "output_type": "stream",
     "text": [
      "Epoch 31/100 [Train]: 100%|██████████| 22/22 [00:10<00:00,  2.04it/s]\n",
      "Epoch 31/100 [Val]: 100%|██████████| 7/7 [00:02<00:00,  3.47it/s]\n"
     ]
    },
    {
     "name": "stdout",
     "output_type": "stream",
     "text": [
      "✅ Epoch 31: Train Loss = 0.0079, Val Loss = 0.4607\n",
      "🎉 Saved best model to finetuned_identity_only_best.pt\n"
     ]
    },
    {
     "name": "stderr",
     "output_type": "stream",
     "text": [
      "Epoch 32/100 [Train]: 100%|██████████| 22/22 [00:10<00:00,  2.04it/s]\n",
      "Epoch 32/100 [Val]: 100%|██████████| 7/7 [00:01<00:00,  3.55it/s]\n"
     ]
    },
    {
     "name": "stdout",
     "output_type": "stream",
     "text": [
      "✅ Epoch 32: Train Loss = 0.0074, Val Loss = 0.4590\n",
      "🎉 Saved best model to finetuned_identity_only_best.pt\n"
     ]
    },
    {
     "name": "stderr",
     "output_type": "stream",
     "text": [
      "Epoch 33/100 [Train]: 100%|██████████| 22/22 [00:10<00:00,  2.04it/s]\n",
      "Epoch 33/100 [Val]: 100%|██████████| 7/7 [00:01<00:00,  3.51it/s]\n"
     ]
    },
    {
     "name": "stdout",
     "output_type": "stream",
     "text": [
      "✅ Epoch 33: Train Loss = 0.0069, Val Loss = 0.4588\n",
      "🎉 Saved best model to finetuned_identity_only_best.pt\n"
     ]
    },
    {
     "name": "stderr",
     "output_type": "stream",
     "text": [
      "Epoch 34/100 [Train]: 100%|██████████| 22/22 [00:10<00:00,  2.03it/s]\n",
      "Epoch 34/100 [Val]: 100%|██████████| 7/7 [00:01<00:00,  3.52it/s]\n"
     ]
    },
    {
     "name": "stdout",
     "output_type": "stream",
     "text": [
      "✅ Epoch 34: Train Loss = 0.0066, Val Loss = 0.4571\n",
      "🎉 Saved best model to finetuned_identity_only_best.pt\n"
     ]
    },
    {
     "name": "stderr",
     "output_type": "stream",
     "text": [
      "Epoch 35/100 [Train]: 100%|██████████| 22/22 [00:10<00:00,  2.05it/s]\n",
      "Epoch 35/100 [Val]: 100%|██████████| 7/7 [00:02<00:00,  3.47it/s]\n"
     ]
    },
    {
     "name": "stdout",
     "output_type": "stream",
     "text": [
      "✅ Epoch 35: Train Loss = 0.0062, Val Loss = 0.4584\n",
      "⚠️ No improvement. Patience: 1/5\n"
     ]
    },
    {
     "name": "stderr",
     "output_type": "stream",
     "text": [
      "Epoch 36/100 [Train]: 100%|██████████| 22/22 [00:10<00:00,  2.05it/s]\n",
      "Epoch 36/100 [Val]: 100%|██████████| 7/7 [00:01<00:00,  3.55it/s]\n"
     ]
    },
    {
     "name": "stdout",
     "output_type": "stream",
     "text": [
      "✅ Epoch 36: Train Loss = 0.0059, Val Loss = 0.4557\n",
      "🎉 Saved best model to finetuned_identity_only_best.pt\n"
     ]
    },
    {
     "name": "stderr",
     "output_type": "stream",
     "text": [
      "Epoch 37/100 [Train]: 100%|██████████| 22/22 [00:10<00:00,  2.05it/s]\n",
      "Epoch 37/100 [Val]: 100%|██████████| 7/7 [00:01<00:00,  3.52it/s]\n"
     ]
    },
    {
     "name": "stdout",
     "output_type": "stream",
     "text": [
      "✅ Epoch 37: Train Loss = 0.0056, Val Loss = 0.4552\n",
      "🎉 Saved best model to finetuned_identity_only_best.pt\n"
     ]
    },
    {
     "name": "stderr",
     "output_type": "stream",
     "text": [
      "Epoch 38/100 [Train]: 100%|██████████| 22/22 [00:10<00:00,  2.05it/s]\n",
      "Epoch 38/100 [Val]: 100%|██████████| 7/7 [00:01<00:00,  3.54it/s]\n"
     ]
    },
    {
     "name": "stdout",
     "output_type": "stream",
     "text": [
      "✅ Epoch 38: Train Loss = 0.0053, Val Loss = 0.4549\n",
      "🎉 Saved best model to finetuned_identity_only_best.pt\n"
     ]
    },
    {
     "name": "stderr",
     "output_type": "stream",
     "text": [
      "Epoch 39/100 [Train]: 100%|██████████| 22/22 [00:10<00:00,  2.02it/s]\n",
      "Epoch 39/100 [Val]: 100%|██████████| 7/7 [00:02<00:00,  3.42it/s]\n"
     ]
    },
    {
     "name": "stdout",
     "output_type": "stream",
     "text": [
      "✅ Epoch 39: Train Loss = 0.0050, Val Loss = 0.4540\n",
      "🎉 Saved best model to finetuned_identity_only_best.pt\n"
     ]
    },
    {
     "name": "stderr",
     "output_type": "stream",
     "text": [
      "Epoch 40/100 [Train]: 100%|██████████| 22/22 [00:11<00:00,  2.00it/s]\n",
      "Epoch 40/100 [Val]: 100%|██████████| 7/7 [00:02<00:00,  2.56it/s]\n"
     ]
    },
    {
     "name": "stdout",
     "output_type": "stream",
     "text": [
      "✅ Epoch 40: Train Loss = 0.0048, Val Loss = 0.4537\n",
      "🎉 Saved best model to finetuned_identity_only_best.pt\n"
     ]
    },
    {
     "name": "stderr",
     "output_type": "stream",
     "text": [
      "Epoch 41/100 [Train]: 100%|██████████| 22/22 [00:10<00:00,  2.04it/s]\n",
      "Epoch 41/100 [Val]: 100%|██████████| 7/7 [00:01<00:00,  3.59it/s]\n"
     ]
    },
    {
     "name": "stdout",
     "output_type": "stream",
     "text": [
      "✅ Epoch 41: Train Loss = 0.0046, Val Loss = 0.4524\n",
      "🎉 Saved best model to finetuned_identity_only_best.pt\n"
     ]
    },
    {
     "name": "stderr",
     "output_type": "stream",
     "text": [
      "Epoch 42/100 [Train]: 100%|██████████| 22/22 [00:10<00:00,  2.09it/s]\n",
      "Epoch 42/100 [Val]: 100%|██████████| 7/7 [00:01<00:00,  3.55it/s]\n"
     ]
    },
    {
     "name": "stdout",
     "output_type": "stream",
     "text": [
      "✅ Epoch 42: Train Loss = 0.0044, Val Loss = 0.4526\n",
      "⚠️ No improvement. Patience: 1/5\n"
     ]
    },
    {
     "name": "stderr",
     "output_type": "stream",
     "text": [
      "Epoch 43/100 [Train]: 100%|██████████| 22/22 [00:10<00:00,  2.04it/s]\n",
      "Epoch 43/100 [Val]: 100%|██████████| 7/7 [00:01<00:00,  3.59it/s]\n"
     ]
    },
    {
     "name": "stdout",
     "output_type": "stream",
     "text": [
      "✅ Epoch 43: Train Loss = 0.0042, Val Loss = 0.4522\n",
      "🎉 Saved best model to finetuned_identity_only_best.pt\n"
     ]
    },
    {
     "name": "stderr",
     "output_type": "stream",
     "text": [
      "Epoch 44/100 [Train]: 100%|██████████| 22/22 [00:10<00:00,  2.06it/s]\n",
      "Epoch 44/100 [Val]: 100%|██████████| 7/7 [00:01<00:00,  3.58it/s]\n"
     ]
    },
    {
     "name": "stdout",
     "output_type": "stream",
     "text": [
      "✅ Epoch 44: Train Loss = 0.0040, Val Loss = 0.4506\n",
      "🎉 Saved best model to finetuned_identity_only_best.pt\n"
     ]
    },
    {
     "name": "stderr",
     "output_type": "stream",
     "text": [
      "Epoch 45/100 [Train]: 100%|██████████| 22/22 [00:10<00:00,  2.08it/s]\n",
      "Epoch 45/100 [Val]: 100%|██████████| 7/7 [00:01<00:00,  3.56it/s]\n"
     ]
    },
    {
     "name": "stdout",
     "output_type": "stream",
     "text": [
      "✅ Epoch 45: Train Loss = 0.0038, Val Loss = 0.4511\n",
      "⚠️ No improvement. Patience: 1/5\n"
     ]
    },
    {
     "name": "stderr",
     "output_type": "stream",
     "text": [
      "Epoch 46/100 [Train]: 100%|██████████| 22/22 [00:10<00:00,  2.07it/s]\n",
      "Epoch 46/100 [Val]: 100%|██████████| 7/7 [00:01<00:00,  3.56it/s]\n"
     ]
    },
    {
     "name": "stdout",
     "output_type": "stream",
     "text": [
      "✅ Epoch 46: Train Loss = 0.0037, Val Loss = 0.4510\n",
      "⚠️ No improvement. Patience: 2/5\n"
     ]
    },
    {
     "name": "stderr",
     "output_type": "stream",
     "text": [
      "Epoch 47/100 [Train]: 100%|██████████| 22/22 [00:10<00:00,  2.06it/s]\n",
      "Epoch 47/100 [Val]: 100%|██████████| 7/7 [00:01<00:00,  3.59it/s]\n"
     ]
    },
    {
     "name": "stdout",
     "output_type": "stream",
     "text": [
      "✅ Epoch 47: Train Loss = 0.0035, Val Loss = 0.4502\n",
      "🎉 Saved best model to finetuned_identity_only_best.pt\n"
     ]
    },
    {
     "name": "stderr",
     "output_type": "stream",
     "text": [
      "Epoch 48/100 [Train]: 100%|██████████| 22/22 [00:10<00:00,  2.07it/s]\n",
      "Epoch 48/100 [Val]: 100%|██████████| 7/7 [00:01<00:00,  3.61it/s]\n"
     ]
    },
    {
     "name": "stdout",
     "output_type": "stream",
     "text": [
      "✅ Epoch 48: Train Loss = 0.0034, Val Loss = 0.4497\n",
      "🎉 Saved best model to finetuned_identity_only_best.pt\n"
     ]
    },
    {
     "name": "stderr",
     "output_type": "stream",
     "text": [
      "Epoch 49/100 [Train]: 100%|██████████| 22/22 [00:10<00:00,  2.06it/s]\n",
      "Epoch 49/100 [Val]: 100%|██████████| 7/7 [00:01<00:00,  3.52it/s]\n"
     ]
    },
    {
     "name": "stdout",
     "output_type": "stream",
     "text": [
      "✅ Epoch 49: Train Loss = 0.0032, Val Loss = 0.4497\n",
      "⚠️ No improvement. Patience: 1/5\n"
     ]
    },
    {
     "name": "stderr",
     "output_type": "stream",
     "text": [
      "Epoch 50/100 [Train]: 100%|██████████| 22/22 [00:10<00:00,  2.06it/s]\n",
      "Epoch 50/100 [Val]: 100%|██████████| 7/7 [00:01<00:00,  3.55it/s]\n"
     ]
    },
    {
     "name": "stdout",
     "output_type": "stream",
     "text": [
      "✅ Epoch 50: Train Loss = 0.0031, Val Loss = 0.4493\n",
      "🎉 Saved best model to finetuned_identity_only_best.pt\n"
     ]
    },
    {
     "name": "stderr",
     "output_type": "stream",
     "text": [
      "Epoch 51/100 [Train]: 100%|██████████| 22/22 [00:10<00:00,  2.03it/s]\n",
      "Epoch 51/100 [Val]: 100%|██████████| 7/7 [00:02<00:00,  3.43it/s]\n"
     ]
    },
    {
     "name": "stdout",
     "output_type": "stream",
     "text": [
      "✅ Epoch 51: Train Loss = 0.0030, Val Loss = 0.4484\n",
      "🎉 Saved best model to finetuned_identity_only_best.pt\n"
     ]
    },
    {
     "name": "stderr",
     "output_type": "stream",
     "text": [
      "Epoch 52/100 [Train]: 100%|██████████| 22/22 [00:10<00:00,  2.01it/s]\n",
      "Epoch 52/100 [Val]: 100%|██████████| 7/7 [00:02<00:00,  3.48it/s]\n"
     ]
    },
    {
     "name": "stdout",
     "output_type": "stream",
     "text": [
      "✅ Epoch 52: Train Loss = 0.0029, Val Loss = 0.4484\n",
      "⚠️ No improvement. Patience: 1/5\n"
     ]
    },
    {
     "name": "stderr",
     "output_type": "stream",
     "text": [
      "Epoch 53/100 [Train]: 100%|██████████| 22/22 [00:10<00:00,  2.01it/s]\n",
      "Epoch 53/100 [Val]: 100%|██████████| 7/7 [00:02<00:00,  3.48it/s]\n"
     ]
    },
    {
     "name": "stdout",
     "output_type": "stream",
     "text": [
      "✅ Epoch 53: Train Loss = 0.0028, Val Loss = 0.4479\n",
      "🎉 Saved best model to finetuned_identity_only_best.pt\n"
     ]
    },
    {
     "name": "stderr",
     "output_type": "stream",
     "text": [
      "Epoch 54/100 [Train]: 100%|██████████| 22/22 [00:10<00:00,  2.02it/s]\n",
      "Epoch 54/100 [Val]: 100%|██████████| 7/7 [00:01<00:00,  3.52it/s]\n"
     ]
    },
    {
     "name": "stdout",
     "output_type": "stream",
     "text": [
      "✅ Epoch 54: Train Loss = 0.0027, Val Loss = 0.4477\n",
      "🎉 Saved best model to finetuned_identity_only_best.pt\n"
     ]
    },
    {
     "name": "stderr",
     "output_type": "stream",
     "text": [
      "Epoch 55/100 [Train]: 100%|██████████| 22/22 [00:10<00:00,  2.03it/s]\n",
      "Epoch 55/100 [Val]: 100%|██████████| 7/7 [00:02<00:00,  3.44it/s]\n"
     ]
    },
    {
     "name": "stdout",
     "output_type": "stream",
     "text": [
      "✅ Epoch 55: Train Loss = 0.0026, Val Loss = 0.4468\n",
      "🎉 Saved best model to finetuned_identity_only_best.pt\n"
     ]
    },
    {
     "name": "stderr",
     "output_type": "stream",
     "text": [
      "Epoch 56/100 [Train]: 100%|██████████| 22/22 [00:10<00:00,  2.02it/s]\n",
      "Epoch 56/100 [Val]: 100%|██████████| 7/7 [00:01<00:00,  3.53it/s]\n"
     ]
    },
    {
     "name": "stdout",
     "output_type": "stream",
     "text": [
      "✅ Epoch 56: Train Loss = 0.0025, Val Loss = 0.4464\n",
      "🎉 Saved best model to finetuned_identity_only_best.pt\n"
     ]
    },
    {
     "name": "stderr",
     "output_type": "stream",
     "text": [
      "Epoch 57/100 [Train]: 100%|██████████| 22/22 [00:10<00:00,  2.04it/s]\n",
      "Epoch 57/100 [Val]: 100%|██████████| 7/7 [00:02<00:00,  3.48it/s]\n"
     ]
    },
    {
     "name": "stdout",
     "output_type": "stream",
     "text": [
      "✅ Epoch 57: Train Loss = 0.0024, Val Loss = 0.4464\n",
      "🎉 Saved best model to finetuned_identity_only_best.pt\n"
     ]
    },
    {
     "name": "stderr",
     "output_type": "stream",
     "text": [
      "Epoch 58/100 [Train]: 100%|██████████| 22/22 [00:10<00:00,  2.04it/s]\n",
      "Epoch 58/100 [Val]: 100%|██████████| 7/7 [00:02<00:00,  3.48it/s]\n"
     ]
    },
    {
     "name": "stdout",
     "output_type": "stream",
     "text": [
      "✅ Epoch 58: Train Loss = 0.0023, Val Loss = 0.4470\n",
      "⚠️ No improvement. Patience: 1/5\n"
     ]
    },
    {
     "name": "stderr",
     "output_type": "stream",
     "text": [
      "Epoch 59/100 [Train]: 100%|██████████| 22/22 [00:10<00:00,  2.05it/s]\n",
      "Epoch 59/100 [Val]: 100%|██████████| 7/7 [00:02<00:00,  3.43it/s]\n"
     ]
    },
    {
     "name": "stdout",
     "output_type": "stream",
     "text": [
      "✅ Epoch 59: Train Loss = 0.0022, Val Loss = 0.4465\n",
      "⚠️ No improvement. Patience: 2/5\n"
     ]
    },
    {
     "name": "stderr",
     "output_type": "stream",
     "text": [
      "Epoch 60/100 [Train]: 100%|██████████| 22/22 [00:10<00:00,  2.04it/s]\n",
      "Epoch 60/100 [Val]: 100%|██████████| 7/7 [00:01<00:00,  3.59it/s]\n"
     ]
    },
    {
     "name": "stdout",
     "output_type": "stream",
     "text": [
      "✅ Epoch 60: Train Loss = 0.0022, Val Loss = 0.4456\n",
      "🎉 Saved best model to finetuned_identity_only_best.pt\n"
     ]
    },
    {
     "name": "stderr",
     "output_type": "stream",
     "text": [
      "Epoch 61/100 [Train]: 100%|██████████| 22/22 [00:10<00:00,  2.05it/s]\n",
      "Epoch 61/100 [Val]: 100%|██████████| 7/7 [00:01<00:00,  3.62it/s]\n"
     ]
    },
    {
     "name": "stdout",
     "output_type": "stream",
     "text": [
      "✅ Epoch 61: Train Loss = 0.0021, Val Loss = 0.4457\n",
      "⚠️ No improvement. Patience: 1/5\n"
     ]
    },
    {
     "name": "stderr",
     "output_type": "stream",
     "text": [
      "Epoch 62/100 [Train]: 100%|██████████| 22/22 [00:10<00:00,  2.05it/s]\n",
      "Epoch 62/100 [Val]: 100%|██████████| 7/7 [00:01<00:00,  3.55it/s]\n"
     ]
    },
    {
     "name": "stdout",
     "output_type": "stream",
     "text": [
      "✅ Epoch 62: Train Loss = 0.0020, Val Loss = 0.4461\n",
      "⚠️ No improvement. Patience: 2/5\n"
     ]
    },
    {
     "name": "stderr",
     "output_type": "stream",
     "text": [
      "Epoch 63/100 [Train]: 100%|██████████| 22/22 [00:10<00:00,  2.06it/s]\n",
      "Epoch 63/100 [Val]: 100%|██████████| 7/7 [00:01<00:00,  3.52it/s]\n"
     ]
    },
    {
     "name": "stdout",
     "output_type": "stream",
     "text": [
      "✅ Epoch 63: Train Loss = 0.0020, Val Loss = 0.4457\n",
      "⚠️ No improvement. Patience: 3/5\n"
     ]
    },
    {
     "name": "stderr",
     "output_type": "stream",
     "text": [
      "Epoch 64/100 [Train]: 100%|██████████| 22/22 [00:10<00:00,  2.05it/s]\n",
      "Epoch 64/100 [Val]: 100%|██████████| 7/7 [00:01<00:00,  3.54it/s]\n"
     ]
    },
    {
     "name": "stdout",
     "output_type": "stream",
     "text": [
      "✅ Epoch 64: Train Loss = 0.0019, Val Loss = 0.4452\n",
      "🎉 Saved best model to finetuned_identity_only_best.pt\n"
     ]
    },
    {
     "name": "stderr",
     "output_type": "stream",
     "text": [
      "Epoch 65/100 [Train]: 100%|██████████| 22/22 [00:11<00:00,  1.93it/s]\n",
      "Epoch 65/100 [Val]: 100%|██████████| 7/7 [00:02<00:00,  2.43it/s]\n"
     ]
    },
    {
     "name": "stdout",
     "output_type": "stream",
     "text": [
      "✅ Epoch 65: Train Loss = 0.0019, Val Loss = 0.4447\n",
      "🎉 Saved best model to finetuned_identity_only_best.pt\n"
     ]
    },
    {
     "name": "stderr",
     "output_type": "stream",
     "text": [
      "Epoch 66/100 [Train]: 100%|██████████| 22/22 [00:14<00:00,  1.50it/s]\n",
      "Epoch 66/100 [Val]: 100%|██████████| 7/7 [00:02<00:00,  2.69it/s]\n"
     ]
    },
    {
     "name": "stdout",
     "output_type": "stream",
     "text": [
      "✅ Epoch 66: Train Loss = 0.0018, Val Loss = 0.4449\n",
      "⚠️ No improvement. Patience: 1/5\n"
     ]
    },
    {
     "name": "stderr",
     "output_type": "stream",
     "text": [
      "Epoch 67/100 [Train]: 100%|██████████| 22/22 [00:13<00:00,  1.57it/s]\n",
      "Epoch 67/100 [Val]: 100%|██████████| 7/7 [00:02<00:00,  2.58it/s]\n"
     ]
    },
    {
     "name": "stdout",
     "output_type": "stream",
     "text": [
      "✅ Epoch 67: Train Loss = 0.0017, Val Loss = 0.4448\n",
      "⚠️ No improvement. Patience: 2/5\n"
     ]
    },
    {
     "name": "stderr",
     "output_type": "stream",
     "text": [
      "Epoch 68/100 [Train]: 100%|██████████| 22/22 [00:14<00:00,  1.50it/s]\n",
      "Epoch 68/100 [Val]: 100%|██████████| 7/7 [00:02<00:00,  2.70it/s]\n"
     ]
    },
    {
     "name": "stdout",
     "output_type": "stream",
     "text": [
      "✅ Epoch 68: Train Loss = 0.0017, Val Loss = 0.4445\n",
      "🎉 Saved best model to finetuned_identity_only_best.pt\n"
     ]
    },
    {
     "name": "stderr",
     "output_type": "stream",
     "text": [
      "Epoch 69/100 [Train]: 100%|██████████| 22/22 [00:11<00:00,  1.84it/s]\n",
      "Epoch 69/100 [Val]: 100%|██████████| 7/7 [00:01<00:00,  3.59it/s]\n"
     ]
    },
    {
     "name": "stdout",
     "output_type": "stream",
     "text": [
      "✅ Epoch 69: Train Loss = 0.0016, Val Loss = 0.4444\n",
      "🎉 Saved best model to finetuned_identity_only_best.pt\n"
     ]
    },
    {
     "name": "stderr",
     "output_type": "stream",
     "text": [
      "Epoch 70/100 [Train]: 100%|██████████| 22/22 [00:10<00:00,  2.08it/s]\n",
      "Epoch 70/100 [Val]: 100%|██████████| 7/7 [00:01<00:00,  3.58it/s]\n"
     ]
    },
    {
     "name": "stdout",
     "output_type": "stream",
     "text": [
      "✅ Epoch 70: Train Loss = 0.0016, Val Loss = 0.4446\n",
      "⚠️ No improvement. Patience: 1/5\n"
     ]
    },
    {
     "name": "stderr",
     "output_type": "stream",
     "text": [
      "Epoch 71/100 [Train]: 100%|██████████| 22/22 [00:10<00:00,  2.09it/s]\n",
      "Epoch 71/100 [Val]: 100%|██████████| 7/7 [00:01<00:00,  3.61it/s]\n"
     ]
    },
    {
     "name": "stdout",
     "output_type": "stream",
     "text": [
      "✅ Epoch 71: Train Loss = 0.0016, Val Loss = 0.4436\n",
      "🎉 Saved best model to finetuned_identity_only_best.pt\n"
     ]
    },
    {
     "name": "stderr",
     "output_type": "stream",
     "text": [
      "Epoch 72/100 [Train]: 100%|██████████| 22/22 [00:10<00:00,  2.08it/s]\n",
      "Epoch 72/100 [Val]: 100%|██████████| 7/7 [00:01<00:00,  3.57it/s]\n"
     ]
    },
    {
     "name": "stdout",
     "output_type": "stream",
     "text": [
      "✅ Epoch 72: Train Loss = 0.0015, Val Loss = 0.4438\n",
      "⚠️ No improvement. Patience: 1/5\n"
     ]
    },
    {
     "name": "stderr",
     "output_type": "stream",
     "text": [
      "Epoch 73/100 [Train]: 100%|██████████| 22/22 [00:10<00:00,  2.07it/s]\n",
      "Epoch 73/100 [Val]: 100%|██████████| 7/7 [00:01<00:00,  3.59it/s]\n"
     ]
    },
    {
     "name": "stdout",
     "output_type": "stream",
     "text": [
      "✅ Epoch 73: Train Loss = 0.0015, Val Loss = 0.4442\n",
      "⚠️ No improvement. Patience: 2/5\n"
     ]
    },
    {
     "name": "stderr",
     "output_type": "stream",
     "text": [
      "Epoch 74/100 [Train]: 100%|██████████| 22/22 [00:10<00:00,  2.06it/s]\n",
      "Epoch 74/100 [Val]: 100%|██████████| 7/7 [00:01<00:00,  3.63it/s]\n"
     ]
    },
    {
     "name": "stdout",
     "output_type": "stream",
     "text": [
      "✅ Epoch 74: Train Loss = 0.0014, Val Loss = 0.4434\n",
      "🎉 Saved best model to finetuned_identity_only_best.pt\n"
     ]
    },
    {
     "name": "stderr",
     "output_type": "stream",
     "text": [
      "Epoch 75/100 [Train]: 100%|██████████| 22/22 [00:10<00:00,  2.09it/s]\n",
      "Epoch 75/100 [Val]: 100%|██████████| 7/7 [00:01<00:00,  3.60it/s]\n"
     ]
    },
    {
     "name": "stdout",
     "output_type": "stream",
     "text": [
      "✅ Epoch 75: Train Loss = 0.0014, Val Loss = 0.4440\n",
      "⚠️ No improvement. Patience: 1/5\n"
     ]
    },
    {
     "name": "stderr",
     "output_type": "stream",
     "text": [
      "Epoch 76/100 [Train]: 100%|██████████| 22/22 [00:10<00:00,  2.09it/s]\n",
      "Epoch 76/100 [Val]: 100%|██████████| 7/7 [00:01<00:00,  3.61it/s]\n"
     ]
    },
    {
     "name": "stdout",
     "output_type": "stream",
     "text": [
      "✅ Epoch 76: Train Loss = 0.0013, Val Loss = 0.4435\n",
      "⚠️ No improvement. Patience: 2/5\n"
     ]
    },
    {
     "name": "stderr",
     "output_type": "stream",
     "text": [
      "Epoch 77/100 [Train]: 100%|██████████| 22/22 [00:10<00:00,  2.08it/s]\n",
      "Epoch 77/100 [Val]: 100%|██████████| 7/7 [00:02<00:00,  3.49it/s]\n"
     ]
    },
    {
     "name": "stdout",
     "output_type": "stream",
     "text": [
      "✅ Epoch 77: Train Loss = 0.0013, Val Loss = 0.4434\n",
      "🎉 Saved best model to finetuned_identity_only_best.pt\n"
     ]
    },
    {
     "name": "stderr",
     "output_type": "stream",
     "text": [
      "Epoch 78/100 [Train]: 100%|██████████| 22/22 [00:10<00:00,  2.07it/s]\n",
      "Epoch 78/100 [Val]: 100%|██████████| 7/7 [00:01<00:00,  3.54it/s]\n"
     ]
    },
    {
     "name": "stdout",
     "output_type": "stream",
     "text": [
      "✅ Epoch 78: Train Loss = 0.0013, Val Loss = 0.4438\n",
      "⚠️ No improvement. Patience: 1/5\n"
     ]
    },
    {
     "name": "stderr",
     "output_type": "stream",
     "text": [
      "Epoch 79/100 [Train]: 100%|██████████| 22/22 [00:10<00:00,  2.04it/s]\n",
      "Epoch 79/100 [Val]: 100%|██████████| 7/7 [00:02<00:00,  3.49it/s]\n"
     ]
    },
    {
     "name": "stdout",
     "output_type": "stream",
     "text": [
      "✅ Epoch 79: Train Loss = 0.0012, Val Loss = 0.4432\n",
      "🎉 Saved best model to finetuned_identity_only_best.pt\n"
     ]
    },
    {
     "name": "stderr",
     "output_type": "stream",
     "text": [
      "Epoch 80/100 [Train]: 100%|██████████| 22/22 [00:10<00:00,  2.06it/s]\n",
      "Epoch 80/100 [Val]: 100%|██████████| 7/7 [00:01<00:00,  3.54it/s]\n"
     ]
    },
    {
     "name": "stdout",
     "output_type": "stream",
     "text": [
      "✅ Epoch 80: Train Loss = 0.0012, Val Loss = 0.4427\n",
      "🎉 Saved best model to finetuned_identity_only_best.pt\n"
     ]
    },
    {
     "name": "stderr",
     "output_type": "stream",
     "text": [
      "Epoch 81/100 [Train]: 100%|██████████| 22/22 [00:10<00:00,  2.05it/s]\n",
      "Epoch 81/100 [Val]: 100%|██████████| 7/7 [00:01<00:00,  3.60it/s]\n"
     ]
    },
    {
     "name": "stdout",
     "output_type": "stream",
     "text": [
      "✅ Epoch 81: Train Loss = 0.0012, Val Loss = 0.4428\n",
      "⚠️ No improvement. Patience: 1/5\n"
     ]
    },
    {
     "name": "stderr",
     "output_type": "stream",
     "text": [
      "Epoch 82/100 [Train]: 100%|██████████| 22/22 [00:10<00:00,  2.05it/s]\n",
      "Epoch 82/100 [Val]: 100%|██████████| 7/7 [00:01<00:00,  3.55it/s]\n"
     ]
    },
    {
     "name": "stdout",
     "output_type": "stream",
     "text": [
      "✅ Epoch 82: Train Loss = 0.0012, Val Loss = 0.4426\n",
      "🎉 Saved best model to finetuned_identity_only_best.pt\n"
     ]
    },
    {
     "name": "stderr",
     "output_type": "stream",
     "text": [
      "Epoch 83/100 [Train]: 100%|██████████| 22/22 [00:10<00:00,  2.06it/s]\n",
      "Epoch 83/100 [Val]: 100%|██████████| 7/7 [00:01<00:00,  3.57it/s]\n"
     ]
    },
    {
     "name": "stdout",
     "output_type": "stream",
     "text": [
      "✅ Epoch 83: Train Loss = 0.0011, Val Loss = 0.4427\n",
      "⚠️ No improvement. Patience: 1/5\n"
     ]
    },
    {
     "name": "stderr",
     "output_type": "stream",
     "text": [
      "Epoch 84/100 [Train]: 100%|██████████| 22/22 [00:10<00:00,  2.07it/s]\n",
      "Epoch 84/100 [Val]: 100%|██████████| 7/7 [00:01<00:00,  3.53it/s]\n"
     ]
    },
    {
     "name": "stdout",
     "output_type": "stream",
     "text": [
      "✅ Epoch 84: Train Loss = 0.0011, Val Loss = 0.4429\n",
      "⚠️ No improvement. Patience: 2/5\n"
     ]
    },
    {
     "name": "stderr",
     "output_type": "stream",
     "text": [
      "Epoch 85/100 [Train]: 100%|██████████| 22/22 [00:10<00:00,  2.06it/s]\n",
      "Epoch 85/100 [Val]: 100%|██████████| 7/7 [00:01<00:00,  3.59it/s]\n"
     ]
    },
    {
     "name": "stdout",
     "output_type": "stream",
     "text": [
      "✅ Epoch 85: Train Loss = 0.0011, Val Loss = 0.4426\n",
      "⚠️ No improvement. Patience: 3/5\n"
     ]
    },
    {
     "name": "stderr",
     "output_type": "stream",
     "text": [
      "Epoch 86/100 [Train]: 100%|██████████| 22/22 [00:10<00:00,  2.06it/s]\n",
      "Epoch 86/100 [Val]: 100%|██████████| 7/7 [00:01<00:00,  3.64it/s]\n"
     ]
    },
    {
     "name": "stdout",
     "output_type": "stream",
     "text": [
      "✅ Epoch 86: Train Loss = 0.0010, Val Loss = 0.4426\n",
      "🎉 Saved best model to finetuned_identity_only_best.pt\n"
     ]
    },
    {
     "name": "stderr",
     "output_type": "stream",
     "text": [
      "Epoch 87/100 [Train]: 100%|██████████| 22/22 [00:10<00:00,  2.05it/s]\n",
      "Epoch 87/100 [Val]: 100%|██████████| 7/7 [00:01<00:00,  3.53it/s]\n"
     ]
    },
    {
     "name": "stdout",
     "output_type": "stream",
     "text": [
      "✅ Epoch 87: Train Loss = 0.0010, Val Loss = 0.4421\n",
      "🎉 Saved best model to finetuned_identity_only_best.pt\n"
     ]
    },
    {
     "name": "stderr",
     "output_type": "stream",
     "text": [
      "Epoch 88/100 [Train]: 100%|██████████| 22/22 [00:10<00:00,  2.06it/s]\n",
      "Epoch 88/100 [Val]: 100%|██████████| 7/7 [00:01<00:00,  3.57it/s]\n"
     ]
    },
    {
     "name": "stdout",
     "output_type": "stream",
     "text": [
      "✅ Epoch 88: Train Loss = 0.0010, Val Loss = 0.4420\n",
      "🎉 Saved best model to finetuned_identity_only_best.pt\n"
     ]
    },
    {
     "name": "stderr",
     "output_type": "stream",
     "text": [
      "Epoch 89/100 [Train]: 100%|██████████| 22/22 [00:10<00:00,  2.06it/s]\n",
      "Epoch 89/100 [Val]: 100%|██████████| 7/7 [00:01<00:00,  3.62it/s]\n"
     ]
    },
    {
     "name": "stdout",
     "output_type": "stream",
     "text": [
      "✅ Epoch 89: Train Loss = 0.0010, Val Loss = 0.4419\n",
      "🎉 Saved best model to finetuned_identity_only_best.pt\n"
     ]
    },
    {
     "name": "stderr",
     "output_type": "stream",
     "text": [
      "Epoch 90/100 [Train]: 100%|██████████| 22/22 [00:10<00:00,  2.08it/s]\n",
      "Epoch 90/100 [Val]: 100%|██████████| 7/7 [00:01<00:00,  3.54it/s]\n"
     ]
    },
    {
     "name": "stdout",
     "output_type": "stream",
     "text": [
      "✅ Epoch 90: Train Loss = 0.0010, Val Loss = 0.4420\n",
      "⚠️ No improvement. Patience: 1/5\n"
     ]
    },
    {
     "name": "stderr",
     "output_type": "stream",
     "text": [
      "Epoch 91/100 [Train]: 100%|██████████| 22/22 [00:10<00:00,  2.06it/s]\n",
      "Epoch 91/100 [Val]: 100%|██████████| 7/7 [00:01<00:00,  3.60it/s]\n"
     ]
    },
    {
     "name": "stdout",
     "output_type": "stream",
     "text": [
      "✅ Epoch 91: Train Loss = 0.0009, Val Loss = 0.4416\n",
      "🎉 Saved best model to finetuned_identity_only_best.pt\n"
     ]
    },
    {
     "name": "stderr",
     "output_type": "stream",
     "text": [
      "Epoch 92/100 [Train]: 100%|██████████| 22/22 [00:10<00:00,  2.07it/s]\n",
      "Epoch 92/100 [Val]: 100%|██████████| 7/7 [00:01<00:00,  3.59it/s]\n"
     ]
    },
    {
     "name": "stdout",
     "output_type": "stream",
     "text": [
      "✅ Epoch 92: Train Loss = 0.0009, Val Loss = 0.4418\n",
      "⚠️ No improvement. Patience: 1/5\n"
     ]
    },
    {
     "name": "stderr",
     "output_type": "stream",
     "text": [
      "Epoch 93/100 [Train]: 100%|██████████| 22/22 [00:10<00:00,  2.08it/s]\n",
      "Epoch 93/100 [Val]: 100%|██████████| 7/7 [00:01<00:00,  3.62it/s]\n"
     ]
    },
    {
     "name": "stdout",
     "output_type": "stream",
     "text": [
      "✅ Epoch 93: Train Loss = 0.0009, Val Loss = 0.4420\n",
      "⚠️ No improvement. Patience: 2/5\n"
     ]
    },
    {
     "name": "stderr",
     "output_type": "stream",
     "text": [
      "Epoch 94/100 [Train]: 100%|██████████| 22/22 [00:10<00:00,  2.08it/s]\n",
      "Epoch 94/100 [Val]: 100%|██████████| 7/7 [00:01<00:00,  3.62it/s]\n"
     ]
    },
    {
     "name": "stdout",
     "output_type": "stream",
     "text": [
      "✅ Epoch 94: Train Loss = 0.0009, Val Loss = 0.4415\n",
      "🎉 Saved best model to finetuned_identity_only_best.pt\n"
     ]
    },
    {
     "name": "stderr",
     "output_type": "stream",
     "text": [
      "Epoch 95/100 [Train]: 100%|██████████| 22/22 [00:10<00:00,  2.08it/s]\n",
      "Epoch 95/100 [Val]: 100%|██████████| 7/7 [00:01<00:00,  3.60it/s]\n"
     ]
    },
    {
     "name": "stdout",
     "output_type": "stream",
     "text": [
      "✅ Epoch 95: Train Loss = 0.0008, Val Loss = 0.4418\n",
      "⚠️ No improvement. Patience: 1/5\n"
     ]
    },
    {
     "name": "stderr",
     "output_type": "stream",
     "text": [
      "Epoch 96/100 [Train]: 100%|██████████| 22/22 [00:10<00:00,  2.07it/s]\n",
      "Epoch 96/100 [Val]: 100%|██████████| 7/7 [00:01<00:00,  3.58it/s]\n"
     ]
    },
    {
     "name": "stdout",
     "output_type": "stream",
     "text": [
      "✅ Epoch 96: Train Loss = 0.0008, Val Loss = 0.4415\n",
      "🎉 Saved best model to finetuned_identity_only_best.pt\n"
     ]
    },
    {
     "name": "stderr",
     "output_type": "stream",
     "text": [
      "Epoch 97/100 [Train]: 100%|██████████| 22/22 [00:10<00:00,  2.07it/s]\n",
      "Epoch 97/100 [Val]: 100%|██████████| 7/7 [00:01<00:00,  3.59it/s]\n"
     ]
    },
    {
     "name": "stdout",
     "output_type": "stream",
     "text": [
      "✅ Epoch 97: Train Loss = 0.0008, Val Loss = 0.4412\n",
      "🎉 Saved best model to finetuned_identity_only_best.pt\n"
     ]
    },
    {
     "name": "stderr",
     "output_type": "stream",
     "text": [
      "Epoch 98/100 [Train]: 100%|██████████| 22/22 [00:10<00:00,  2.09it/s]\n",
      "Epoch 98/100 [Val]: 100%|██████████| 7/7 [00:01<00:00,  3.66it/s]\n"
     ]
    },
    {
     "name": "stdout",
     "output_type": "stream",
     "text": [
      "✅ Epoch 98: Train Loss = 0.0008, Val Loss = 0.4414\n",
      "⚠️ No improvement. Patience: 1/5\n"
     ]
    },
    {
     "name": "stderr",
     "output_type": "stream",
     "text": [
      "Epoch 99/100 [Train]: 100%|██████████| 22/22 [00:10<00:00,  2.09it/s]\n",
      "Epoch 99/100 [Val]: 100%|██████████| 7/7 [00:01<00:00,  3.64it/s]\n"
     ]
    },
    {
     "name": "stdout",
     "output_type": "stream",
     "text": [
      "✅ Epoch 99: Train Loss = 0.0008, Val Loss = 0.4413\n",
      "⚠️ No improvement. Patience: 2/5\n"
     ]
    },
    {
     "name": "stderr",
     "output_type": "stream",
     "text": [
      "Epoch 100/100 [Train]: 100%|██████████| 22/22 [00:10<00:00,  2.09it/s]\n",
      "Epoch 100/100 [Val]: 100%|██████████| 7/7 [00:01<00:00,  3.66it/s]\n"
     ]
    },
    {
     "name": "stdout",
     "output_type": "stream",
     "text": [
      "✅ Epoch 100: Train Loss = 0.0008, Val Loss = 0.4415\n",
      "⚠️ No improvement. Patience: 3/5\n",
      "\n",
      "--- Starting Final Testing and Plotting Phase ---\n",
      "Best model loaded.\n",
      "Loading preprocessed identity data from cache: C:/Users/yehte/Downloads/Ye Htet/Projects/TikTok/Annotation/fine-tune/test.identity_cached.csv\n"
     ]
    },
    {
     "name": "stderr",
     "output_type": "stream",
     "text": [
      "[Testing]: 100%|██████████| 4/4 [00:00<00:00,  4.09it/s]\n"
     ]
    },
    {
     "name": "stdout",
     "output_type": "stream",
     "text": [
      "\n",
      "📊 Test Accuracy: 93.00%\n",
      "\n",
      "--- Plotting up to 100 results ---\n",
      "--- Plotting complete ---\n"
     ]
    }
   ],
   "execution_count": 1
  }
 ],
 "metadata": {
  "kernelspec": {
   "display_name": "Python 3",
   "language": "python",
   "name": "python3"
  },
  "language_info": {
   "codemirror_mode": {
    "name": "ipython",
    "version": 2
   },
   "file_extension": ".py",
   "mimetype": "text/x-python",
   "name": "python",
   "nbconvert_exporter": "python",
   "pygments_lexer": "ipython2",
   "version": "2.7.6"
  }
 },
 "nbformat": 4,
 "nbformat_minor": 5
}
