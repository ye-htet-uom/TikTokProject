{
 "cells": [
  {
   "cell_type": "code",
   "id": "initial_id",
   "metadata": {
    "collapsed": true,
    "ExecuteTime": {
     "end_time": "2025-07-11T06:00:51.217149Z",
     "start_time": "2025-07-11T05:17:55.781509Z"
    }
   },
   "source": [
    "import os\n",
    "import pandas as pd\n",
    "import torch\n",
    "from torch.utils.data import Dataset, DataLoader\n",
    "from torchvision import transforms\n",
    "from PIL import Image\n",
    "import open_clip\n",
    "from tqdm import tqdm\n",
    "import matplotlib.pyplot as plt\n",
    "import textwrap\n",
    "import re\n",
    "from sklearn.metrics import confusion_matrix, ConfusionMatrixDisplay\n",
    "from pathlib import Path\n",
    "\n",
    "# ------------------------------\n",
    "# DEBUGGING & CONFIGURATION\n",
    "# ------------------------------\n",
    "# This forces CUDA operations to be synchronous for accurate error reporting.\n",
    "os.environ['CUDA_LAUNCH_BLOCKING'] = \"1\"\n",
    "\n",
    "CONFIG = {\n",
    "    \"model_name\": \"ViT-B-16-quickgelu\",\n",
    "    \"pretrained\": \"openai\",\n",
    "    \"csv_train\": \"C:/Users/yehte/Downloads/Ye Htet/Projects/TikTok/Annotation/fine-tune/train.csv\",\n",
    "    \"csv_val\": \"C:/Users/yehte/Downloads/Ye Htet/Projects/TikTok/Annotation/fine-tune/valid.csv\",\n",
    "    \"csv_test\": \"C:/Users/yehte/Downloads/Ye Htet/Projects/TikTok/Annotation/fine-tune/test.csv\",\n",
    "    \"save_path\": \"finetuned_identity_only_best_ViT-B-16_openai_7_11.pt\",\n",
    "    \"plot_save_dir\": \"C:/Users/yehte/Downloads/Ye Htet/Projects/TikTok/zero_shot_face_recognition/fourth_discussion\",\n",
    "    \"result_save_dir\": \"C:/Users/yehte/Downloads/Ye Htet/Projects/TikTok/zero_shot_face_recognition/fourth_discussion/test_results_identity_only_ViT-B-16_openai_7_11\",\n",
    "    \"num_plots\": 100,\n",
    "    \"batch_size\": 32,\n",
    "    \"epochs\": 100,\n",
    "    \"lr\": 1e-6,\n",
    "    \"patience\": 5,\n",
    "    \"device\": \"cuda\" if torch.cuda.is_available() else \"cpu\",\n",
    "\n",
    "    # --- SIMPLIFIED: Prompts for Identity ONLY ---\n",
    "    \"identity_prompts\": [\n",
    "        \"A face of Soekarno, a male First President (1945-1967) from Indonesia.\",\n",
    "        \"A face of Suharto, a male Second President (1967-1998) from Indonesia.\",\n",
    "        \"A face of Baharuddin Jusuf Habibie, a male Third President (1998-1999) from Indonesia.\",\n",
    "        \"A face of Abdurrahman Wahid, a male Fourth President (1999-2001) from Indonesia.\",\n",
    "        \"A face of Megawati Sukarnoputri, a female Fifth President (2001-2004) from Indonesia.\",\n",
    "        \"A face of Susilo Bambang Yudhoyono, a male Sixth President (2004-2014) from Indonesia.\",\n",
    "        \"A face of Joko Widodo, a male Seventh President (2014-2024) from Indonesia.\",\n",
    "        \"A face of Prabowo Subianto, a male Eight President (2024-Present) from Indonesia.\",\n",
    "        \"A face of Anies Rasyid Baswedan, a male Governor of Jakarta (2017-2022) and Presidential Candidate Election (2024) from Indonesia.\",\n",
    "        \"A face of Ganjar Pranowo, a male Governor of Central Java (2013-2023) and Presidential Candidate Election (2024) from Indonesia.\",\n",
    "        \"A face of Gibran Rakabuming Raka, a male Vice President (2024-2029) from Indonesia.\",\n",
    "        \"A face of Maruf Amin, a male Vice President (2019-2024) from Indonesia.\",\n",
    "        \"A face of Airlangga Hartarto, a male Coordinating Minister of Economic Affairs (2024-2029) from Indonesia.\",\n",
    "        \"A face of Sri Mulyani Indrawati, a female Minister of Finance (2024-2029) from Indonesia.\",\n",
    "        \"A face of Erick Thohir, a male Minister of State Owned Entreprises (2024-2029) from Indonesia.\",\n",
    "        \"A face of Agus Harimurti Yudhoyono, a male Coordinating Minister of Agrarian Affairs and Spatial Planning (2024-2029) and Chairman of Democratic Party from Indonesia.\",\n",
    "        \"A face of Muhaimin Iskandar, a male Coordinating Minister of Social Empowrement (2024-2029) and Chairman of National Awakening Party from Indonesia.\",\n",
    "        \"A face of Mahfud MD, a male Coordinating Minister of Political, Legal, and Security Affairs (2019-2024) from Indonesia.\",\n",
    "        \"A face of Boediono, a male Vice President (2009-2014) from Indonesia.\",\n",
    "        \"A face of Jusuf Kalla, a male Vice President (2004-2009) and Vice President (2014-2019) from Indonesia.\"\n",
    "    ]\n",
    "}\n",
    "\n",
    "# --- Create simplified keys from prompts for mapping ---\n",
    "CONFIG[\"identity_keys\"] = [p.replace(\"A face of \", \"\").split(\",\")[0] for p in CONFIG[\"identity_prompts\"]]\n",
    "print(CONFIG[\"identity_keys\"])\n",
    "\n",
    "# ------------------------------\n",
    "# Helper Function for Parsing\n",
    "# ------------------------------\n",
    "def parse_identity_from_prompt(prompt_text):\n",
    "    \"\"\"\n",
    "    A more robust parser to find any of the identity keys in the prompt\n",
    "    using word boundaries to ensure exact matches.\n",
    "    \"\"\"\n",
    "    for name in CONFIG[\"identity_keys\"]:\n",
    "        if re.search(r'\\b' + re.escape(name) + r'\\b', prompt_text, re.IGNORECASE):\n",
    "            return name\n",
    "    return None\n",
    "\n",
    "# ------------------------------\n",
    "# Preprocessing and Caching\n",
    "# ------------------------------\n",
    "def preprocess_and_cache_csv(csv_path):\n",
    "    \"\"\"\n",
    "    Parses prompts for identity and saves a cached version.\n",
    "    \"\"\"\n",
    "    cache_path = csv_path.replace(\".csv\", \".identity_cached.csv\")\n",
    "    if os.path.exists(cache_path):\n",
    "        print(f\"Loading preprocessed identity data from cache: {cache_path}\")\n",
    "        try:\n",
    "            df_cache = pd.read_csv(cache_path)\n",
    "            if df_cache.empty:\n",
    "                 print(\"Warning: Cached file is empty. Reprocessing.\")\n",
    "            else:\n",
    "                return df_cache\n",
    "        except pd.errors.EmptyDataError:\n",
    "            print(f\"Warning: Cached file is empty. Reprocessing.\")\n",
    "\n",
    "    print(f\"Preprocessing identity data and caching: {csv_path}\")\n",
    "    try:\n",
    "        df = pd.read_csv(csv_path)\n",
    "    except (FileNotFoundError, pd.errors.EmptyDataError):\n",
    "        print(f\"Error or empty file at {csv_path}\")\n",
    "        return None\n",
    "\n",
    "    new_data = []\n",
    "    for _, row in tqdm(df.iterrows(), total=len(df), desc=f\"Preprocessing {os.path.basename(csv_path)}\"):\n",
    "        name = parse_identity_from_prompt(row['prompt'])\n",
    "        if name:\n",
    "            new_data.append({\n",
    "                'filepath': row['filepath'],\n",
    "                'prompt': row['prompt'],\n",
    "                'identity_idx': CONFIG[\"identity_keys\"].index(name)\n",
    "            })\n",
    "\n",
    "    if not new_data:\n",
    "        print(\"Warning: Preprocessing resulted in an empty dataset.\")\n",
    "        return None\n",
    "\n",
    "    cached_df = pd.DataFrame(new_data)\n",
    "    cached_df.to_csv(cache_path, index=False)\n",
    "    return cached_df\n",
    "\n",
    "# ------------------------------\n",
    "# Dataset Class\n",
    "# ------------------------------\n",
    "class IdentityDataset(Dataset):\n",
    "    def __init__(self, df, preprocess):\n",
    "        self.df = df if df is not None else pd.DataFrame()\n",
    "        self.preprocess = preprocess\n",
    "\n",
    "    def __len__(self):\n",
    "        return len(self.df)\n",
    "\n",
    "    def __getitem__(self, idx):\n",
    "        row = self.df.iloc[idx]\n",
    "        image_path = row[\"filepath\"]\n",
    "        try:\n",
    "            image = Image.open(image_path).convert(\"RGB\")\n",
    "            image = self.preprocess(image)\n",
    "        except FileNotFoundError:\n",
    "            image = torch.zeros((3, 224, 224))\n",
    "\n",
    "        identity_idx = torch.tensor(row[\"identity_idx\"])\n",
    "        return image, identity_idx, image_path\n",
    "\n",
    "# ------------------------------\n",
    "# Training and Evaluation Functions\n",
    "# ------------------------------\n",
    "def plot_history(history, save_dir):\n",
    "    \"\"\"Plots and saves the training and validation loss and accuracy.\"\"\"\n",
    "    fig, (ax1, ax2) = plt.subplots(2, 1, figsize=(10, 12))\n",
    "\n",
    "    epochs_range = range(1, len(history['train_loss']) + 1)\n",
    "\n",
    "    ax1.plot(epochs_range, history['train_loss'], 'bo-', label='Training Loss')\n",
    "    ax1.plot(epochs_range, history['val_loss'], 'ro-', label='Validation Loss')\n",
    "    ax1.set_title('Training and Validation Loss')\n",
    "    ax1.set_xlabel('Epochs')\n",
    "    ax1.set_ylabel('Loss')\n",
    "    ax1.legend()\n",
    "    ax1.grid(True)\n",
    "\n",
    "    ax2.plot(epochs_range, history['train_acc'], 'bo-', label='Training Accuracy')\n",
    "    ax2.plot(epochs_range, history['val_acc'], 'ro-', label='Validation Accuracy')\n",
    "    ax2.set_title('Training and Validation Accuracy')\n",
    "    ax2.set_xlabel('Epochs')\n",
    "    ax2.set_ylabel('Accuracy (%)')\n",
    "    ax2.legend()\n",
    "    ax2.grid(True)\n",
    "\n",
    "    plt.tight_layout()\n",
    "    save_path = os.path.join(save_dir, \"training_history.png\")\n",
    "    plt.savefig(save_path)\n",
    "    plt.close(fig)\n",
    "    print(f\"Training history plot saved to: {save_path}\")\n",
    "\n",
    "def train_and_validate(model, train_loader, val_loader, identity_text_features):\n",
    "    optimizer = torch.optim.AdamW(model.parameters(), lr=CONFIG[\"lr\"])\n",
    "    loss_fn = torch.nn.CrossEntropyLoss()\n",
    "    best_val_loss = float(\"inf\")\n",
    "    patience_counter = 0\n",
    "    model_saved = False\n",
    "\n",
    "    history = {'train_loss': [], 'val_loss': [], 'train_acc': [], 'val_acc': []}\n",
    "\n",
    "    for epoch in range(CONFIG[\"epochs\"]):\n",
    "        model.train()\n",
    "        total_train_loss = 0\n",
    "        for images, gt_indices, _ in tqdm(train_loader, desc=f\"Epoch {epoch+1}/{CONFIG['epochs']} [Train]\"):\n",
    "            images, gt_indices = images.to(CONFIG[\"device\"]), gt_indices.to(CONFIG[\"device\"])\n",
    "\n",
    "            image_features = model.encode_image(images)\n",
    "            image_features = image_features / image_features.norm(dim=-1, keepdim=True)\n",
    "            logits_per_image = (100.0 * image_features @ identity_text_features.T)\n",
    "            loss = loss_fn(logits_per_image, gt_indices)\n",
    "\n",
    "            optimizer.zero_grad(); loss.backward(); optimizer.step()\n",
    "            total_train_loss += loss.item()\n",
    "\n",
    "        avg_train_loss = total_train_loss / len(train_loader)\n",
    "        history['train_loss'].append(avg_train_loss)\n",
    "\n",
    "        model.eval()\n",
    "        total_val_loss = 0\n",
    "        correct_train, total_train = 0, 0\n",
    "        correct_val, total_val = 0, 0\n",
    "\n",
    "        with torch.no_grad():\n",
    "            # Calculate training accuracy\n",
    "            for images, gt_indices, _ in tqdm(train_loader, desc=f\"Epoch {epoch+1}/{CONFIG['epochs']} [Train Acc]\"):\n",
    "                images, gt_indices = images.to(CONFIG[\"device\"]), gt_indices.to(CONFIG[\"device\"])\n",
    "                image_features = model.encode_image(images)\n",
    "                image_features /= image_features.norm(dim=-1, keepdim=True)\n",
    "                logits_per_image = (100.0 * image_features @ identity_text_features.T)\n",
    "                preds = logits_per_image.argmax(dim=-1)\n",
    "                total_train += gt_indices.size(0)\n",
    "                correct_train += (preds == gt_indices).sum().item()\n",
    "\n",
    "            # Calculate validation loss and accuracy\n",
    "            for images, gt_indices, _ in tqdm(val_loader, desc=f\"Epoch {epoch+1}/{CONFIG['epochs']} [Val]\"):\n",
    "                images, gt_indices = images.to(CONFIG[\"device\"]), gt_indices.to(CONFIG[\"device\"])\n",
    "                image_features = model.encode_image(images)\n",
    "                image_features /= image_features.norm(dim=-1, keepdim=True)\n",
    "                logits_per_image = (100.0 * image_features @ identity_text_features.T)\n",
    "                loss = loss_fn(logits_per_image, gt_indices)\n",
    "                total_val_loss += loss.item()\n",
    "\n",
    "                preds = logits_per_image.argmax(dim=-1)\n",
    "                total_val += gt_indices.size(0)\n",
    "                correct_val += (preds == gt_indices).sum().item()\n",
    "\n",
    "        avg_val_loss = total_val_loss / len(val_loader)\n",
    "        train_acc = (correct_train / total_train) * 100\n",
    "        val_acc = (correct_val / total_val) * 100\n",
    "\n",
    "        history['val_loss'].append(avg_val_loss)\n",
    "        history['train_acc'].append(train_acc)\n",
    "        history['val_acc'].append(val_acc)\n",
    "\n",
    "        print(f\"✅ Epoch {epoch+1}: Train Loss={avg_train_loss:.4f}, Val Loss={avg_val_loss:.4f}, Train Acc={train_acc:.2f}%, Val Acc={val_acc:.2f}%\")\n",
    "\n",
    "        if avg_val_loss < best_val_loss:\n",
    "            best_val_loss = avg_val_loss\n",
    "            torch.save(model.state_dict(), CONFIG[\"save_path\"])\n",
    "            print(f\"🎉 Saved best model to {CONFIG['save_path']}\")\n",
    "            patience_counter = 0\n",
    "            model_saved = True\n",
    "        else:\n",
    "            patience_counter += 1\n",
    "            print(f\"⚠️ No improvement. Patience: {patience_counter}/{CONFIG['patience']}\")\n",
    "        if patience_counter >= CONFIG[\"patience\"]:\n",
    "            print(\"🛑 Early stopping triggered.\"); break\n",
    "\n",
    "    plot_history(history, CONFIG[\"plot_save_dir\"])\n",
    "    return model_saved\n",
    "\n",
    "\n",
    "def test_and_plot(model, identity_text_features, preprocess):\n",
    "    print(\"\\n--- Starting Final Testing and Plotting Phase ---\")\n",
    "    model.load_state_dict(torch.load(CONFIG[\"save_path\"])); model.to(CONFIG[\"device\"]).eval()\n",
    "    print(\"Best model loaded.\")\n",
    "\n",
    "    test_df = preprocess_and_cache_csv(CONFIG[\"csv_test\"])\n",
    "    if test_df is None or test_df.empty:\n",
    "        print(\"Halting due to empty or missing test dataset.\")\n",
    "        return\n",
    "\n",
    "    test_dataset = IdentityDataset(test_df, preprocess)\n",
    "    test_loader = DataLoader(test_dataset, batch_size=CONFIG[\"batch_size\"], shuffle=False)\n",
    "\n",
    "    correct_predictions, total_samples = 0, 0\n",
    "    all_results = []\n",
    "    y_true, y_pred = [], []\n",
    "\n",
    "    with torch.no_grad():\n",
    "        for images, gt_indices, image_paths in tqdm(test_loader, desc=\"[Testing]\"):\n",
    "            images = images.to(CONFIG[\"device\"])\n",
    "            image_features = model.encode_image(images)\n",
    "            image_features = image_features / image_features.norm(dim=-1, keepdim=True)\n",
    "            logits = (100.0 * image_features @ identity_text_features.T)\n",
    "            preds = logits.argmax(dim=-1)\n",
    "\n",
    "            y_true.extend(gt_indices.cpu().numpy())\n",
    "            y_pred.extend(preds.cpu().numpy())\n",
    "\n",
    "            for i in range(len(images)):\n",
    "                is_correct = (preds[i] == gt_indices[i]).item()\n",
    "                if is_correct: correct_predictions += 1\n",
    "                all_results.append({\n",
    "                    \"image_path\": image_paths[i],\n",
    "                    \"ground_truth\": CONFIG[\"identity_keys\"][gt_indices[i]],\n",
    "                    \"prediction\": CONFIG[\"identity_keys\"][preds[i]],\n",
    "                    \"is_correct\": is_correct\n",
    "                })\n",
    "            total_samples += len(images)\n",
    "\n",
    "    if total_samples > 0:\n",
    "        accuracy = (correct_predictions / total_samples) * 100\n",
    "        print(f\"\\n📊 Test Accuracy: {accuracy:.2f}%\")\n",
    "    else:\n",
    "        print(\"No valid samples were processed in the test set.\")\n",
    "        return\n",
    "\n",
    "    print(\"\\n--- Generating Confusion Matrix ---\")\n",
    "    os.makedirs(CONFIG[\"result_save_dir\"], exist_ok=True)\n",
    "    cm = confusion_matrix(y_true, y_pred, labels=range(len(CONFIG[\"identity_keys\"])))\n",
    "    disp = ConfusionMatrixDisplay(confusion_matrix=cm, display_labels=CONFIG[\"identity_keys\"])\n",
    "    fig, ax = plt.subplots(figsize=(20, 20))\n",
    "    disp.plot(ax=ax, xticks_rotation='vertical', cmap='Blues')\n",
    "    plt.title(\"Identity Classification Confusion Matrix\")\n",
    "    plt.tight_layout()\n",
    "    cm_save_path = os.path.join(CONFIG[\"plot_save_dir\"], \"confusion_matrix.png\")\n",
    "    plt.savefig(cm_save_path)\n",
    "    plt.close(fig)\n",
    "    print(f\"Confusion matrix saved to: {cm_save_path}\")\n",
    "\n",
    "    print(f\"\\n--- Plotting up to {CONFIG['num_plots']} individual results ---\")\n",
    "    for i, result in enumerate(all_results):\n",
    "        if i >= CONFIG[\"num_plots\"]: break\n",
    "        try:\n",
    "            img = Image.open(result[\"image_path\"])\n",
    "        except FileNotFoundError: continue\n",
    "\n",
    "        fig, ax = plt.subplots(figsize=(8, 10))\n",
    "        ax.imshow(img); ax.axis(\"off\")\n",
    "        title = f\"Result {i+1}: {'CORRECT' if result['is_correct'] else 'INCORRECT'}\"\n",
    "        color = 'green' if result['is_correct'] else 'red'\n",
    "        fig.suptitle(title, fontsize=16, color=color)\n",
    "        text = (f\"Ground Truth: {result['ground_truth']}\\n\"\n",
    "                f\"Prediction:   {result['prediction']}\")\n",
    "        ax.set_title(text, fontsize=12, pad=10)\n",
    "\n",
    "        original_filename_stem = Path(result[\"image_path\"]).stem\n",
    "        status = \"CORRECT\" if result['is_correct'] else \"INCORRECT\"\n",
    "        save_name = f\"{original_filename_stem}_result_{status}.png\"\n",
    "        plt.savefig(os.path.join(CONFIG[\"plot_save_dir\"], save_name), bbox_inches='tight')\n",
    "        plt.close(fig)\n",
    "\n",
    "    print(\"--- Plotting complete ---\")\n",
    "\n",
    "# ==============================\n",
    "#      MAIN EXECUTION BLOCK\n",
    "# ==============================\n",
    "if __name__ == '__main__':\n",
    "    print(f\"Using device: {CONFIG['device']}\")\n",
    "    if torch.cuda.is_available():\n",
    "        print(f\"PyTorch Version: {torch.__version__}, CUDA Version: {torch.version.cuda}\")\n",
    "\n",
    "    model, _, preprocess = open_clip.create_model_and_transforms(\n",
    "        CONFIG[\"model_name\"], pretrained=CONFIG[\"pretrained\"], device=CONFIG[\"device\"]\n",
    "    )\n",
    "    tokenizer = open_clip.get_tokenizer(CONFIG[\"model_name\"])\n",
    "\n",
    "    with torch.no_grad():\n",
    "        identity_text_tokens = tokenizer(CONFIG[\"identity_prompts\"]).to(CONFIG[\"device\"])\n",
    "        identity_text_features = model.encode_text(identity_text_tokens)\n",
    "        identity_text_features = identity_text_features / identity_text_features.norm(dim=-1, keepdim=True)\n",
    "\n",
    "    train_df = preprocess_and_cache_csv(CONFIG[\"csv_train\"])\n",
    "    val_df = preprocess_and_cache_csv(CONFIG[\"csv_val\"])\n",
    "\n",
    "    if train_df is not None and val_df is not None and not train_df.empty and not val_df.empty:\n",
    "        train_dataset = IdentityDataset(train_df, preprocess)\n",
    "        val_dataset = IdentityDataset(val_df, preprocess)\n",
    "        train_loader = DataLoader(train_dataset, batch_size=CONFIG[\"batch_size\"], shuffle=True)\n",
    "        val_loader = DataLoader(val_dataset, batch_size=CONFIG[\"batch_size\"], shuffle=False)\n",
    "\n",
    "        training_successful = train_and_validate(model, train_loader, val_loader, identity_text_features)\n",
    "\n",
    "        if training_successful:\n",
    "            test_and_plot(model, identity_text_features, preprocess)\n",
    "        else:\n",
    "            print(\"\\nSkipping testing phase: No model was saved during training.\")\n",
    "    else:\n",
    "        print(\"\\nSkipping training: Training/validation datasets are empty or could not be loaded.\")\n"
   ],
   "outputs": [
    {
     "name": "stdout",
     "output_type": "stream",
     "text": [
      "['Soekarno', 'Suharto', 'Baharuddin Jusuf Habibie', 'Abdurrahman Wahid', 'Megawati Sukarnoputri', 'Susilo Bambang Yudhoyono', 'Joko Widodo', 'Prabowo Subianto', 'Anies Rasyid Baswedan', 'Ganjar Pranowo', 'Gibran Rakabuming Raka', 'Maruf Amin', 'Airlangga Hartarto', 'Sri Mulyani Indrawati', 'Erick Thohir', 'Agus Harimurti Yudhoyono', 'Muhaimin Iskandar', 'Mahfud MD', 'Boediono', 'Jusuf Kalla']\n",
      "Using device: cuda\n",
      "PyTorch Version: 2.8.0.dev20250507+cu128, CUDA Version: 12.8\n",
      "Loading preprocessed identity data from cache: C:/Users/yehte/Downloads/Ye Htet/Projects/TikTok/Annotation/fine-tune/train.identity_cached.csv\n",
      "Loading preprocessed identity data from cache: C:/Users/yehte/Downloads/Ye Htet/Projects/TikTok/Annotation/fine-tune/valid.identity_cached.csv\n"
     ]
    },
    {
     "name": "stderr",
     "output_type": "stream",
     "text": [
      "Epoch 1/100 [Train]: 100%|██████████| 22/22 [00:13<00:00,  1.67it/s]\n",
      "Epoch 1/100 [Train Acc]: 100%|██████████| 22/22 [00:07<00:00,  3.12it/s]\n",
      "Epoch 1/100 [Val]: 100%|██████████| 7/7 [00:02<00:00,  2.97it/s]\n"
     ]
    },
    {
     "name": "stdout",
     "output_type": "stream",
     "text": [
      "✅ Epoch 1: Train Loss=1.3503, Val Loss=0.9726, Train Acc=70.86%, Val Acc=68.50%\n",
      "🎉 Saved best model to finetuned_identity_only_best_ViT-B-16_openai_7_11.pt\n"
     ]
    },
    {
     "name": "stderr",
     "output_type": "stream",
     "text": [
      "Epoch 2/100 [Train]: 100%|██████████| 22/22 [00:11<00:00,  1.95it/s]\n",
      "Epoch 2/100 [Train Acc]: 100%|██████████| 22/22 [00:06<00:00,  3.16it/s]\n",
      "Epoch 2/100 [Val]: 100%|██████████| 7/7 [00:02<00:00,  3.46it/s]\n"
     ]
    },
    {
     "name": "stdout",
     "output_type": "stream",
     "text": [
      "✅ Epoch 2: Train Loss=0.7532, Val Loss=0.6227, Train Acc=90.14%, Val Acc=82.50%\n",
      "🎉 Saved best model to finetuned_identity_only_best_ViT-B-16_openai_7_11.pt\n"
     ]
    },
    {
     "name": "stderr",
     "output_type": "stream",
     "text": [
      "Epoch 3/100 [Train]: 100%|██████████| 22/22 [00:11<00:00,  1.95it/s]\n",
      "Epoch 3/100 [Train Acc]: 100%|██████████| 22/22 [00:06<00:00,  3.17it/s]\n",
      "Epoch 3/100 [Val]: 100%|██████████| 7/7 [00:02<00:00,  3.48it/s]\n"
     ]
    },
    {
     "name": "stdout",
     "output_type": "stream",
     "text": [
      "✅ Epoch 3: Train Loss=0.4188, Val Loss=0.4352, Train Acc=96.43%, Val Acc=91.00%\n",
      "🎉 Saved best model to finetuned_identity_only_best_ViT-B-16_openai_7_11.pt\n"
     ]
    },
    {
     "name": "stderr",
     "output_type": "stream",
     "text": [
      "Epoch 4/100 [Train]: 100%|██████████| 22/22 [00:11<00:00,  1.96it/s]\n",
      "Epoch 4/100 [Train Acc]: 100%|██████████| 22/22 [00:06<00:00,  3.21it/s]\n",
      "Epoch 4/100 [Val]: 100%|██████████| 7/7 [00:01<00:00,  3.61it/s]\n"
     ]
    },
    {
     "name": "stdout",
     "output_type": "stream",
     "text": [
      "✅ Epoch 4: Train Loss=0.2283, Val Loss=0.3225, Train Acc=99.14%, Val Acc=94.00%\n",
      "🎉 Saved best model to finetuned_identity_only_best_ViT-B-16_openai_7_11.pt\n"
     ]
    },
    {
     "name": "stderr",
     "output_type": "stream",
     "text": [
      "Epoch 5/100 [Train]: 100%|██████████| 22/22 [00:11<00:00,  1.98it/s]\n",
      "Epoch 5/100 [Train Acc]: 100%|██████████| 22/22 [00:07<00:00,  3.09it/s]\n",
      "Epoch 5/100 [Val]: 100%|██████████| 7/7 [00:02<00:00,  3.44it/s]\n"
     ]
    },
    {
     "name": "stdout",
     "output_type": "stream",
     "text": [
      "✅ Epoch 5: Train Loss=0.1285, Val Loss=0.2721, Train Acc=99.86%, Val Acc=95.50%\n",
      "🎉 Saved best model to finetuned_identity_only_best_ViT-B-16_openai_7_11.pt\n"
     ]
    },
    {
     "name": "stderr",
     "output_type": "stream",
     "text": [
      "Epoch 6/100 [Train]: 100%|██████████| 22/22 [00:11<00:00,  1.96it/s]\n",
      "Epoch 6/100 [Train Acc]: 100%|██████████| 22/22 [00:06<00:00,  3.20it/s]\n",
      "Epoch 6/100 [Val]: 100%|██████████| 7/7 [00:01<00:00,  3.55it/s]\n"
     ]
    },
    {
     "name": "stdout",
     "output_type": "stream",
     "text": [
      "✅ Epoch 6: Train Loss=0.0783, Val Loss=0.2406, Train Acc=100.00%, Val Acc=95.50%\n",
      "🎉 Saved best model to finetuned_identity_only_best_ViT-B-16_openai_7_11.pt\n"
     ]
    },
    {
     "name": "stderr",
     "output_type": "stream",
     "text": [
      "Epoch 7/100 [Train]: 100%|██████████| 22/22 [00:11<00:00,  1.98it/s]\n",
      "Epoch 7/100 [Train Acc]: 100%|██████████| 22/22 [00:06<00:00,  3.18it/s]\n",
      "Epoch 7/100 [Val]: 100%|██████████| 7/7 [00:02<00:00,  3.43it/s]\n"
     ]
    },
    {
     "name": "stdout",
     "output_type": "stream",
     "text": [
      "✅ Epoch 7: Train Loss=0.0532, Val Loss=0.2252, Train Acc=100.00%, Val Acc=95.50%\n",
      "🎉 Saved best model to finetuned_identity_only_best_ViT-B-16_openai_7_11.pt\n"
     ]
    },
    {
     "name": "stderr",
     "output_type": "stream",
     "text": [
      "Epoch 8/100 [Train]: 100%|██████████| 22/22 [00:11<00:00,  1.94it/s]\n",
      "Epoch 8/100 [Train Acc]: 100%|██████████| 22/22 [00:07<00:00,  3.10it/s]\n",
      "Epoch 8/100 [Val]: 100%|██████████| 7/7 [00:02<00:00,  3.37it/s]\n"
     ]
    },
    {
     "name": "stdout",
     "output_type": "stream",
     "text": [
      "✅ Epoch 8: Train Loss=0.0380, Val Loss=0.2099, Train Acc=100.00%, Val Acc=96.00%\n",
      "🎉 Saved best model to finetuned_identity_only_best_ViT-B-16_openai_7_11.pt\n"
     ]
    },
    {
     "name": "stderr",
     "output_type": "stream",
     "text": [
      "Epoch 9/100 [Train]: 100%|██████████| 22/22 [00:11<00:00,  1.94it/s]\n",
      "Epoch 9/100 [Train Acc]: 100%|██████████| 22/22 [00:07<00:00,  3.13it/s]\n",
      "Epoch 9/100 [Val]: 100%|██████████| 7/7 [00:02<00:00,  3.41it/s]\n"
     ]
    },
    {
     "name": "stdout",
     "output_type": "stream",
     "text": [
      "✅ Epoch 9: Train Loss=0.0290, Val Loss=0.2028, Train Acc=100.00%, Val Acc=96.00%\n",
      "🎉 Saved best model to finetuned_identity_only_best_ViT-B-16_openai_7_11.pt\n"
     ]
    },
    {
     "name": "stderr",
     "output_type": "stream",
     "text": [
      "Epoch 10/100 [Train]: 100%|██████████| 22/22 [00:11<00:00,  1.97it/s]\n",
      "Epoch 10/100 [Train Acc]: 100%|██████████| 22/22 [00:07<00:00,  3.09it/s]\n",
      "Epoch 10/100 [Val]: 100%|██████████| 7/7 [00:02<00:00,  3.43it/s]\n"
     ]
    },
    {
     "name": "stdout",
     "output_type": "stream",
     "text": [
      "✅ Epoch 10: Train Loss=0.0229, Val Loss=0.1949, Train Acc=100.00%, Val Acc=96.00%\n",
      "🎉 Saved best model to finetuned_identity_only_best_ViT-B-16_openai_7_11.pt\n"
     ]
    },
    {
     "name": "stderr",
     "output_type": "stream",
     "text": [
      "Epoch 11/100 [Train]: 100%|██████████| 22/22 [00:11<00:00,  1.95it/s]\n",
      "Epoch 11/100 [Train Acc]: 100%|██████████| 22/22 [00:06<00:00,  3.16it/s]\n",
      "Epoch 11/100 [Val]: 100%|██████████| 7/7 [00:02<00:00,  3.43it/s]\n"
     ]
    },
    {
     "name": "stdout",
     "output_type": "stream",
     "text": [
      "✅ Epoch 11: Train Loss=0.0189, Val Loss=0.1893, Train Acc=100.00%, Val Acc=96.00%\n",
      "🎉 Saved best model to finetuned_identity_only_best_ViT-B-16_openai_7_11.pt\n"
     ]
    },
    {
     "name": "stderr",
     "output_type": "stream",
     "text": [
      "Epoch 12/100 [Train]: 100%|██████████| 22/22 [00:11<00:00,  1.95it/s]\n",
      "Epoch 12/100 [Train Acc]: 100%|██████████| 22/22 [00:07<00:00,  3.10it/s]\n",
      "Epoch 12/100 [Val]: 100%|██████████| 7/7 [00:01<00:00,  3.51it/s]\n"
     ]
    },
    {
     "name": "stdout",
     "output_type": "stream",
     "text": [
      "✅ Epoch 12: Train Loss=0.0157, Val Loss=0.1857, Train Acc=100.00%, Val Acc=96.00%\n",
      "🎉 Saved best model to finetuned_identity_only_best_ViT-B-16_openai_7_11.pt\n"
     ]
    },
    {
     "name": "stderr",
     "output_type": "stream",
     "text": [
      "Epoch 13/100 [Train]: 100%|██████████| 22/22 [00:12<00:00,  1.75it/s]\n",
      "Epoch 13/100 [Train Acc]: 100%|██████████| 22/22 [00:10<00:00,  2.18it/s]\n",
      "Epoch 13/100 [Val]: 100%|██████████| 7/7 [00:03<00:00,  2.33it/s]\n"
     ]
    },
    {
     "name": "stdout",
     "output_type": "stream",
     "text": [
      "✅ Epoch 13: Train Loss=0.0133, Val Loss=0.1813, Train Acc=100.00%, Val Acc=96.00%\n",
      "🎉 Saved best model to finetuned_identity_only_best_ViT-B-16_openai_7_11.pt\n"
     ]
    },
    {
     "name": "stderr",
     "output_type": "stream",
     "text": [
      "Epoch 14/100 [Train]: 100%|██████████| 22/22 [00:15<00:00,  1.44it/s]\n",
      "Epoch 14/100 [Train Acc]: 100%|██████████| 22/22 [00:10<00:00,  2.15it/s]\n",
      "Epoch 14/100 [Val]: 100%|██████████| 7/7 [00:02<00:00,  2.75it/s]\n"
     ]
    },
    {
     "name": "stdout",
     "output_type": "stream",
     "text": [
      "✅ Epoch 14: Train Loss=0.0116, Val Loss=0.1783, Train Acc=100.00%, Val Acc=96.00%\n",
      "🎉 Saved best model to finetuned_identity_only_best_ViT-B-16_openai_7_11.pt\n"
     ]
    },
    {
     "name": "stderr",
     "output_type": "stream",
     "text": [
      "Epoch 15/100 [Train]: 100%|██████████| 22/22 [00:12<00:00,  1.73it/s]\n",
      "Epoch 15/100 [Train Acc]: 100%|██████████| 22/22 [00:10<00:00,  2.14it/s]\n",
      "Epoch 15/100 [Val]: 100%|██████████| 7/7 [00:03<00:00,  2.22it/s]\n"
     ]
    },
    {
     "name": "stdout",
     "output_type": "stream",
     "text": [
      "✅ Epoch 15: Train Loss=0.0101, Val Loss=0.1768, Train Acc=100.00%, Val Acc=96.00%\n",
      "🎉 Saved best model to finetuned_identity_only_best_ViT-B-16_openai_7_11.pt\n"
     ]
    },
    {
     "name": "stderr",
     "output_type": "stream",
     "text": [
      "Epoch 16/100 [Train]: 100%|██████████| 22/22 [00:16<00:00,  1.34it/s]\n",
      "Epoch 16/100 [Train Acc]: 100%|██████████| 22/22 [00:10<00:00,  2.05it/s]\n",
      "Epoch 16/100 [Val]: 100%|██████████| 7/7 [00:03<00:00,  2.25it/s]\n"
     ]
    },
    {
     "name": "stdout",
     "output_type": "stream",
     "text": [
      "✅ Epoch 16: Train Loss=0.0089, Val Loss=0.1734, Train Acc=100.00%, Val Acc=96.00%\n",
      "🎉 Saved best model to finetuned_identity_only_best_ViT-B-16_openai_7_11.pt\n"
     ]
    },
    {
     "name": "stderr",
     "output_type": "stream",
     "text": [
      "Epoch 17/100 [Train]: 100%|██████████| 22/22 [00:15<00:00,  1.43it/s]\n",
      "Epoch 17/100 [Train Acc]: 100%|██████████| 22/22 [00:08<00:00,  2.49it/s]\n",
      "Epoch 17/100 [Val]: 100%|██████████| 7/7 [00:02<00:00,  2.84it/s]\n"
     ]
    },
    {
     "name": "stdout",
     "output_type": "stream",
     "text": [
      "✅ Epoch 17: Train Loss=0.0079, Val Loss=0.1721, Train Acc=100.00%, Val Acc=96.00%\n",
      "🎉 Saved best model to finetuned_identity_only_best_ViT-B-16_openai_7_11.pt\n"
     ]
    },
    {
     "name": "stderr",
     "output_type": "stream",
     "text": [
      "Epoch 18/100 [Train]: 100%|██████████| 22/22 [00:12<00:00,  1.70it/s]\n",
      "Epoch 18/100 [Train Acc]: 100%|██████████| 22/22 [00:06<00:00,  3.17it/s]\n",
      "Epoch 18/100 [Val]: 100%|██████████| 7/7 [00:01<00:00,  3.53it/s]\n"
     ]
    },
    {
     "name": "stdout",
     "output_type": "stream",
     "text": [
      "✅ Epoch 18: Train Loss=0.0071, Val Loss=0.1695, Train Acc=100.00%, Val Acc=96.00%\n",
      "🎉 Saved best model to finetuned_identity_only_best_ViT-B-16_openai_7_11.pt\n"
     ]
    },
    {
     "name": "stderr",
     "output_type": "stream",
     "text": [
      "Epoch 19/100 [Train]: 100%|██████████| 22/22 [00:11<00:00,  1.89it/s]\n",
      "Epoch 19/100 [Train Acc]: 100%|██████████| 22/22 [00:08<00:00,  2.60it/s]\n",
      "Epoch 19/100 [Val]: 100%|██████████| 7/7 [00:02<00:00,  2.83it/s]\n"
     ]
    },
    {
     "name": "stdout",
     "output_type": "stream",
     "text": [
      "✅ Epoch 19: Train Loss=0.0064, Val Loss=0.1682, Train Acc=100.00%, Val Acc=96.00%\n",
      "🎉 Saved best model to finetuned_identity_only_best_ViT-B-16_openai_7_11.pt\n"
     ]
    },
    {
     "name": "stderr",
     "output_type": "stream",
     "text": [
      "Epoch 20/100 [Train]: 100%|██████████| 22/22 [00:13<00:00,  1.66it/s]\n",
      "Epoch 20/100 [Train Acc]: 100%|██████████| 22/22 [00:08<00:00,  2.60it/s]\n",
      "Epoch 20/100 [Val]: 100%|██████████| 7/7 [00:02<00:00,  2.90it/s]\n"
     ]
    },
    {
     "name": "stdout",
     "output_type": "stream",
     "text": [
      "✅ Epoch 20: Train Loss=0.0058, Val Loss=0.1676, Train Acc=100.00%, Val Acc=96.00%\n",
      "🎉 Saved best model to finetuned_identity_only_best_ViT-B-16_openai_7_11.pt\n"
     ]
    },
    {
     "name": "stderr",
     "output_type": "stream",
     "text": [
      "Epoch 21/100 [Train]: 100%|██████████| 22/22 [00:13<00:00,  1.64it/s]\n",
      "Epoch 21/100 [Train Acc]: 100%|██████████| 22/22 [00:08<00:00,  2.58it/s]\n",
      "Epoch 21/100 [Val]: 100%|██████████| 7/7 [00:02<00:00,  2.87it/s]\n"
     ]
    },
    {
     "name": "stdout",
     "output_type": "stream",
     "text": [
      "✅ Epoch 21: Train Loss=0.0053, Val Loss=0.1658, Train Acc=100.00%, Val Acc=96.00%\n",
      "🎉 Saved best model to finetuned_identity_only_best_ViT-B-16_openai_7_11.pt\n"
     ]
    },
    {
     "name": "stderr",
     "output_type": "stream",
     "text": [
      "Epoch 22/100 [Train]: 100%|██████████| 22/22 [00:13<00:00,  1.68it/s]\n",
      "Epoch 22/100 [Train Acc]: 100%|██████████| 22/22 [00:09<00:00,  2.37it/s]\n",
      "Epoch 22/100 [Val]: 100%|██████████| 7/7 [00:02<00:00,  2.45it/s]\n"
     ]
    },
    {
     "name": "stdout",
     "output_type": "stream",
     "text": [
      "✅ Epoch 22: Train Loss=0.0049, Val Loss=0.1645, Train Acc=100.00%, Val Acc=96.00%\n",
      "🎉 Saved best model to finetuned_identity_only_best_ViT-B-16_openai_7_11.pt\n"
     ]
    },
    {
     "name": "stderr",
     "output_type": "stream",
     "text": [
      "Epoch 23/100 [Train]: 100%|██████████| 22/22 [00:12<00:00,  1.74it/s]\n",
      "Epoch 23/100 [Train Acc]: 100%|██████████| 22/22 [00:07<00:00,  3.12it/s]\n",
      "Epoch 23/100 [Val]: 100%|██████████| 7/7 [00:02<00:00,  3.48it/s]\n"
     ]
    },
    {
     "name": "stdout",
     "output_type": "stream",
     "text": [
      "✅ Epoch 23: Train Loss=0.0045, Val Loss=0.1635, Train Acc=100.00%, Val Acc=96.00%\n",
      "🎉 Saved best model to finetuned_identity_only_best_ViT-B-16_openai_7_11.pt\n"
     ]
    },
    {
     "name": "stderr",
     "output_type": "stream",
     "text": [
      "Epoch 24/100 [Train]: 100%|██████████| 22/22 [00:11<00:00,  1.94it/s]\n",
      "Epoch 24/100 [Train Acc]: 100%|██████████| 22/22 [00:06<00:00,  3.15it/s]\n",
      "Epoch 24/100 [Val]: 100%|██████████| 7/7 [00:02<00:00,  3.47it/s]\n"
     ]
    },
    {
     "name": "stdout",
     "output_type": "stream",
     "text": [
      "✅ Epoch 24: Train Loss=0.0042, Val Loss=0.1627, Train Acc=100.00%, Val Acc=96.00%\n",
      "🎉 Saved best model to finetuned_identity_only_best_ViT-B-16_openai_7_11.pt\n"
     ]
    },
    {
     "name": "stderr",
     "output_type": "stream",
     "text": [
      "Epoch 25/100 [Train]: 100%|██████████| 22/22 [00:11<00:00,  1.89it/s]\n",
      "Epoch 25/100 [Train Acc]: 100%|██████████| 22/22 [00:07<00:00,  2.96it/s]\n",
      "Epoch 25/100 [Val]: 100%|██████████| 7/7 [00:02<00:00,  3.30it/s]\n"
     ]
    },
    {
     "name": "stdout",
     "output_type": "stream",
     "text": [
      "✅ Epoch 25: Train Loss=0.0039, Val Loss=0.1616, Train Acc=100.00%, Val Acc=96.00%\n",
      "🎉 Saved best model to finetuned_identity_only_best_ViT-B-16_openai_7_11.pt\n"
     ]
    },
    {
     "name": "stderr",
     "output_type": "stream",
     "text": [
      "Epoch 26/100 [Train]: 100%|██████████| 22/22 [00:11<00:00,  1.86it/s]\n",
      "Epoch 26/100 [Train Acc]: 100%|██████████| 22/22 [00:07<00:00,  3.11it/s]\n",
      "Epoch 26/100 [Val]: 100%|██████████| 7/7 [00:02<00:00,  3.47it/s]\n"
     ]
    },
    {
     "name": "stdout",
     "output_type": "stream",
     "text": [
      "✅ Epoch 26: Train Loss=0.0036, Val Loss=0.1609, Train Acc=100.00%, Val Acc=96.00%\n",
      "🎉 Saved best model to finetuned_identity_only_best_ViT-B-16_openai_7_11.pt\n"
     ]
    },
    {
     "name": "stderr",
     "output_type": "stream",
     "text": [
      "Epoch 27/100 [Train]: 100%|██████████| 22/22 [00:11<00:00,  1.88it/s]\n",
      "Epoch 27/100 [Train Acc]: 100%|██████████| 22/22 [00:07<00:00,  3.13it/s]\n",
      "Epoch 27/100 [Val]: 100%|██████████| 7/7 [00:02<00:00,  3.38it/s]\n"
     ]
    },
    {
     "name": "stdout",
     "output_type": "stream",
     "text": [
      "✅ Epoch 27: Train Loss=0.0033, Val Loss=0.1597, Train Acc=100.00%, Val Acc=96.00%\n",
      "🎉 Saved best model to finetuned_identity_only_best_ViT-B-16_openai_7_11.pt\n"
     ]
    },
    {
     "name": "stderr",
     "output_type": "stream",
     "text": [
      "Epoch 28/100 [Train]: 100%|██████████| 22/22 [00:11<00:00,  1.95it/s]\n",
      "Epoch 28/100 [Train Acc]: 100%|██████████| 22/22 [00:07<00:00,  3.13it/s]\n",
      "Epoch 28/100 [Val]: 100%|██████████| 7/7 [00:02<00:00,  3.47it/s]\n"
     ]
    },
    {
     "name": "stdout",
     "output_type": "stream",
     "text": [
      "✅ Epoch 28: Train Loss=0.0031, Val Loss=0.1590, Train Acc=100.00%, Val Acc=96.00%\n",
      "🎉 Saved best model to finetuned_identity_only_best_ViT-B-16_openai_7_11.pt\n"
     ]
    },
    {
     "name": "stderr",
     "output_type": "stream",
     "text": [
      "Epoch 29/100 [Train]: 100%|██████████| 22/22 [00:11<00:00,  1.95it/s]\n",
      "Epoch 29/100 [Train Acc]: 100%|██████████| 22/22 [00:07<00:00,  3.13it/s]\n",
      "Epoch 29/100 [Val]: 100%|██████████| 7/7 [00:02<00:00,  3.49it/s]\n"
     ]
    },
    {
     "name": "stdout",
     "output_type": "stream",
     "text": [
      "✅ Epoch 29: Train Loss=0.0029, Val Loss=0.1585, Train Acc=100.00%, Val Acc=96.00%\n",
      "🎉 Saved best model to finetuned_identity_only_best_ViT-B-16_openai_7_11.pt\n"
     ]
    },
    {
     "name": "stderr",
     "output_type": "stream",
     "text": [
      "Epoch 30/100 [Train]: 100%|██████████| 22/22 [00:11<00:00,  1.94it/s]\n",
      "Epoch 30/100 [Train Acc]: 100%|██████████| 22/22 [00:06<00:00,  3.15it/s]\n",
      "Epoch 30/100 [Val]: 100%|██████████| 7/7 [00:01<00:00,  3.54it/s]\n"
     ]
    },
    {
     "name": "stdout",
     "output_type": "stream",
     "text": [
      "✅ Epoch 30: Train Loss=0.0028, Val Loss=0.1583, Train Acc=100.00%, Val Acc=96.00%\n",
      "🎉 Saved best model to finetuned_identity_only_best_ViT-B-16_openai_7_11.pt\n"
     ]
    },
    {
     "name": "stderr",
     "output_type": "stream",
     "text": [
      "Epoch 31/100 [Train]: 100%|██████████| 22/22 [00:11<00:00,  1.97it/s]\n",
      "Epoch 31/100 [Train Acc]: 100%|██████████| 22/22 [00:06<00:00,  3.17it/s]\n",
      "Epoch 31/100 [Val]: 100%|██████████| 7/7 [00:02<00:00,  3.47it/s]\n"
     ]
    },
    {
     "name": "stdout",
     "output_type": "stream",
     "text": [
      "✅ Epoch 31: Train Loss=0.0026, Val Loss=0.1575, Train Acc=100.00%, Val Acc=96.00%\n",
      "🎉 Saved best model to finetuned_identity_only_best_ViT-B-16_openai_7_11.pt\n"
     ]
    },
    {
     "name": "stderr",
     "output_type": "stream",
     "text": [
      "Epoch 32/100 [Train]: 100%|██████████| 22/22 [00:11<00:00,  1.95it/s]\n",
      "Epoch 32/100 [Train Acc]: 100%|██████████| 22/22 [00:07<00:00,  3.12it/s]\n",
      "Epoch 32/100 [Val]: 100%|██████████| 7/7 [00:02<00:00,  3.46it/s]\n"
     ]
    },
    {
     "name": "stdout",
     "output_type": "stream",
     "text": [
      "✅ Epoch 32: Train Loss=0.0025, Val Loss=0.1563, Train Acc=100.00%, Val Acc=96.00%\n",
      "🎉 Saved best model to finetuned_identity_only_best_ViT-B-16_openai_7_11.pt\n"
     ]
    },
    {
     "name": "stderr",
     "output_type": "stream",
     "text": [
      "Epoch 33/100 [Train]: 100%|██████████| 22/22 [00:11<00:00,  1.95it/s]\n",
      "Epoch 33/100 [Train Acc]: 100%|██████████| 22/22 [00:07<00:00,  3.14it/s]\n",
      "Epoch 33/100 [Val]: 100%|██████████| 7/7 [00:02<00:00,  3.47it/s]\n"
     ]
    },
    {
     "name": "stdout",
     "output_type": "stream",
     "text": [
      "✅ Epoch 33: Train Loss=0.0023, Val Loss=0.1565, Train Acc=100.00%, Val Acc=96.00%\n",
      "⚠️ No improvement. Patience: 1/5\n"
     ]
    },
    {
     "name": "stderr",
     "output_type": "stream",
     "text": [
      "Epoch 34/100 [Train]: 100%|██████████| 22/22 [00:11<00:00,  1.96it/s]\n",
      "Epoch 34/100 [Train Acc]: 100%|██████████| 22/22 [00:07<00:00,  3.14it/s]\n",
      "Epoch 34/100 [Val]: 100%|██████████| 7/7 [00:01<00:00,  3.56it/s]\n"
     ]
    },
    {
     "name": "stdout",
     "output_type": "stream",
     "text": [
      "✅ Epoch 34: Train Loss=0.0022, Val Loss=0.1558, Train Acc=100.00%, Val Acc=96.00%\n",
      "🎉 Saved best model to finetuned_identity_only_best_ViT-B-16_openai_7_11.pt\n"
     ]
    },
    {
     "name": "stderr",
     "output_type": "stream",
     "text": [
      "Epoch 35/100 [Train]: 100%|██████████| 22/22 [00:11<00:00,  1.97it/s]\n",
      "Epoch 35/100 [Train Acc]: 100%|██████████| 22/22 [00:07<00:00,  3.14it/s]\n",
      "Epoch 35/100 [Val]: 100%|██████████| 7/7 [00:02<00:00,  3.48it/s]\n"
     ]
    },
    {
     "name": "stdout",
     "output_type": "stream",
     "text": [
      "✅ Epoch 35: Train Loss=0.0021, Val Loss=0.1551, Train Acc=100.00%, Val Acc=96.00%\n",
      "🎉 Saved best model to finetuned_identity_only_best_ViT-B-16_openai_7_11.pt\n"
     ]
    },
    {
     "name": "stderr",
     "output_type": "stream",
     "text": [
      "Epoch 36/100 [Train]: 100%|██████████| 22/22 [00:11<00:00,  1.97it/s]\n",
      "Epoch 36/100 [Train Acc]: 100%|██████████| 22/22 [00:06<00:00,  3.18it/s]\n",
      "Epoch 36/100 [Val]: 100%|██████████| 7/7 [00:02<00:00,  3.46it/s]\n"
     ]
    },
    {
     "name": "stdout",
     "output_type": "stream",
     "text": [
      "✅ Epoch 36: Train Loss=0.0020, Val Loss=0.1548, Train Acc=100.00%, Val Acc=96.00%\n",
      "🎉 Saved best model to finetuned_identity_only_best_ViT-B-16_openai_7_11.pt\n"
     ]
    },
    {
     "name": "stderr",
     "output_type": "stream",
     "text": [
      "Epoch 37/100 [Train]: 100%|██████████| 22/22 [00:11<00:00,  1.98it/s]\n",
      "Epoch 37/100 [Train Acc]: 100%|██████████| 22/22 [00:07<00:00,  3.08it/s]\n",
      "Epoch 37/100 [Val]: 100%|██████████| 7/7 [00:02<00:00,  3.40it/s]\n"
     ]
    },
    {
     "name": "stdout",
     "output_type": "stream",
     "text": [
      "✅ Epoch 37: Train Loss=0.0019, Val Loss=0.1542, Train Acc=100.00%, Val Acc=96.00%\n",
      "🎉 Saved best model to finetuned_identity_only_best_ViT-B-16_openai_7_11.pt\n"
     ]
    },
    {
     "name": "stderr",
     "output_type": "stream",
     "text": [
      "Epoch 38/100 [Train]: 100%|██████████| 22/22 [00:11<00:00,  1.93it/s]\n",
      "Epoch 38/100 [Train Acc]: 100%|██████████| 22/22 [00:07<00:00,  3.08it/s]\n",
      "Epoch 38/100 [Val]: 100%|██████████| 7/7 [00:02<00:00,  3.37it/s]\n"
     ]
    },
    {
     "name": "stdout",
     "output_type": "stream",
     "text": [
      "✅ Epoch 38: Train Loss=0.0018, Val Loss=0.1540, Train Acc=100.00%, Val Acc=96.00%\n",
      "🎉 Saved best model to finetuned_identity_only_best_ViT-B-16_openai_7_11.pt\n"
     ]
    },
    {
     "name": "stderr",
     "output_type": "stream",
     "text": [
      "Epoch 39/100 [Train]: 100%|██████████| 22/22 [00:11<00:00,  1.92it/s]\n",
      "Epoch 39/100 [Train Acc]: 100%|██████████| 22/22 [00:07<00:00,  2.92it/s]\n",
      "Epoch 39/100 [Val]: 100%|██████████| 7/7 [00:02<00:00,  3.14it/s]\n"
     ]
    },
    {
     "name": "stdout",
     "output_type": "stream",
     "text": [
      "✅ Epoch 39: Train Loss=0.0017, Val Loss=0.1536, Train Acc=100.00%, Val Acc=96.00%\n",
      "🎉 Saved best model to finetuned_identity_only_best_ViT-B-16_openai_7_11.pt\n"
     ]
    },
    {
     "name": "stderr",
     "output_type": "stream",
     "text": [
      "Epoch 40/100 [Train]: 100%|██████████| 22/22 [00:12<00:00,  1.75it/s]\n",
      "Epoch 40/100 [Train Acc]: 100%|██████████| 22/22 [00:07<00:00,  2.88it/s]\n",
      "Epoch 40/100 [Val]: 100%|██████████| 7/7 [00:02<00:00,  3.13it/s]\n"
     ]
    },
    {
     "name": "stdout",
     "output_type": "stream",
     "text": [
      "✅ Epoch 40: Train Loss=0.0016, Val Loss=0.1535, Train Acc=100.00%, Val Acc=96.00%\n",
      "🎉 Saved best model to finetuned_identity_only_best_ViT-B-16_openai_7_11.pt\n"
     ]
    },
    {
     "name": "stderr",
     "output_type": "stream",
     "text": [
      "Epoch 41/100 [Train]: 100%|██████████| 22/22 [00:13<00:00,  1.63it/s]\n",
      "Epoch 41/100 [Train Acc]: 100%|██████████| 22/22 [00:10<00:00,  2.14it/s]\n",
      "Epoch 41/100 [Val]: 100%|██████████| 7/7 [00:02<00:00,  2.50it/s]\n"
     ]
    },
    {
     "name": "stdout",
     "output_type": "stream",
     "text": [
      "✅ Epoch 41: Train Loss=0.0016, Val Loss=0.1529, Train Acc=100.00%, Val Acc=96.00%\n",
      "🎉 Saved best model to finetuned_identity_only_best_ViT-B-16_openai_7_11.pt\n"
     ]
    },
    {
     "name": "stderr",
     "output_type": "stream",
     "text": [
      "Epoch 42/100 [Train]: 100%|██████████| 22/22 [00:15<00:00,  1.43it/s]\n",
      "Epoch 42/100 [Train Acc]: 100%|██████████| 22/22 [00:10<00:00,  2.09it/s]\n",
      "Epoch 42/100 [Val]: 100%|██████████| 7/7 [00:02<00:00,  2.34it/s]\n"
     ]
    },
    {
     "name": "stdout",
     "output_type": "stream",
     "text": [
      "✅ Epoch 42: Train Loss=0.0015, Val Loss=0.1524, Train Acc=100.00%, Val Acc=96.00%\n",
      "🎉 Saved best model to finetuned_identity_only_best_ViT-B-16_openai_7_11.pt\n"
     ]
    },
    {
     "name": "stderr",
     "output_type": "stream",
     "text": [
      "Epoch 43/100 [Train]: 100%|██████████| 22/22 [00:15<00:00,  1.44it/s]\n",
      "Epoch 43/100 [Train Acc]: 100%|██████████| 22/22 [00:10<00:00,  2.16it/s]\n",
      "Epoch 43/100 [Val]: 100%|██████████| 7/7 [00:02<00:00,  2.42it/s]\n"
     ]
    },
    {
     "name": "stdout",
     "output_type": "stream",
     "text": [
      "✅ Epoch 43: Train Loss=0.0014, Val Loss=0.1525, Train Acc=100.00%, Val Acc=96.00%\n",
      "⚠️ No improvement. Patience: 1/5\n"
     ]
    },
    {
     "name": "stderr",
     "output_type": "stream",
     "text": [
      "Epoch 44/100 [Train]: 100%|██████████| 22/22 [00:16<00:00,  1.37it/s]\n",
      "Epoch 44/100 [Train Acc]: 100%|██████████| 22/22 [00:10<00:00,  2.04it/s]\n",
      "Epoch 44/100 [Val]: 100%|██████████| 7/7 [00:02<00:00,  2.39it/s]\n"
     ]
    },
    {
     "name": "stdout",
     "output_type": "stream",
     "text": [
      "✅ Epoch 44: Train Loss=0.0014, Val Loss=0.1520, Train Acc=100.00%, Val Acc=96.00%\n",
      "🎉 Saved best model to finetuned_identity_only_best_ViT-B-16_openai_7_11.pt\n"
     ]
    },
    {
     "name": "stderr",
     "output_type": "stream",
     "text": [
      "Epoch 45/100 [Train]: 100%|██████████| 22/22 [00:15<00:00,  1.39it/s]\n",
      "Epoch 45/100 [Train Acc]: 100%|██████████| 22/22 [00:10<00:00,  2.08it/s]\n",
      "Epoch 45/100 [Val]: 100%|██████████| 7/7 [00:02<00:00,  2.34it/s]\n"
     ]
    },
    {
     "name": "stdout",
     "output_type": "stream",
     "text": [
      "✅ Epoch 45: Train Loss=0.0013, Val Loss=0.1518, Train Acc=100.00%, Val Acc=96.00%\n",
      "🎉 Saved best model to finetuned_identity_only_best_ViT-B-16_openai_7_11.pt\n"
     ]
    },
    {
     "name": "stderr",
     "output_type": "stream",
     "text": [
      "Epoch 46/100 [Train]: 100%|██████████| 22/22 [00:16<00:00,  1.32it/s]\n",
      "Epoch 46/100 [Train Acc]: 100%|██████████| 22/22 [00:11<00:00,  1.97it/s]\n",
      "Epoch 46/100 [Val]: 100%|██████████| 7/7 [00:03<00:00,  2.20it/s]\n"
     ]
    },
    {
     "name": "stdout",
     "output_type": "stream",
     "text": [
      "✅ Epoch 46: Train Loss=0.0013, Val Loss=0.1513, Train Acc=100.00%, Val Acc=96.00%\n",
      "🎉 Saved best model to finetuned_identity_only_best_ViT-B-16_openai_7_11.pt\n"
     ]
    },
    {
     "name": "stderr",
     "output_type": "stream",
     "text": [
      "Epoch 47/100 [Train]: 100%|██████████| 22/22 [00:16<00:00,  1.36it/s]\n",
      "Epoch 47/100 [Train Acc]: 100%|██████████| 22/22 [00:10<00:00,  2.16it/s]\n",
      "Epoch 47/100 [Val]: 100%|██████████| 7/7 [00:02<00:00,  2.54it/s]\n"
     ]
    },
    {
     "name": "stdout",
     "output_type": "stream",
     "text": [
      "✅ Epoch 47: Train Loss=0.0012, Val Loss=0.1511, Train Acc=100.00%, Val Acc=96.00%\n",
      "🎉 Saved best model to finetuned_identity_only_best_ViT-B-16_openai_7_11.pt\n"
     ]
    },
    {
     "name": "stderr",
     "output_type": "stream",
     "text": [
      "Epoch 48/100 [Train]: 100%|██████████| 22/22 [00:13<00:00,  1.62it/s]\n",
      "Epoch 48/100 [Train Acc]: 100%|██████████| 22/22 [00:08<00:00,  2.62it/s]\n",
      "Epoch 48/100 [Val]: 100%|██████████| 7/7 [00:02<00:00,  2.87it/s]\n"
     ]
    },
    {
     "name": "stdout",
     "output_type": "stream",
     "text": [
      "✅ Epoch 48: Train Loss=0.0012, Val Loss=0.1508, Train Acc=100.00%, Val Acc=96.00%\n",
      "🎉 Saved best model to finetuned_identity_only_best_ViT-B-16_openai_7_11.pt\n"
     ]
    },
    {
     "name": "stderr",
     "output_type": "stream",
     "text": [
      "Epoch 49/100 [Train]: 100%|██████████| 22/22 [00:13<00:00,  1.65it/s]\n",
      "Epoch 49/100 [Train Acc]: 100%|██████████| 22/22 [00:08<00:00,  2.55it/s]\n",
      "Epoch 49/100 [Val]: 100%|██████████| 7/7 [00:02<00:00,  2.86it/s]\n"
     ]
    },
    {
     "name": "stdout",
     "output_type": "stream",
     "text": [
      "✅ Epoch 49: Train Loss=0.0011, Val Loss=0.1507, Train Acc=100.00%, Val Acc=96.00%\n",
      "🎉 Saved best model to finetuned_identity_only_best_ViT-B-16_openai_7_11.pt\n"
     ]
    },
    {
     "name": "stderr",
     "output_type": "stream",
     "text": [
      "Epoch 50/100 [Train]: 100%|██████████| 22/22 [00:12<00:00,  1.70it/s]\n",
      "Epoch 50/100 [Train Acc]: 100%|██████████| 22/22 [00:08<00:00,  2.69it/s]\n",
      "Epoch 50/100 [Val]: 100%|██████████| 7/7 [00:02<00:00,  2.88it/s]\n"
     ]
    },
    {
     "name": "stdout",
     "output_type": "stream",
     "text": [
      "✅ Epoch 50: Train Loss=0.0011, Val Loss=0.1504, Train Acc=100.00%, Val Acc=96.00%\n",
      "🎉 Saved best model to finetuned_identity_only_best_ViT-B-16_openai_7_11.pt\n"
     ]
    },
    {
     "name": "stderr",
     "output_type": "stream",
     "text": [
      "Epoch 51/100 [Train]: 100%|██████████| 22/22 [00:13<00:00,  1.65it/s]\n",
      "Epoch 51/100 [Train Acc]: 100%|██████████| 22/22 [00:08<00:00,  2.60it/s]\n",
      "Epoch 51/100 [Val]: 100%|██████████| 7/7 [00:02<00:00,  2.96it/s]\n"
     ]
    },
    {
     "name": "stdout",
     "output_type": "stream",
     "text": [
      "✅ Epoch 51: Train Loss=0.0010, Val Loss=0.1501, Train Acc=100.00%, Val Acc=96.00%\n",
      "🎉 Saved best model to finetuned_identity_only_best_ViT-B-16_openai_7_11.pt\n"
     ]
    },
    {
     "name": "stderr",
     "output_type": "stream",
     "text": [
      "Epoch 52/100 [Train]: 100%|██████████| 22/22 [00:13<00:00,  1.67it/s]\n",
      "Epoch 52/100 [Train Acc]: 100%|██████████| 22/22 [00:08<00:00,  2.48it/s]\n",
      "Epoch 52/100 [Val]: 100%|██████████| 7/7 [00:02<00:00,  2.41it/s]\n"
     ]
    },
    {
     "name": "stdout",
     "output_type": "stream",
     "text": [
      "✅ Epoch 52: Train Loss=0.0010, Val Loss=0.1499, Train Acc=100.00%, Val Acc=96.00%\n",
      "🎉 Saved best model to finetuned_identity_only_best_ViT-B-16_openai_7_11.pt\n"
     ]
    },
    {
     "name": "stderr",
     "output_type": "stream",
     "text": [
      "Epoch 53/100 [Train]: 100%|██████████| 22/22 [00:14<00:00,  1.48it/s]\n",
      "Epoch 53/100 [Train Acc]: 100%|██████████| 22/22 [00:09<00:00,  2.23it/s]\n",
      "Epoch 53/100 [Val]: 100%|██████████| 7/7 [00:02<00:00,  2.36it/s]\n"
     ]
    },
    {
     "name": "stdout",
     "output_type": "stream",
     "text": [
      "✅ Epoch 53: Train Loss=0.0010, Val Loss=0.1498, Train Acc=100.00%, Val Acc=96.00%\n",
      "🎉 Saved best model to finetuned_identity_only_best_ViT-B-16_openai_7_11.pt\n"
     ]
    },
    {
     "name": "stderr",
     "output_type": "stream",
     "text": [
      "Epoch 54/100 [Train]: 100%|██████████| 22/22 [00:15<00:00,  1.41it/s]\n",
      "Epoch 54/100 [Train Acc]: 100%|██████████| 22/22 [00:09<00:00,  2.21it/s]\n",
      "Epoch 54/100 [Val]: 100%|██████████| 7/7 [00:02<00:00,  2.40it/s]\n"
     ]
    },
    {
     "name": "stdout",
     "output_type": "stream",
     "text": [
      "✅ Epoch 54: Train Loss=0.0009, Val Loss=0.1497, Train Acc=100.00%, Val Acc=96.00%\n",
      "🎉 Saved best model to finetuned_identity_only_best_ViT-B-16_openai_7_11.pt\n"
     ]
    },
    {
     "name": "stderr",
     "output_type": "stream",
     "text": [
      "Epoch 55/100 [Train]: 100%|██████████| 22/22 [00:14<00:00,  1.51it/s]\n",
      "Epoch 55/100 [Train Acc]: 100%|██████████| 22/22 [00:09<00:00,  2.25it/s]\n",
      "Epoch 55/100 [Val]: 100%|██████████| 7/7 [00:02<00:00,  2.53it/s]\n"
     ]
    },
    {
     "name": "stdout",
     "output_type": "stream",
     "text": [
      "✅ Epoch 55: Train Loss=0.0009, Val Loss=0.1496, Train Acc=100.00%, Val Acc=96.00%\n",
      "🎉 Saved best model to finetuned_identity_only_best_ViT-B-16_openai_7_11.pt\n"
     ]
    },
    {
     "name": "stderr",
     "output_type": "stream",
     "text": [
      "Epoch 56/100 [Train]: 100%|██████████| 22/22 [00:12<00:00,  1.75it/s]\n",
      "Epoch 56/100 [Train Acc]: 100%|██████████| 22/22 [00:07<00:00,  2.96it/s]\n",
      "Epoch 56/100 [Val]: 100%|██████████| 7/7 [00:02<00:00,  3.29it/s]\n"
     ]
    },
    {
     "name": "stdout",
     "output_type": "stream",
     "text": [
      "✅ Epoch 56: Train Loss=0.0009, Val Loss=0.1491, Train Acc=100.00%, Val Acc=96.00%\n",
      "🎉 Saved best model to finetuned_identity_only_best_ViT-B-16_openai_7_11.pt\n"
     ]
    },
    {
     "name": "stderr",
     "output_type": "stream",
     "text": [
      "Epoch 57/100 [Train]: 100%|██████████| 22/22 [00:11<00:00,  1.88it/s]\n",
      "Epoch 57/100 [Train Acc]: 100%|██████████| 22/22 [00:07<00:00,  3.04it/s]\n",
      "Epoch 57/100 [Val]: 100%|██████████| 7/7 [00:02<00:00,  3.35it/s]\n"
     ]
    },
    {
     "name": "stdout",
     "output_type": "stream",
     "text": [
      "✅ Epoch 57: Train Loss=0.0008, Val Loss=0.1491, Train Acc=100.00%, Val Acc=96.00%\n",
      "🎉 Saved best model to finetuned_identity_only_best_ViT-B-16_openai_7_11.pt\n"
     ]
    },
    {
     "name": "stderr",
     "output_type": "stream",
     "text": [
      "Epoch 58/100 [Train]: 100%|██████████| 22/22 [00:15<00:00,  1.38it/s]\n",
      "Epoch 58/100 [Train Acc]: 100%|██████████| 22/22 [00:06<00:00,  3.15it/s]\n",
      "Epoch 58/100 [Val]: 100%|██████████| 7/7 [00:02<00:00,  2.40it/s]\n"
     ]
    },
    {
     "name": "stdout",
     "output_type": "stream",
     "text": [
      "✅ Epoch 58: Train Loss=0.0008, Val Loss=0.1487, Train Acc=100.00%, Val Acc=96.00%\n",
      "🎉 Saved best model to finetuned_identity_only_best_ViT-B-16_openai_7_11.pt\n"
     ]
    },
    {
     "name": "stderr",
     "output_type": "stream",
     "text": [
      "Epoch 59/100 [Train]: 100%|██████████| 22/22 [00:16<00:00,  1.33it/s]\n",
      "Epoch 59/100 [Train Acc]: 100%|██████████| 22/22 [00:10<00:00,  2.10it/s]\n",
      "Epoch 59/100 [Val]: 100%|██████████| 7/7 [00:02<00:00,  2.35it/s]\n"
     ]
    },
    {
     "name": "stdout",
     "output_type": "stream",
     "text": [
      "✅ Epoch 59: Train Loss=0.0008, Val Loss=0.1485, Train Acc=100.00%, Val Acc=96.00%\n",
      "🎉 Saved best model to finetuned_identity_only_best_ViT-B-16_openai_7_11.pt\n"
     ]
    },
    {
     "name": "stderr",
     "output_type": "stream",
     "text": [
      "Epoch 60/100 [Train]: 100%|██████████| 22/22 [00:16<00:00,  1.37it/s]\n",
      "Epoch 60/100 [Train Acc]: 100%|██████████| 22/22 [00:10<00:00,  2.09it/s]\n",
      "Epoch 60/100 [Val]: 100%|██████████| 7/7 [00:02<00:00,  2.36it/s]\n"
     ]
    },
    {
     "name": "stdout",
     "output_type": "stream",
     "text": [
      "✅ Epoch 60: Train Loss=0.0008, Val Loss=0.1484, Train Acc=100.00%, Val Acc=96.00%\n",
      "🎉 Saved best model to finetuned_identity_only_best_ViT-B-16_openai_7_11.pt\n"
     ]
    },
    {
     "name": "stderr",
     "output_type": "stream",
     "text": [
      "Epoch 61/100 [Train]: 100%|██████████| 22/22 [00:15<00:00,  1.43it/s]\n",
      "Epoch 61/100 [Train Acc]: 100%|██████████| 22/22 [00:08<00:00,  2.55it/s]\n",
      "Epoch 61/100 [Val]: 100%|██████████| 7/7 [00:02<00:00,  2.82it/s]\n"
     ]
    },
    {
     "name": "stdout",
     "output_type": "stream",
     "text": [
      "✅ Epoch 61: Train Loss=0.0007, Val Loss=0.1482, Train Acc=100.00%, Val Acc=96.00%\n",
      "🎉 Saved best model to finetuned_identity_only_best_ViT-B-16_openai_7_11.pt\n"
     ]
    },
    {
     "name": "stderr",
     "output_type": "stream",
     "text": [
      "Epoch 62/100 [Train]: 100%|██████████| 22/22 [00:13<00:00,  1.63it/s]\n",
      "Epoch 62/100 [Train Acc]: 100%|██████████| 22/22 [00:08<00:00,  2.54it/s]\n",
      "Epoch 62/100 [Val]: 100%|██████████| 7/7 [00:02<00:00,  2.69it/s]\n"
     ]
    },
    {
     "name": "stdout",
     "output_type": "stream",
     "text": [
      "✅ Epoch 62: Train Loss=0.0007, Val Loss=0.1483, Train Acc=100.00%, Val Acc=96.00%\n",
      "⚠️ No improvement. Patience: 1/5\n"
     ]
    },
    {
     "name": "stderr",
     "output_type": "stream",
     "text": [
      "Epoch 63/100 [Train]: 100%|██████████| 22/22 [00:13<00:00,  1.63it/s]\n",
      "Epoch 63/100 [Train Acc]: 100%|██████████| 22/22 [00:08<00:00,  2.54it/s]\n",
      "Epoch 63/100 [Val]: 100%|██████████| 7/7 [00:02<00:00,  2.85it/s]\n"
     ]
    },
    {
     "name": "stdout",
     "output_type": "stream",
     "text": [
      "✅ Epoch 63: Train Loss=0.0007, Val Loss=0.1480, Train Acc=100.00%, Val Acc=96.00%\n",
      "🎉 Saved best model to finetuned_identity_only_best_ViT-B-16_openai_7_11.pt\n"
     ]
    },
    {
     "name": "stderr",
     "output_type": "stream",
     "text": [
      "Epoch 64/100 [Train]: 100%|██████████| 22/22 [00:13<00:00,  1.61it/s]\n",
      "Epoch 64/100 [Train Acc]: 100%|██████████| 22/22 [00:08<00:00,  2.49it/s]\n",
      "Epoch 64/100 [Val]: 100%|██████████| 7/7 [00:02<00:00,  2.91it/s]\n"
     ]
    },
    {
     "name": "stdout",
     "output_type": "stream",
     "text": [
      "✅ Epoch 64: Train Loss=0.0007, Val Loss=0.1479, Train Acc=100.00%, Val Acc=96.00%\n",
      "🎉 Saved best model to finetuned_identity_only_best_ViT-B-16_openai_7_11.pt\n"
     ]
    },
    {
     "name": "stderr",
     "output_type": "stream",
     "text": [
      "Epoch 65/100 [Train]: 100%|██████████| 22/22 [00:13<00:00,  1.62it/s]\n",
      "Epoch 65/100 [Train Acc]: 100%|██████████| 22/22 [00:08<00:00,  2.51it/s]\n",
      "Epoch 65/100 [Val]: 100%|██████████| 7/7 [00:02<00:00,  2.85it/s]\n"
     ]
    },
    {
     "name": "stdout",
     "output_type": "stream",
     "text": [
      "✅ Epoch 65: Train Loss=0.0007, Val Loss=0.1478, Train Acc=100.00%, Val Acc=96.00%\n",
      "🎉 Saved best model to finetuned_identity_only_best_ViT-B-16_openai_7_11.pt\n"
     ]
    },
    {
     "name": "stderr",
     "output_type": "stream",
     "text": [
      "Epoch 66/100 [Train]: 100%|██████████| 22/22 [00:14<00:00,  1.52it/s]\n",
      "Epoch 66/100 [Train Acc]: 100%|██████████| 22/22 [00:10<00:00,  2.13it/s]\n",
      "Epoch 66/100 [Val]: 100%|██████████| 7/7 [00:03<00:00,  2.32it/s]\n"
     ]
    },
    {
     "name": "stdout",
     "output_type": "stream",
     "text": [
      "✅ Epoch 66: Train Loss=0.0006, Val Loss=0.1475, Train Acc=100.00%, Val Acc=96.00%\n",
      "🎉 Saved best model to finetuned_identity_only_best_ViT-B-16_openai_7_11.pt\n"
     ]
    },
    {
     "name": "stderr",
     "output_type": "stream",
     "text": [
      "Epoch 67/100 [Train]: 100%|██████████| 22/22 [00:16<00:00,  1.35it/s]\n",
      "Epoch 67/100 [Train Acc]: 100%|██████████| 22/22 [00:10<00:00,  2.09it/s]\n",
      "Epoch 67/100 [Val]: 100%|██████████| 7/7 [00:02<00:00,  2.53it/s]\n"
     ]
    },
    {
     "name": "stdout",
     "output_type": "stream",
     "text": [
      "✅ Epoch 67: Train Loss=0.0006, Val Loss=0.1475, Train Acc=100.00%, Val Acc=96.00%\n",
      "⚠️ No improvement. Patience: 1/5\n"
     ]
    },
    {
     "name": "stderr",
     "output_type": "stream",
     "text": [
      "Epoch 68/100 [Train]: 100%|██████████| 22/22 [00:15<00:00,  1.38it/s]\n",
      "Epoch 68/100 [Train Acc]: 100%|██████████| 22/22 [00:10<00:00,  2.03it/s]\n",
      "Epoch 68/100 [Val]: 100%|██████████| 7/7 [00:02<00:00,  2.40it/s]\n"
     ]
    },
    {
     "name": "stdout",
     "output_type": "stream",
     "text": [
      "✅ Epoch 68: Train Loss=0.0006, Val Loss=0.1474, Train Acc=100.00%, Val Acc=96.00%\n",
      "🎉 Saved best model to finetuned_identity_only_best_ViT-B-16_openai_7_11.pt\n"
     ]
    },
    {
     "name": "stderr",
     "output_type": "stream",
     "text": [
      "Epoch 69/100 [Train]: 100%|██████████| 22/22 [00:15<00:00,  1.39it/s]\n",
      "Epoch 69/100 [Train Acc]: 100%|██████████| 22/22 [00:10<00:00,  2.19it/s]\n",
      "Epoch 69/100 [Val]: 100%|██████████| 7/7 [00:02<00:00,  2.43it/s]\n"
     ]
    },
    {
     "name": "stdout",
     "output_type": "stream",
     "text": [
      "✅ Epoch 69: Train Loss=0.0006, Val Loss=0.1470, Train Acc=100.00%, Val Acc=96.00%\n",
      "🎉 Saved best model to finetuned_identity_only_best_ViT-B-16_openai_7_11.pt\n"
     ]
    },
    {
     "name": "stderr",
     "output_type": "stream",
     "text": [
      "Epoch 70/100 [Train]: 100%|██████████| 22/22 [00:14<00:00,  1.50it/s]\n",
      "Epoch 70/100 [Train Acc]: 100%|██████████| 22/22 [00:10<00:00,  2.02it/s]\n",
      "Epoch 70/100 [Val]: 100%|██████████| 7/7 [00:03<00:00,  2.19it/s]\n"
     ]
    },
    {
     "name": "stdout",
     "output_type": "stream",
     "text": [
      "✅ Epoch 70: Train Loss=0.0006, Val Loss=0.1469, Train Acc=100.00%, Val Acc=96.00%\n",
      "🎉 Saved best model to finetuned_identity_only_best_ViT-B-16_openai_7_11.pt\n"
     ]
    },
    {
     "name": "stderr",
     "output_type": "stream",
     "text": [
      "Epoch 71/100 [Train]: 100%|██████████| 22/22 [00:16<00:00,  1.36it/s]\n",
      "Epoch 71/100 [Train Acc]: 100%|██████████| 22/22 [00:10<00:00,  2.11it/s]\n",
      "Epoch 71/100 [Val]: 100%|██████████| 7/7 [00:03<00:00,  2.18it/s]\n"
     ]
    },
    {
     "name": "stdout",
     "output_type": "stream",
     "text": [
      "✅ Epoch 71: Train Loss=0.0006, Val Loss=0.1469, Train Acc=100.00%, Val Acc=96.00%\n",
      "⚠️ No improvement. Patience: 1/5\n"
     ]
    },
    {
     "name": "stderr",
     "output_type": "stream",
     "text": [
      "Epoch 72/100 [Train]: 100%|██████████| 22/22 [00:15<00:00,  1.40it/s]\n",
      "Epoch 72/100 [Train Acc]: 100%|██████████| 22/22 [00:10<00:00,  2.05it/s]\n",
      "Epoch 72/100 [Val]: 100%|██████████| 7/7 [00:02<00:00,  2.39it/s]\n"
     ]
    },
    {
     "name": "stdout",
     "output_type": "stream",
     "text": [
      "✅ Epoch 72: Train Loss=0.0005, Val Loss=0.1468, Train Acc=100.00%, Val Acc=96.00%\n",
      "🎉 Saved best model to finetuned_identity_only_best_ViT-B-16_openai_7_11.pt\n"
     ]
    },
    {
     "name": "stderr",
     "output_type": "stream",
     "text": [
      "Epoch 73/100 [Train]: 100%|██████████| 22/22 [00:16<00:00,  1.37it/s]\n",
      "Epoch 73/100 [Train Acc]: 100%|██████████| 22/22 [00:10<00:00,  2.06it/s]\n",
      "Epoch 73/100 [Val]: 100%|██████████| 7/7 [00:03<00:00,  2.06it/s]\n"
     ]
    },
    {
     "name": "stdout",
     "output_type": "stream",
     "text": [
      "✅ Epoch 73: Train Loss=0.0005, Val Loss=0.1467, Train Acc=100.00%, Val Acc=96.00%\n",
      "🎉 Saved best model to finetuned_identity_only_best_ViT-B-16_openai_7_11.pt\n"
     ]
    },
    {
     "name": "stderr",
     "output_type": "stream",
     "text": [
      "Epoch 74/100 [Train]: 100%|██████████| 22/22 [00:14<00:00,  1.49it/s]\n",
      "Epoch 74/100 [Train Acc]: 100%|██████████| 22/22 [00:08<00:00,  2.57it/s]\n",
      "Epoch 74/100 [Val]: 100%|██████████| 7/7 [00:02<00:00,  2.85it/s]\n"
     ]
    },
    {
     "name": "stdout",
     "output_type": "stream",
     "text": [
      "✅ Epoch 74: Train Loss=0.0005, Val Loss=0.1466, Train Acc=100.00%, Val Acc=96.00%\n",
      "🎉 Saved best model to finetuned_identity_only_best_ViT-B-16_openai_7_11.pt\n"
     ]
    },
    {
     "name": "stderr",
     "output_type": "stream",
     "text": [
      "Epoch 75/100 [Train]: 100%|██████████| 22/22 [00:13<00:00,  1.59it/s]\n",
      "Epoch 75/100 [Train Acc]: 100%|██████████| 22/22 [00:08<00:00,  2.53it/s]\n",
      "Epoch 75/100 [Val]: 100%|██████████| 7/7 [00:02<00:00,  2.79it/s]\n"
     ]
    },
    {
     "name": "stdout",
     "output_type": "stream",
     "text": [
      "✅ Epoch 75: Train Loss=0.0005, Val Loss=0.1466, Train Acc=100.00%, Val Acc=95.50%\n",
      "🎉 Saved best model to finetuned_identity_only_best_ViT-B-16_openai_7_11.pt\n"
     ]
    },
    {
     "name": "stderr",
     "output_type": "stream",
     "text": [
      "Epoch 76/100 [Train]: 100%|██████████| 22/22 [00:13<00:00,  1.59it/s]\n",
      "Epoch 76/100 [Train Acc]: 100%|██████████| 22/22 [00:08<00:00,  2.61it/s]\n",
      "Epoch 76/100 [Val]: 100%|██████████| 7/7 [00:02<00:00,  2.85it/s]\n"
     ]
    },
    {
     "name": "stdout",
     "output_type": "stream",
     "text": [
      "✅ Epoch 76: Train Loss=0.0005, Val Loss=0.1463, Train Acc=100.00%, Val Acc=96.00%\n",
      "🎉 Saved best model to finetuned_identity_only_best_ViT-B-16_openai_7_11.pt\n"
     ]
    },
    {
     "name": "stderr",
     "output_type": "stream",
     "text": [
      "Epoch 77/100 [Train]: 100%|██████████| 22/22 [00:13<00:00,  1.62it/s]\n",
      "Epoch 77/100 [Train Acc]: 100%|██████████| 22/22 [00:08<00:00,  2.50it/s]\n",
      "Epoch 77/100 [Val]: 100%|██████████| 7/7 [00:02<00:00,  2.73it/s]\n"
     ]
    },
    {
     "name": "stdout",
     "output_type": "stream",
     "text": [
      "✅ Epoch 77: Train Loss=0.0005, Val Loss=0.1463, Train Acc=100.00%, Val Acc=96.00%\n",
      "⚠️ No improvement. Patience: 1/5\n"
     ]
    },
    {
     "name": "stderr",
     "output_type": "stream",
     "text": [
      "Epoch 78/100 [Train]: 100%|██████████| 22/22 [00:13<00:00,  1.62it/s]\n",
      "Epoch 78/100 [Train Acc]: 100%|██████████| 22/22 [00:08<00:00,  2.53it/s]\n",
      "Epoch 78/100 [Val]: 100%|██████████| 7/7 [00:02<00:00,  2.85it/s]\n"
     ]
    },
    {
     "name": "stdout",
     "output_type": "stream",
     "text": [
      "✅ Epoch 78: Train Loss=0.0005, Val Loss=0.1462, Train Acc=100.00%, Val Acc=95.50%\n",
      "🎉 Saved best model to finetuned_identity_only_best_ViT-B-16_openai_7_11.pt\n"
     ]
    },
    {
     "name": "stderr",
     "output_type": "stream",
     "text": [
      "Epoch 79/100 [Train]: 100%|██████████| 22/22 [00:15<00:00,  1.43it/s]\n",
      "Epoch 79/100 [Train Acc]: 100%|██████████| 22/22 [00:09<00:00,  2.22it/s]\n",
      "Epoch 79/100 [Val]: 100%|██████████| 7/7 [00:02<00:00,  2.45it/s]\n"
     ]
    },
    {
     "name": "stdout",
     "output_type": "stream",
     "text": [
      "✅ Epoch 79: Train Loss=0.0004, Val Loss=0.1461, Train Acc=100.00%, Val Acc=96.00%\n",
      "🎉 Saved best model to finetuned_identity_only_best_ViT-B-16_openai_7_11.pt\n"
     ]
    },
    {
     "name": "stderr",
     "output_type": "stream",
     "text": [
      "Epoch 80/100 [Train]: 100%|██████████| 22/22 [00:15<00:00,  1.44it/s]\n",
      "Epoch 80/100 [Train Acc]: 100%|██████████| 22/22 [00:09<00:00,  2.24it/s]\n",
      "Epoch 80/100 [Val]: 100%|██████████| 7/7 [00:02<00:00,  2.46it/s]\n"
     ]
    },
    {
     "name": "stdout",
     "output_type": "stream",
     "text": [
      "✅ Epoch 80: Train Loss=0.0004, Val Loss=0.1460, Train Acc=100.00%, Val Acc=95.50%\n",
      "🎉 Saved best model to finetuned_identity_only_best_ViT-B-16_openai_7_11.pt\n"
     ]
    },
    {
     "name": "stderr",
     "output_type": "stream",
     "text": [
      "Epoch 81/100 [Train]: 100%|██████████| 22/22 [00:15<00:00,  1.39it/s]\n",
      "Epoch 81/100 [Train Acc]: 100%|██████████| 22/22 [00:10<00:00,  2.14it/s]\n",
      "Epoch 81/100 [Val]: 100%|██████████| 7/7 [00:02<00:00,  2.47it/s]\n"
     ]
    },
    {
     "name": "stdout",
     "output_type": "stream",
     "text": [
      "✅ Epoch 81: Train Loss=0.0004, Val Loss=0.1460, Train Acc=100.00%, Val Acc=95.50%\n",
      "⚠️ No improvement. Patience: 1/5\n"
     ]
    },
    {
     "name": "stderr",
     "output_type": "stream",
     "text": [
      "Epoch 82/100 [Train]: 100%|██████████| 22/22 [00:15<00:00,  1.45it/s]\n",
      "Epoch 82/100 [Train Acc]: 100%|██████████| 22/22 [00:09<00:00,  2.21it/s]\n",
      "Epoch 82/100 [Val]: 100%|██████████| 7/7 [00:02<00:00,  2.41it/s]\n"
     ]
    },
    {
     "name": "stdout",
     "output_type": "stream",
     "text": [
      "✅ Epoch 82: Train Loss=0.0004, Val Loss=0.1459, Train Acc=100.00%, Val Acc=95.50%\n",
      "🎉 Saved best model to finetuned_identity_only_best_ViT-B-16_openai_7_11.pt\n"
     ]
    },
    {
     "name": "stderr",
     "output_type": "stream",
     "text": [
      "Epoch 83/100 [Train]: 100%|██████████| 22/22 [00:16<00:00,  1.37it/s]\n",
      "Epoch 83/100 [Train Acc]: 100%|██████████| 22/22 [00:11<00:00,  1.96it/s]\n",
      "Epoch 83/100 [Val]: 100%|██████████| 7/7 [00:03<00:00,  2.11it/s]\n"
     ]
    },
    {
     "name": "stdout",
     "output_type": "stream",
     "text": [
      "✅ Epoch 83: Train Loss=0.0004, Val Loss=0.1456, Train Acc=100.00%, Val Acc=95.50%\n",
      "🎉 Saved best model to finetuned_identity_only_best_ViT-B-16_openai_7_11.pt\n"
     ]
    },
    {
     "name": "stderr",
     "output_type": "stream",
     "text": [
      "Epoch 84/100 [Train]: 100%|██████████| 22/22 [00:16<00:00,  1.34it/s]\n",
      "Epoch 84/100 [Train Acc]: 100%|██████████| 22/22 [00:10<00:00,  2.13it/s]\n",
      "Epoch 84/100 [Val]: 100%|██████████| 7/7 [00:03<00:00,  2.27it/s]\n"
     ]
    },
    {
     "name": "stdout",
     "output_type": "stream",
     "text": [
      "✅ Epoch 84: Train Loss=0.0004, Val Loss=0.1457, Train Acc=100.00%, Val Acc=95.50%\n",
      "⚠️ No improvement. Patience: 1/5\n"
     ]
    },
    {
     "name": "stderr",
     "output_type": "stream",
     "text": [
      "Epoch 85/100 [Train]: 100%|██████████| 22/22 [00:15<00:00,  1.38it/s]\n",
      "Epoch 85/100 [Train Acc]: 100%|██████████| 22/22 [00:10<00:00,  2.04it/s]\n",
      "Epoch 85/100 [Val]: 100%|██████████| 7/7 [00:03<00:00,  2.26it/s]\n"
     ]
    },
    {
     "name": "stdout",
     "output_type": "stream",
     "text": [
      "✅ Epoch 85: Train Loss=0.0004, Val Loss=0.1457, Train Acc=100.00%, Val Acc=95.50%\n",
      "⚠️ No improvement. Patience: 2/5\n"
     ]
    },
    {
     "name": "stderr",
     "output_type": "stream",
     "text": [
      "Epoch 86/100 [Train]: 100%|██████████| 22/22 [00:15<00:00,  1.40it/s]\n",
      "Epoch 86/100 [Train Acc]: 100%|██████████| 22/22 [00:10<00:00,  2.10it/s]\n",
      "Epoch 86/100 [Val]: 100%|██████████| 7/7 [00:03<00:00,  2.15it/s]\n"
     ]
    },
    {
     "name": "stdout",
     "output_type": "stream",
     "text": [
      "✅ Epoch 86: Train Loss=0.0004, Val Loss=0.1456, Train Acc=100.00%, Val Acc=95.50%\n",
      "🎉 Saved best model to finetuned_identity_only_best_ViT-B-16_openai_7_11.pt\n"
     ]
    },
    {
     "name": "stderr",
     "output_type": "stream",
     "text": [
      "Epoch 87/100 [Train]: 100%|██████████| 22/22 [00:14<00:00,  1.54it/s]\n",
      "Epoch 87/100 [Train Acc]: 100%|██████████| 22/22 [00:08<00:00,  2.48it/s]\n",
      "Epoch 87/100 [Val]: 100%|██████████| 7/7 [00:02<00:00,  2.61it/s]\n"
     ]
    },
    {
     "name": "stdout",
     "output_type": "stream",
     "text": [
      "✅ Epoch 87: Train Loss=0.0004, Val Loss=0.1455, Train Acc=100.00%, Val Acc=95.50%\n",
      "🎉 Saved best model to finetuned_identity_only_best_ViT-B-16_openai_7_11.pt\n"
     ]
    },
    {
     "name": "stderr",
     "output_type": "stream",
     "text": [
      "Epoch 88/100 [Train]: 100%|██████████| 22/22 [00:14<00:00,  1.55it/s]\n",
      "Epoch 88/100 [Train Acc]: 100%|██████████| 22/22 [00:08<00:00,  2.46it/s]\n",
      "Epoch 88/100 [Val]: 100%|██████████| 7/7 [00:02<00:00,  2.81it/s]\n"
     ]
    },
    {
     "name": "stdout",
     "output_type": "stream",
     "text": [
      "✅ Epoch 88: Train Loss=0.0004, Val Loss=0.1453, Train Acc=100.00%, Val Acc=95.50%\n",
      "🎉 Saved best model to finetuned_identity_only_best_ViT-B-16_openai_7_11.pt\n"
     ]
    },
    {
     "name": "stderr",
     "output_type": "stream",
     "text": [
      "Epoch 89/100 [Train]: 100%|██████████| 22/22 [00:13<00:00,  1.57it/s]\n",
      "Epoch 89/100 [Train Acc]: 100%|██████████| 22/22 [00:09<00:00,  2.41it/s]\n",
      "Epoch 89/100 [Val]: 100%|██████████| 7/7 [00:02<00:00,  2.70it/s]\n"
     ]
    },
    {
     "name": "stdout",
     "output_type": "stream",
     "text": [
      "✅ Epoch 89: Train Loss=0.0004, Val Loss=0.1453, Train Acc=100.00%, Val Acc=95.50%\n",
      "🎉 Saved best model to finetuned_identity_only_best_ViT-B-16_openai_7_11.pt\n"
     ]
    },
    {
     "name": "stderr",
     "output_type": "stream",
     "text": [
      "Epoch 90/100 [Train]: 100%|██████████| 22/22 [00:14<00:00,  1.56it/s]\n",
      "Epoch 90/100 [Train Acc]: 100%|██████████| 22/22 [00:08<00:00,  2.49it/s]\n",
      "Epoch 90/100 [Val]: 100%|██████████| 7/7 [00:02<00:00,  2.75it/s]\n"
     ]
    },
    {
     "name": "stdout",
     "output_type": "stream",
     "text": [
      "✅ Epoch 90: Train Loss=0.0003, Val Loss=0.1452, Train Acc=100.00%, Val Acc=95.50%\n",
      "🎉 Saved best model to finetuned_identity_only_best_ViT-B-16_openai_7_11.pt\n"
     ]
    },
    {
     "name": "stderr",
     "output_type": "stream",
     "text": [
      "Epoch 91/100 [Train]: 100%|██████████| 22/22 [00:14<00:00,  1.56it/s]\n",
      "Epoch 91/100 [Train Acc]: 100%|██████████| 22/22 [00:10<00:00,  2.09it/s]\n",
      "Epoch 91/100 [Val]: 100%|██████████| 7/7 [00:03<00:00,  2.26it/s]\n"
     ]
    },
    {
     "name": "stdout",
     "output_type": "stream",
     "text": [
      "✅ Epoch 91: Train Loss=0.0003, Val Loss=0.1451, Train Acc=100.00%, Val Acc=95.50%\n",
      "🎉 Saved best model to finetuned_identity_only_best_ViT-B-16_openai_7_11.pt\n"
     ]
    },
    {
     "name": "stderr",
     "output_type": "stream",
     "text": [
      "Epoch 92/100 [Train]: 100%|██████████| 22/22 [00:16<00:00,  1.36it/s]\n",
      "Epoch 92/100 [Train Acc]: 100%|██████████| 22/22 [00:10<00:00,  2.05it/s]\n",
      "Epoch 92/100 [Val]: 100%|██████████| 7/7 [00:03<00:00,  2.13it/s]\n"
     ]
    },
    {
     "name": "stdout",
     "output_type": "stream",
     "text": [
      "✅ Epoch 92: Train Loss=0.0003, Val Loss=0.1452, Train Acc=100.00%, Val Acc=95.50%\n",
      "⚠️ No improvement. Patience: 1/5\n"
     ]
    },
    {
     "name": "stderr",
     "output_type": "stream",
     "text": [
      "Epoch 93/100 [Train]: 100%|██████████| 22/22 [00:15<00:00,  1.43it/s]\n",
      "Epoch 93/100 [Train Acc]: 100%|██████████| 22/22 [00:09<00:00,  2.25it/s]\n",
      "Epoch 93/100 [Val]: 100%|██████████| 7/7 [00:03<00:00,  2.32it/s]\n"
     ]
    },
    {
     "name": "stdout",
     "output_type": "stream",
     "text": [
      "✅ Epoch 93: Train Loss=0.0003, Val Loss=0.1452, Train Acc=100.00%, Val Acc=95.50%\n",
      "⚠️ No improvement. Patience: 2/5\n"
     ]
    },
    {
     "name": "stderr",
     "output_type": "stream",
     "text": [
      "Epoch 94/100 [Train]: 100%|██████████| 22/22 [00:14<00:00,  1.50it/s]\n",
      "Epoch 94/100 [Train Acc]: 100%|██████████| 22/22 [00:10<00:00,  2.16it/s]\n",
      "Epoch 94/100 [Val]: 100%|██████████| 7/7 [00:02<00:00,  2.45it/s]\n"
     ]
    },
    {
     "name": "stdout",
     "output_type": "stream",
     "text": [
      "✅ Epoch 94: Train Loss=0.0003, Val Loss=0.1449, Train Acc=100.00%, Val Acc=95.50%\n",
      "🎉 Saved best model to finetuned_identity_only_best_ViT-B-16_openai_7_11.pt\n"
     ]
    },
    {
     "name": "stderr",
     "output_type": "stream",
     "text": [
      "Epoch 95/100 [Train]: 100%|██████████| 22/22 [00:16<00:00,  1.35it/s]\n",
      "Epoch 95/100 [Train Acc]: 100%|██████████| 22/22 [00:10<00:00,  2.12it/s]\n",
      "Epoch 95/100 [Val]: 100%|██████████| 7/7 [00:02<00:00,  2.67it/s]\n"
     ]
    },
    {
     "name": "stdout",
     "output_type": "stream",
     "text": [
      "✅ Epoch 95: Train Loss=0.0003, Val Loss=0.1448, Train Acc=100.00%, Val Acc=95.50%\n",
      "🎉 Saved best model to finetuned_identity_only_best_ViT-B-16_openai_7_11.pt\n"
     ]
    },
    {
     "name": "stderr",
     "output_type": "stream",
     "text": [
      "Epoch 96/100 [Train]: 100%|██████████| 22/22 [00:15<00:00,  1.45it/s]\n",
      "Epoch 96/100 [Train Acc]: 100%|██████████| 22/22 [00:09<00:00,  2.26it/s]\n",
      "Epoch 96/100 [Val]: 100%|██████████| 7/7 [00:02<00:00,  2.52it/s]\n"
     ]
    },
    {
     "name": "stdout",
     "output_type": "stream",
     "text": [
      "✅ Epoch 96: Train Loss=0.0003, Val Loss=0.1448, Train Acc=100.00%, Val Acc=95.50%\n",
      "⚠️ No improvement. Patience: 1/5\n"
     ]
    },
    {
     "name": "stderr",
     "output_type": "stream",
     "text": [
      "Epoch 97/100 [Train]: 100%|██████████| 22/22 [00:16<00:00,  1.33it/s]\n",
      "Epoch 97/100 [Train Acc]: 100%|██████████| 22/22 [00:10<00:00,  2.01it/s]\n",
      "Epoch 97/100 [Val]: 100%|██████████| 7/7 [00:02<00:00,  2.37it/s]\n"
     ]
    },
    {
     "name": "stdout",
     "output_type": "stream",
     "text": [
      "✅ Epoch 97: Train Loss=0.0003, Val Loss=0.1448, Train Acc=100.00%, Val Acc=95.50%\n",
      "🎉 Saved best model to finetuned_identity_only_best_ViT-B-16_openai_7_11.pt\n"
     ]
    },
    {
     "name": "stderr",
     "output_type": "stream",
     "text": [
      "Epoch 98/100 [Train]: 100%|██████████| 22/22 [00:12<00:00,  1.82it/s]\n",
      "Epoch 98/100 [Train Acc]: 100%|██████████| 22/22 [00:06<00:00,  3.18it/s]\n",
      "Epoch 98/100 [Val]: 100%|██████████| 7/7 [00:02<00:00,  3.46it/s]\n"
     ]
    },
    {
     "name": "stdout",
     "output_type": "stream",
     "text": [
      "✅ Epoch 98: Train Loss=0.0003, Val Loss=0.1448, Train Acc=100.00%, Val Acc=95.50%\n",
      "⚠️ No improvement. Patience: 1/5\n"
     ]
    },
    {
     "name": "stderr",
     "output_type": "stream",
     "text": [
      "Epoch 99/100 [Train]: 100%|██████████| 22/22 [00:11<00:00,  1.95it/s]\n",
      "Epoch 99/100 [Train Acc]: 100%|██████████| 22/22 [00:07<00:00,  3.14it/s]\n",
      "Epoch 99/100 [Val]: 100%|██████████| 7/7 [00:01<00:00,  3.52it/s]\n"
     ]
    },
    {
     "name": "stdout",
     "output_type": "stream",
     "text": [
      "✅ Epoch 99: Train Loss=0.0003, Val Loss=0.1447, Train Acc=100.00%, Val Acc=95.50%\n",
      "🎉 Saved best model to finetuned_identity_only_best_ViT-B-16_openai_7_11.pt\n"
     ]
    },
    {
     "name": "stderr",
     "output_type": "stream",
     "text": [
      "Epoch 100/100 [Train]: 100%|██████████| 22/22 [00:11<00:00,  1.93it/s]\n",
      "Epoch 100/100 [Train Acc]: 100%|██████████| 22/22 [00:06<00:00,  3.15it/s]\n",
      "Epoch 100/100 [Val]: 100%|██████████| 7/7 [00:02<00:00,  3.36it/s]\n"
     ]
    },
    {
     "name": "stdout",
     "output_type": "stream",
     "text": [
      "✅ Epoch 100: Train Loss=0.0003, Val Loss=0.1448, Train Acc=100.00%, Val Acc=95.50%\n",
      "⚠️ No improvement. Patience: 1/5\n"
     ]
    },
    {
     "ename": "FileNotFoundError",
     "evalue": "[Errno 2] No such file or directory: 'C:/Users/yehte/Downloads/Ye Htet/Projects/TikTok/zero_shot_face_recognition/fourth_discussion/test_results_identity_only_ViT-B-16_openai_7_11\\\\training_history.png'",
     "output_type": "error",
     "traceback": [
      "\u001B[31m---------------------------------------------------------------------------\u001B[39m",
      "\u001B[31mFileNotFoundError\u001B[39m                         Traceback (most recent call last)",
      "\u001B[36mCell\u001B[39m\u001B[36m \u001B[39m\u001B[32mIn[1]\u001B[39m\u001B[32m, line 367\u001B[39m\n\u001B[32m    364\u001B[39m train_loader = DataLoader(train_dataset, batch_size=CONFIG[\u001B[33m\"\u001B[39m\u001B[33mbatch_size\u001B[39m\u001B[33m\"\u001B[39m], shuffle=\u001B[38;5;28;01mTrue\u001B[39;00m)\n\u001B[32m    365\u001B[39m val_loader = DataLoader(val_dataset, batch_size=CONFIG[\u001B[33m\"\u001B[39m\u001B[33mbatch_size\u001B[39m\u001B[33m\"\u001B[39m], shuffle=\u001B[38;5;28;01mFalse\u001B[39;00m)\n\u001B[32m--> \u001B[39m\u001B[32m367\u001B[39m training_successful = \u001B[43mtrain_and_validate\u001B[49m\u001B[43m(\u001B[49m\u001B[43mmodel\u001B[49m\u001B[43m,\u001B[49m\u001B[43m \u001B[49m\u001B[43mtrain_loader\u001B[49m\u001B[43m,\u001B[49m\u001B[43m \u001B[49m\u001B[43mval_loader\u001B[49m\u001B[43m,\u001B[49m\u001B[43m \u001B[49m\u001B[43midentity_text_features\u001B[49m\u001B[43m)\u001B[49m\n\u001B[32m    369\u001B[39m \u001B[38;5;28;01mif\u001B[39;00m training_successful:\n\u001B[32m    370\u001B[39m     test_and_plot(model, identity_text_features, preprocess)\n",
      "\u001B[36mCell\u001B[39m\u001B[36m \u001B[39m\u001B[32mIn[1]\u001B[39m\u001B[32m, line 253\u001B[39m, in \u001B[36mtrain_and_validate\u001B[39m\u001B[34m(model, train_loader, val_loader, identity_text_features)\u001B[39m\n\u001B[32m    250\u001B[39m     \u001B[38;5;28;01mif\u001B[39;00m patience_counter >= CONFIG[\u001B[33m\"\u001B[39m\u001B[33mpatience\u001B[39m\u001B[33m\"\u001B[39m]:\n\u001B[32m    251\u001B[39m         \u001B[38;5;28mprint\u001B[39m(\u001B[33m\"\u001B[39m\u001B[33m🛑 Early stopping triggered.\u001B[39m\u001B[33m\"\u001B[39m); \u001B[38;5;28;01mbreak\u001B[39;00m\n\u001B[32m--> \u001B[39m\u001B[32m253\u001B[39m \u001B[43mplot_history\u001B[49m\u001B[43m(\u001B[49m\u001B[43mhistory\u001B[49m\u001B[43m,\u001B[49m\u001B[43m \u001B[49m\u001B[43mCONFIG\u001B[49m\u001B[43m[\u001B[49m\u001B[33;43m\"\u001B[39;49m\u001B[33;43mplot_save_dir\u001B[39;49m\u001B[33;43m\"\u001B[39;49m\u001B[43m]\u001B[49m\u001B[43m)\u001B[49m\n\u001B[32m    254\u001B[39m \u001B[38;5;28;01mreturn\u001B[39;00m model_saved\n",
      "\u001B[36mCell\u001B[39m\u001B[36m \u001B[39m\u001B[32mIn[1]\u001B[39m\u001B[32m, line 172\u001B[39m, in \u001B[36mplot_history\u001B[39m\u001B[34m(history, save_dir)\u001B[39m\n\u001B[32m    170\u001B[39m plt.tight_layout()\n\u001B[32m    171\u001B[39m save_path = os.path.join(save_dir, \u001B[33m\"\u001B[39m\u001B[33mtraining_history.png\u001B[39m\u001B[33m\"\u001B[39m)\n\u001B[32m--> \u001B[39m\u001B[32m172\u001B[39m \u001B[43mplt\u001B[49m\u001B[43m.\u001B[49m\u001B[43msavefig\u001B[49m\u001B[43m(\u001B[49m\u001B[43msave_path\u001B[49m\u001B[43m)\u001B[49m\n\u001B[32m    173\u001B[39m plt.close(fig)\n\u001B[32m    174\u001B[39m \u001B[38;5;28mprint\u001B[39m(\u001B[33mf\u001B[39m\u001B[33m\"\u001B[39m\u001B[33mTraining history plot saved to: \u001B[39m\u001B[38;5;132;01m{\u001B[39;00msave_path\u001B[38;5;132;01m}\u001B[39;00m\u001B[33m\"\u001B[39m)\n",
      "\u001B[36mFile \u001B[39m\u001B[32m~\\PycharmProjects\\TikTokProject\\.venv\\Lib\\site-packages\\matplotlib\\pyplot.py:1251\u001B[39m, in \u001B[36msavefig\u001B[39m\u001B[34m(*args, **kwargs)\u001B[39m\n\u001B[32m   1248\u001B[39m fig = gcf()\n\u001B[32m   1249\u001B[39m \u001B[38;5;66;03m# savefig default implementation has no return, so mypy is unhappy\u001B[39;00m\n\u001B[32m   1250\u001B[39m \u001B[38;5;66;03m# presumably this is here because subclasses can return?\u001B[39;00m\n\u001B[32m-> \u001B[39m\u001B[32m1251\u001B[39m res = \u001B[43mfig\u001B[49m\u001B[43m.\u001B[49m\u001B[43msavefig\u001B[49m\u001B[43m(\u001B[49m\u001B[43m*\u001B[49m\u001B[43margs\u001B[49m\u001B[43m,\u001B[49m\u001B[43m \u001B[49m\u001B[43m*\u001B[49m\u001B[43m*\u001B[49m\u001B[43mkwargs\u001B[49m\u001B[43m)\u001B[49m  \u001B[38;5;66;03m# type: ignore[func-returns-value]\u001B[39;00m\n\u001B[32m   1252\u001B[39m fig.canvas.draw_idle()  \u001B[38;5;66;03m# Need this if 'transparent=True', to reset colors.\u001B[39;00m\n\u001B[32m   1253\u001B[39m \u001B[38;5;28;01mreturn\u001B[39;00m res\n",
      "\u001B[36mFile \u001B[39m\u001B[32m~\\PycharmProjects\\TikTokProject\\.venv\\Lib\\site-packages\\matplotlib\\figure.py:3490\u001B[39m, in \u001B[36mFigure.savefig\u001B[39m\u001B[34m(self, fname, transparent, **kwargs)\u001B[39m\n\u001B[32m   3488\u001B[39m     \u001B[38;5;28;01mfor\u001B[39;00m ax \u001B[38;5;129;01min\u001B[39;00m \u001B[38;5;28mself\u001B[39m.axes:\n\u001B[32m   3489\u001B[39m         _recursively_make_axes_transparent(stack, ax)\n\u001B[32m-> \u001B[39m\u001B[32m3490\u001B[39m \u001B[38;5;28;43mself\u001B[39;49m\u001B[43m.\u001B[49m\u001B[43mcanvas\u001B[49m\u001B[43m.\u001B[49m\u001B[43mprint_figure\u001B[49m\u001B[43m(\u001B[49m\u001B[43mfname\u001B[49m\u001B[43m,\u001B[49m\u001B[43m \u001B[49m\u001B[43m*\u001B[49m\u001B[43m*\u001B[49m\u001B[43mkwargs\u001B[49m\u001B[43m)\u001B[49m\n",
      "\u001B[36mFile \u001B[39m\u001B[32m~\\PycharmProjects\\TikTokProject\\.venv\\Lib\\site-packages\\matplotlib\\backend_bases.py:2184\u001B[39m, in \u001B[36mFigureCanvasBase.print_figure\u001B[39m\u001B[34m(self, filename, dpi, facecolor, edgecolor, orientation, format, bbox_inches, pad_inches, bbox_extra_artists, backend, **kwargs)\u001B[39m\n\u001B[32m   2180\u001B[39m \u001B[38;5;28;01mtry\u001B[39;00m:\n\u001B[32m   2181\u001B[39m     \u001B[38;5;66;03m# _get_renderer may change the figure dpi (as vector formats\u001B[39;00m\n\u001B[32m   2182\u001B[39m     \u001B[38;5;66;03m# force the figure dpi to 72), so we need to set it again here.\u001B[39;00m\n\u001B[32m   2183\u001B[39m     \u001B[38;5;28;01mwith\u001B[39;00m cbook._setattr_cm(\u001B[38;5;28mself\u001B[39m.figure, dpi=dpi):\n\u001B[32m-> \u001B[39m\u001B[32m2184\u001B[39m         result = \u001B[43mprint_method\u001B[49m\u001B[43m(\u001B[49m\n\u001B[32m   2185\u001B[39m \u001B[43m            \u001B[49m\u001B[43mfilename\u001B[49m\u001B[43m,\u001B[49m\n\u001B[32m   2186\u001B[39m \u001B[43m            \u001B[49m\u001B[43mfacecolor\u001B[49m\u001B[43m=\u001B[49m\u001B[43mfacecolor\u001B[49m\u001B[43m,\u001B[49m\n\u001B[32m   2187\u001B[39m \u001B[43m            \u001B[49m\u001B[43medgecolor\u001B[49m\u001B[43m=\u001B[49m\u001B[43medgecolor\u001B[49m\u001B[43m,\u001B[49m\n\u001B[32m   2188\u001B[39m \u001B[43m            \u001B[49m\u001B[43morientation\u001B[49m\u001B[43m=\u001B[49m\u001B[43morientation\u001B[49m\u001B[43m,\u001B[49m\n\u001B[32m   2189\u001B[39m \u001B[43m            \u001B[49m\u001B[43mbbox_inches_restore\u001B[49m\u001B[43m=\u001B[49m\u001B[43m_bbox_inches_restore\u001B[49m\u001B[43m,\u001B[49m\n\u001B[32m   2190\u001B[39m \u001B[43m            \u001B[49m\u001B[43m*\u001B[49m\u001B[43m*\u001B[49m\u001B[43mkwargs\u001B[49m\u001B[43m)\u001B[49m\n\u001B[32m   2191\u001B[39m \u001B[38;5;28;01mfinally\u001B[39;00m:\n\u001B[32m   2192\u001B[39m     \u001B[38;5;28;01mif\u001B[39;00m bbox_inches \u001B[38;5;129;01mand\u001B[39;00m restore_bbox:\n",
      "\u001B[36mFile \u001B[39m\u001B[32m~\\PycharmProjects\\TikTokProject\\.venv\\Lib\\site-packages\\matplotlib\\backend_bases.py:2040\u001B[39m, in \u001B[36mFigureCanvasBase._switch_canvas_and_return_print_method.<locals>.<lambda>\u001B[39m\u001B[34m(*args, **kwargs)\u001B[39m\n\u001B[32m   2036\u001B[39m     optional_kws = {  \u001B[38;5;66;03m# Passed by print_figure for other renderers.\u001B[39;00m\n\u001B[32m   2037\u001B[39m         \u001B[33m\"\u001B[39m\u001B[33mdpi\u001B[39m\u001B[33m\"\u001B[39m, \u001B[33m\"\u001B[39m\u001B[33mfacecolor\u001B[39m\u001B[33m\"\u001B[39m, \u001B[33m\"\u001B[39m\u001B[33medgecolor\u001B[39m\u001B[33m\"\u001B[39m, \u001B[33m\"\u001B[39m\u001B[33morientation\u001B[39m\u001B[33m\"\u001B[39m,\n\u001B[32m   2038\u001B[39m         \u001B[33m\"\u001B[39m\u001B[33mbbox_inches_restore\u001B[39m\u001B[33m\"\u001B[39m}\n\u001B[32m   2039\u001B[39m     skip = optional_kws - {*inspect.signature(meth).parameters}\n\u001B[32m-> \u001B[39m\u001B[32m2040\u001B[39m     print_method = functools.wraps(meth)(\u001B[38;5;28;01mlambda\u001B[39;00m *args, **kwargs: \u001B[43mmeth\u001B[49m\u001B[43m(\u001B[49m\n\u001B[32m   2041\u001B[39m \u001B[43m        \u001B[49m\u001B[43m*\u001B[49m\u001B[43margs\u001B[49m\u001B[43m,\u001B[49m\u001B[43m \u001B[49m\u001B[43m*\u001B[49m\u001B[43m*\u001B[49m\u001B[43m{\u001B[49m\u001B[43mk\u001B[49m\u001B[43m:\u001B[49m\u001B[43m \u001B[49m\u001B[43mv\u001B[49m\u001B[43m \u001B[49m\u001B[38;5;28;43;01mfor\u001B[39;49;00m\u001B[43m \u001B[49m\u001B[43mk\u001B[49m\u001B[43m,\u001B[49m\u001B[43m \u001B[49m\u001B[43mv\u001B[49m\u001B[43m \u001B[49m\u001B[38;5;129;43;01min\u001B[39;49;00m\u001B[43m \u001B[49m\u001B[43mkwargs\u001B[49m\u001B[43m.\u001B[49m\u001B[43mitems\u001B[49m\u001B[43m(\u001B[49m\u001B[43m)\u001B[49m\u001B[43m \u001B[49m\u001B[38;5;28;43;01mif\u001B[39;49;00m\u001B[43m \u001B[49m\u001B[43mk\u001B[49m\u001B[43m \u001B[49m\u001B[38;5;129;43;01mnot\u001B[39;49;00m\u001B[43m \u001B[49m\u001B[38;5;129;43;01min\u001B[39;49;00m\u001B[43m \u001B[49m\u001B[43mskip\u001B[49m\u001B[43m}\u001B[49m\u001B[43m)\u001B[49m)\n\u001B[32m   2042\u001B[39m \u001B[38;5;28;01melse\u001B[39;00m:  \u001B[38;5;66;03m# Let third-parties do as they see fit.\u001B[39;00m\n\u001B[32m   2043\u001B[39m     print_method = meth\n",
      "\u001B[36mFile \u001B[39m\u001B[32m~\\PycharmProjects\\TikTokProject\\.venv\\Lib\\site-packages\\matplotlib\\backends\\backend_agg.py:481\u001B[39m, in \u001B[36mFigureCanvasAgg.print_png\u001B[39m\u001B[34m(self, filename_or_obj, metadata, pil_kwargs)\u001B[39m\n\u001B[32m    434\u001B[39m \u001B[38;5;28;01mdef\u001B[39;00m\u001B[38;5;250m \u001B[39m\u001B[34mprint_png\u001B[39m(\u001B[38;5;28mself\u001B[39m, filename_or_obj, *, metadata=\u001B[38;5;28;01mNone\u001B[39;00m, pil_kwargs=\u001B[38;5;28;01mNone\u001B[39;00m):\n\u001B[32m    435\u001B[39m \u001B[38;5;250m    \u001B[39m\u001B[33;03m\"\"\"\u001B[39;00m\n\u001B[32m    436\u001B[39m \u001B[33;03m    Write the figure to a PNG file.\u001B[39;00m\n\u001B[32m    437\u001B[39m \n\u001B[32m   (...)\u001B[39m\u001B[32m    479\u001B[39m \u001B[33;03m        *metadata*, including the default 'Software' key.\u001B[39;00m\n\u001B[32m    480\u001B[39m \u001B[33;03m    \"\"\"\u001B[39;00m\n\u001B[32m--> \u001B[39m\u001B[32m481\u001B[39m     \u001B[38;5;28;43mself\u001B[39;49m\u001B[43m.\u001B[49m\u001B[43m_print_pil\u001B[49m\u001B[43m(\u001B[49m\u001B[43mfilename_or_obj\u001B[49m\u001B[43m,\u001B[49m\u001B[43m \u001B[49m\u001B[33;43m\"\u001B[39;49m\u001B[33;43mpng\u001B[39;49m\u001B[33;43m\"\u001B[39;49m\u001B[43m,\u001B[49m\u001B[43m \u001B[49m\u001B[43mpil_kwargs\u001B[49m\u001B[43m,\u001B[49m\u001B[43m \u001B[49m\u001B[43mmetadata\u001B[49m\u001B[43m)\u001B[49m\n",
      "\u001B[36mFile \u001B[39m\u001B[32m~\\PycharmProjects\\TikTokProject\\.venv\\Lib\\site-packages\\matplotlib\\backends\\backend_agg.py:430\u001B[39m, in \u001B[36mFigureCanvasAgg._print_pil\u001B[39m\u001B[34m(self, filename_or_obj, fmt, pil_kwargs, metadata)\u001B[39m\n\u001B[32m    425\u001B[39m \u001B[38;5;250m\u001B[39m\u001B[33;03m\"\"\"\u001B[39;00m\n\u001B[32m    426\u001B[39m \u001B[33;03mDraw the canvas, then save it using `.image.imsave` (to which\u001B[39;00m\n\u001B[32m    427\u001B[39m \u001B[33;03m*pil_kwargs* and *metadata* are forwarded).\u001B[39;00m\n\u001B[32m    428\u001B[39m \u001B[33;03m\"\"\"\u001B[39;00m\n\u001B[32m    429\u001B[39m FigureCanvasAgg.draw(\u001B[38;5;28mself\u001B[39m)\n\u001B[32m--> \u001B[39m\u001B[32m430\u001B[39m \u001B[43mmpl\u001B[49m\u001B[43m.\u001B[49m\u001B[43mimage\u001B[49m\u001B[43m.\u001B[49m\u001B[43mimsave\u001B[49m\u001B[43m(\u001B[49m\n\u001B[32m    431\u001B[39m \u001B[43m    \u001B[49m\u001B[43mfilename_or_obj\u001B[49m\u001B[43m,\u001B[49m\u001B[43m \u001B[49m\u001B[38;5;28;43mself\u001B[39;49m\u001B[43m.\u001B[49m\u001B[43mbuffer_rgba\u001B[49m\u001B[43m(\u001B[49m\u001B[43m)\u001B[49m\u001B[43m,\u001B[49m\u001B[43m \u001B[49m\u001B[38;5;28;43mformat\u001B[39;49m\u001B[43m=\u001B[49m\u001B[43mfmt\u001B[49m\u001B[43m,\u001B[49m\u001B[43m \u001B[49m\u001B[43morigin\u001B[49m\u001B[43m=\u001B[49m\u001B[33;43m\"\u001B[39;49m\u001B[33;43mupper\u001B[39;49m\u001B[33;43m\"\u001B[39;49m\u001B[43m,\u001B[49m\n\u001B[32m    432\u001B[39m \u001B[43m    \u001B[49m\u001B[43mdpi\u001B[49m\u001B[43m=\u001B[49m\u001B[38;5;28;43mself\u001B[39;49m\u001B[43m.\u001B[49m\u001B[43mfigure\u001B[49m\u001B[43m.\u001B[49m\u001B[43mdpi\u001B[49m\u001B[43m,\u001B[49m\u001B[43m \u001B[49m\u001B[43mmetadata\u001B[49m\u001B[43m=\u001B[49m\u001B[43mmetadata\u001B[49m\u001B[43m,\u001B[49m\u001B[43m \u001B[49m\u001B[43mpil_kwargs\u001B[49m\u001B[43m=\u001B[49m\u001B[43mpil_kwargs\u001B[49m\u001B[43m)\u001B[49m\n",
      "\u001B[36mFile \u001B[39m\u001B[32m~\\PycharmProjects\\TikTokProject\\.venv\\Lib\\site-packages\\matplotlib\\image.py:1657\u001B[39m, in \u001B[36mimsave\u001B[39m\u001B[34m(fname, arr, vmin, vmax, cmap, format, origin, dpi, metadata, pil_kwargs)\u001B[39m\n\u001B[32m   1655\u001B[39m pil_kwargs.setdefault(\u001B[33m\"\u001B[39m\u001B[33mformat\u001B[39m\u001B[33m\"\u001B[39m, \u001B[38;5;28mformat\u001B[39m)\n\u001B[32m   1656\u001B[39m pil_kwargs.setdefault(\u001B[33m\"\u001B[39m\u001B[33mdpi\u001B[39m\u001B[33m\"\u001B[39m, (dpi, dpi))\n\u001B[32m-> \u001B[39m\u001B[32m1657\u001B[39m \u001B[43mimage\u001B[49m\u001B[43m.\u001B[49m\u001B[43msave\u001B[49m\u001B[43m(\u001B[49m\u001B[43mfname\u001B[49m\u001B[43m,\u001B[49m\u001B[43m \u001B[49m\u001B[43m*\u001B[49m\u001B[43m*\u001B[49m\u001B[43mpil_kwargs\u001B[49m\u001B[43m)\u001B[49m\n",
      "\u001B[36mFile \u001B[39m\u001B[32m~\\PycharmProjects\\TikTokProject\\.venv\\Lib\\site-packages\\PIL\\Image.py:2576\u001B[39m, in \u001B[36mImage.save\u001B[39m\u001B[34m(self, fp, format, **params)\u001B[39m\n\u001B[32m   2574\u001B[39m         fp = builtins.open(filename, \u001B[33m\"\u001B[39m\u001B[33mr+b\u001B[39m\u001B[33m\"\u001B[39m)\n\u001B[32m   2575\u001B[39m     \u001B[38;5;28;01melse\u001B[39;00m:\n\u001B[32m-> \u001B[39m\u001B[32m2576\u001B[39m         fp = \u001B[43mbuiltins\u001B[49m\u001B[43m.\u001B[49m\u001B[43mopen\u001B[49m\u001B[43m(\u001B[49m\u001B[43mfilename\u001B[49m\u001B[43m,\u001B[49m\u001B[43m \u001B[49m\u001B[33;43m\"\u001B[39;49m\u001B[33;43mw+b\u001B[39;49m\u001B[33;43m\"\u001B[39;49m\u001B[43m)\u001B[49m\n\u001B[32m   2577\u001B[39m \u001B[38;5;28;01melse\u001B[39;00m:\n\u001B[32m   2578\u001B[39m     fp = cast(IO[\u001B[38;5;28mbytes\u001B[39m], fp)\n",
      "\u001B[31mFileNotFoundError\u001B[39m: [Errno 2] No such file or directory: 'C:/Users/yehte/Downloads/Ye Htet/Projects/TikTok/zero_shot_face_recognition/fourth_discussion/test_results_identity_only_ViT-B-16_openai_7_11\\\\training_history.png'"
     ]
    },
    {
     "data": {
      "text/plain": [
       "<Figure size 1000x1200 with 2 Axes>"
      ],
      "image/png": "[encoded data removed]"
     },
     "metadata": {},
     "output_type": "display_data"
    }
   ],
   "execution_count": 1
  },
  {
   "metadata": {
    "ExecuteTime": {
     "end_time": "2025-07-11T06:05:30.022208Z",
     "start_time": "2025-07-11T06:05:19.208071Z"
    }
   },
   "cell_type": "code",
   "source": "test_and_plot(model, identity_text_features, preprocess)",
   "id": "821e2556bab8458a",
   "outputs": [
    {
     "name": "stdout",
     "output_type": "stream",
     "text": [
      "\n",
      "--- Starting Final Testing and Plotting Phase ---\n",
      "Best model loaded.\n",
      "Loading preprocessed identity data from cache: C:/Users/yehte/Downloads/Ye Htet/Projects/TikTok/Annotation/fine-tune/test.identity_cached.csv\n"
     ]
    },
    {
     "name": "stderr",
     "output_type": "stream",
     "text": [
      "[Testing]: 100%|██████████| 4/4 [00:01<00:00,  3.48it/s]\n"
     ]
    },
    {
     "name": "stdout",
     "output_type": "stream",
     "text": [
      "\n",
      "📊 Test Accuracy: 97.00%\n",
      "\n",
      "--- Generating Confusion Matrix ---\n",
      "Confusion matrix saved to: C:/Users/yehte/Downloads/Ye Htet/Projects/TikTok/zero_shot_face_recognition/fourth_discussion/test_results_identity_only_ViT-B-16_openai_7_11\\confusion_matrix.png\n",
      "\n",
      "--- Plotting up to 100 individual results ---\n",
      "--- Plotting complete ---\n"
     ]
    }
   ],
   "execution_count": 2
  }
 ],
 "metadata": {
  "kernelspec": {
   "display_name": "Python 3",
   "language": "python",
   "name": "python3"
  },
  "language_info": {
   "codemirror_mode": {
    "name": "ipython",
    "version": 2
   },
   "file_extension": ".py",
   "mimetype": "text/x-python",
   "name": "python",
   "nbconvert_exporter": "python",
   "pygments_lexer": "ipython2",
   "version": "2.7.6"
  }
 },
 "nbformat": 4,
 "nbformat_minor": 5
}
