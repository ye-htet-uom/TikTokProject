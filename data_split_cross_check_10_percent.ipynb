{
 "cells": [
  {
   "cell_type": "code",
   "id": "initial_id",
   "metadata": {
    "collapsed": true,
    "ExecuteTime": {
     "end_time": "2025-06-26T01:27:19.676382Z",
     "start_time": "2025-06-26T01:27:19.371331Z"
    }
   },
   "source": [
    "import os\n",
    "import shutil\n",
    "import random\n",
    "from pathlib import Path\n",
    "\n",
    "def copy_10_percent_images(source_root, dest_root, image_extensions=None):\n",
    "    if image_extensions is None:\n",
    "        image_extensions = {'.jpg', '.jpeg', '.png', '.bmp', '.gif'}\n",
    "\n",
    "    source_root = Path(source_root)\n",
    "    dest_root = Path(dest_root)\n",
    "    dest_root.mkdir(parents=True, exist_ok=True)\n",
    "\n",
    "    for folder in source_root.iterdir():\n",
    "        if folder.is_dir():\n",
    "            image_files = [f for f in folder.iterdir() if f.suffix.lower() in image_extensions]\n",
    "            if not image_files:\n",
    "                continue\n",
    "\n",
    "            sample_count = max(1, len(image_files) * 10 // 100)\n",
    "            selected_images = random.sample(image_files, sample_count)\n",
    "\n",
    "            dest_folder = dest_root / folder.name\n",
    "            dest_folder.mkdir(parents=True, exist_ok=True)\n",
    "\n",
    "            for image_path in selected_images:\n",
    "                dest_image_path = dest_folder / image_path.name\n",
    "                shutil.copy2(image_path, dest_image_path)\n",
    "            print(f\"Copied {sample_count} images to {dest_folder}\")\n",
    "\n",
    "# Example usage\n",
    "source_path = 'C:/Users/yehte/Downloads/Ye Htet/Projects/TikTok/Annotation/Politician_Photos_2025-06-23'\n",
    "destination_path = 'C:/Users/yehte/Downloads/Ye Htet/Projects/TikTok/Annotation/Politician_Photos_2025-06-23_10_percent'\n",
    "\n",
    "copy_10_percent_images(source_path, destination_path)\n"
   ],
   "outputs": [
    {
     "name": "stdout",
     "output_type": "stream",
     "text": [
      "Copied 5 images to C:\\Users\\yehte\\Downloads\\Ye Htet\\Projects\\TikTok\\Annotation\\Politician_Photos_2025-06-23_10_percent\\Abdurrahman Wahid\n",
      "Copied 5 images to C:\\Users\\yehte\\Downloads\\Ye Htet\\Projects\\TikTok\\Annotation\\Politician_Photos_2025-06-23_10_percent\\Agus Harimurti Yudhoyono\n",
      "Copied 5 images to C:\\Users\\yehte\\Downloads\\Ye Htet\\Projects\\TikTok\\Annotation\\Politician_Photos_2025-06-23_10_percent\\Airlangga Hartarto\n",
      "Copied 5 images to C:\\Users\\yehte\\Downloads\\Ye Htet\\Projects\\TikTok\\Annotation\\Politician_Photos_2025-06-23_10_percent\\Anies Rasyid Baswedan\n",
      "Copied 5 images to C:\\Users\\yehte\\Downloads\\Ye Htet\\Projects\\TikTok\\Annotation\\Politician_Photos_2025-06-23_10_percent\\Baharuddin Jusuf Habibie\n",
      "Copied 5 images to C:\\Users\\yehte\\Downloads\\Ye Htet\\Projects\\TikTok\\Annotation\\Politician_Photos_2025-06-23_10_percent\\Boediono\n",
      "Copied 5 images to C:\\Users\\yehte\\Downloads\\Ye Htet\\Projects\\TikTok\\Annotation\\Politician_Photos_2025-06-23_10_percent\\Erick Thohir\n",
      "Copied 5 images to C:\\Users\\yehte\\Downloads\\Ye Htet\\Projects\\TikTok\\Annotation\\Politician_Photos_2025-06-23_10_percent\\Ganjar Pranowo\n",
      "Copied 5 images to C:\\Users\\yehte\\Downloads\\Ye Htet\\Projects\\TikTok\\Annotation\\Politician_Photos_2025-06-23_10_percent\\Gibran Rakabuming Raka\n",
      "Copied 5 images to C:\\Users\\yehte\\Downloads\\Ye Htet\\Projects\\TikTok\\Annotation\\Politician_Photos_2025-06-23_10_percent\\Joko Widodo\n",
      "Copied 5 images to C:\\Users\\yehte\\Downloads\\Ye Htet\\Projects\\TikTok\\Annotation\\Politician_Photos_2025-06-23_10_percent\\Jusuf Kalla\n",
      "Copied 5 images to C:\\Users\\yehte\\Downloads\\Ye Htet\\Projects\\TikTok\\Annotation\\Politician_Photos_2025-06-23_10_percent\\Mahfud MD\n",
      "Copied 5 images to C:\\Users\\yehte\\Downloads\\Ye Htet\\Projects\\TikTok\\Annotation\\Politician_Photos_2025-06-23_10_percent\\Maruf Amin\n",
      "Copied 5 images to C:\\Users\\yehte\\Downloads\\Ye Htet\\Projects\\TikTok\\Annotation\\Politician_Photos_2025-06-23_10_percent\\Megawati Sukarnoputri\n",
      "Copied 5 images to C:\\Users\\yehte\\Downloads\\Ye Htet\\Projects\\TikTok\\Annotation\\Politician_Photos_2025-06-23_10_percent\\Muhaimin Iskandar\n",
      "Copied 5 images to C:\\Users\\yehte\\Downloads\\Ye Htet\\Projects\\TikTok\\Annotation\\Politician_Photos_2025-06-23_10_percent\\Prabowo Subianto\n",
      "Copied 5 images to C:\\Users\\yehte\\Downloads\\Ye Htet\\Projects\\TikTok\\Annotation\\Politician_Photos_2025-06-23_10_percent\\Soekarno\n",
      "Copied 5 images to C:\\Users\\yehte\\Downloads\\Ye Htet\\Projects\\TikTok\\Annotation\\Politician_Photos_2025-06-23_10_percent\\Sri Mulyani Indrawati\n",
      "Copied 5 images to C:\\Users\\yehte\\Downloads\\Ye Htet\\Projects\\TikTok\\Annotation\\Politician_Photos_2025-06-23_10_percent\\Suharto\n",
      "Copied 5 images to C:\\Users\\yehte\\Downloads\\Ye Htet\\Projects\\TikTok\\Annotation\\Politician_Photos_2025-06-23_10_percent\\Susilo Bambang Yudhoyono\n"
     ]
    }
   ],
   "execution_count": 1
  }
 ],
 "metadata": {
  "kernelspec": {
   "display_name": "Python 3",
   "language": "python",
   "name": "python3"
  },
  "language_info": {
   "codemirror_mode": {
    "name": "ipython",
    "version": 2
   },
   "file_extension": ".py",
   "mimetype": "text/x-python",
   "name": "python",
   "nbconvert_exporter": "python",
   "pygments_lexer": "ipython2",
   "version": "2.7.6"
  }
 },
 "nbformat": 4,
 "nbformat_minor": 5
}
