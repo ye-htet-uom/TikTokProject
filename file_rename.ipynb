{
 "cells": [
  {
   "cell_type": "code",
   "id": "initial_id",
   "metadata": {
    "collapsed": true,
    "ExecuteTime": {
     "end_time": "2025-06-23T02:54:01.790849Z",
     "start_time": "2025-06-23T02:54:01.776748Z"
    }
   },
   "source": [
    "import os\n",
    "\n",
    "# Get the current directory path\n",
    "directory = 'C:/Users/yehte/Downloads/Ye Htet/Projects/TikTok/Annotation/Politician_Photos_2025-06-23/Susilo Bambang Yudhoyono'\n",
    "\n",
    "# Loop through all the files and directories in the current directory\n",
    "for filename in os.listdir(directory):\n",
    "    # Check if the file is a regular file and ends with .jpg\n",
    "    if os.path.isfile(os.path.join(directory, filename)) and filename.lower().endswith('.jpg'):\n",
    "        # Split the filename into its name and extension\n",
    "        base_name, extension = os.path.splitext(filename)\n",
    "\n",
    "        # Define the old and new file paths\n",
    "        old_file = os.path.join(directory, filename)\n",
    "        new_file = os.path.join(directory, base_name)\n",
    "\n",
    "        # Rename the file\n",
    "        try:\n",
    "            os.rename(old_file, new_file)\n",
    "            print(f'Renamed: \"{filename}\" to \"{base_name}\"')\n",
    "        except OSError as e:\n",
    "            print(f'Error renaming {filename}: {e}')\n",
    "\n",
    "print(\"\\nFinished renaming all .jpg files.\")"
   ],
   "outputs": [
    {
     "name": "stdout",
     "output_type": "stream",
     "text": [
      "Renamed: \"Susilo_Bambang_Yudhoyono_01.jpg.jpg\" to \"Susilo_Bambang_Yudhoyono_01.jpg\"\n",
      "Renamed: \"Susilo_Bambang_Yudhoyono_02.jpg.jpg\" to \"Susilo_Bambang_Yudhoyono_02.jpg\"\n",
      "Renamed: \"Susilo_Bambang_Yudhoyono_03.jpg.jpg\" to \"Susilo_Bambang_Yudhoyono_03.jpg\"\n",
      "Renamed: \"Susilo_Bambang_Yudhoyono_04.jpg.jpg\" to \"Susilo_Bambang_Yudhoyono_04.jpg\"\n",
      "Renamed: \"Susilo_Bambang_Yudhoyono_05.jpg.jpg\" to \"Susilo_Bambang_Yudhoyono_05.jpg\"\n",
      "Renamed: \"Susilo_Bambang_Yudhoyono_06.jpg.jpg\" to \"Susilo_Bambang_Yudhoyono_06.jpg\"\n",
      "Renamed: \"Susilo_Bambang_Yudhoyono_07.jpg.jpg\" to \"Susilo_Bambang_Yudhoyono_07.jpg\"\n",
      "Renamed: \"Susilo_Bambang_Yudhoyono_08.jpg.jpg\" to \"Susilo_Bambang_Yudhoyono_08.jpg\"\n",
      "Renamed: \"Susilo_Bambang_Yudhoyono_09.jpg.jpg\" to \"Susilo_Bambang_Yudhoyono_09.jpg\"\n",
      "Renamed: \"Susilo_Bambang_Yudhoyono_10.jpg.jpg\" to \"Susilo_Bambang_Yudhoyono_10.jpg\"\n",
      "Renamed: \"Susilo_Bambang_Yudhoyono_11.jpg.jpg\" to \"Susilo_Bambang_Yudhoyono_11.jpg\"\n",
      "Renamed: \"Susilo_Bambang_Yudhoyono_12.jpg.jpg\" to \"Susilo_Bambang_Yudhoyono_12.jpg\"\n",
      "Renamed: \"Susilo_Bambang_Yudhoyono_13.jpg.jpg\" to \"Susilo_Bambang_Yudhoyono_13.jpg\"\n",
      "Renamed: \"Susilo_Bambang_Yudhoyono_14.jpg.jpg\" to \"Susilo_Bambang_Yudhoyono_14.jpg\"\n",
      "Renamed: \"Susilo_Bambang_Yudhoyono_15.jpg.jpg\" to \"Susilo_Bambang_Yudhoyono_15.jpg\"\n",
      "Renamed: \"susilo_bambang_yudhoyono_16.jpg.jpg\" to \"susilo_bambang_yudhoyono_16.jpg\"\n",
      "Renamed: \"susilo_bambang_yudhoyono_17.jpg.jpg\" to \"susilo_bambang_yudhoyono_17.jpg\"\n",
      "Renamed: \"susilo_bambang_yudhoyono_18.jpg.jpg\" to \"susilo_bambang_yudhoyono_18.jpg\"\n",
      "Renamed: \"susilo_bambang_yudhoyono_19.jpg.jpg\" to \"susilo_bambang_yudhoyono_19.jpg\"\n",
      "Renamed: \"susilo_bambang_yudhoyono_20.jpg.jpg\" to \"susilo_bambang_yudhoyono_20.jpg\"\n",
      "Renamed: \"susilo_bambang_yudhoyono_21.jpg.jpg\" to \"susilo_bambang_yudhoyono_21.jpg\"\n",
      "Renamed: \"susilo_bambang_yudhoyono_22.jpg.jpg\" to \"susilo_bambang_yudhoyono_22.jpg\"\n",
      "Renamed: \"susilo_bambang_yudhoyono_23.jpg.jpg\" to \"susilo_bambang_yudhoyono_23.jpg\"\n",
      "Renamed: \"susilo_bambang_yudhoyono_24.jpg.jpg\" to \"susilo_bambang_yudhoyono_24.jpg\"\n",
      "Renamed: \"susilo_bambang_yudhoyono_25.jpg.jpg\" to \"susilo_bambang_yudhoyono_25.jpg\"\n",
      "Renamed: \"susilo_bambang_yudhoyono_26.jpg.jpg\" to \"susilo_bambang_yudhoyono_26.jpg\"\n",
      "Renamed: \"susilo_bambang_yudhoyono_27.jpg.jpg\" to \"susilo_bambang_yudhoyono_27.jpg\"\n",
      "Renamed: \"susilo_bambang_yudhoyono_28.jpg.jpg\" to \"susilo_bambang_yudhoyono_28.jpg\"\n",
      "Renamed: \"susilo_bambang_yudhoyono_29.jpg.jpg\" to \"susilo_bambang_yudhoyono_29.jpg\"\n",
      "Renamed: \"susilo_bambang_yudhoyono_30.jpg.jpg\" to \"susilo_bambang_yudhoyono_30.jpg\"\n",
      "Renamed: \"susilo_bambang_yudhoyono_31.jpg.jpg\" to \"susilo_bambang_yudhoyono_31.jpg\"\n",
      "Renamed: \"susilo_bambang_yudhoyono_32.jpg.jpg\" to \"susilo_bambang_yudhoyono_32.jpg\"\n",
      "Renamed: \"susilo_bambang_yudhoyono_33.jpg.jpg\" to \"susilo_bambang_yudhoyono_33.jpg\"\n",
      "Renamed: \"susilo_bambang_yudhoyono_34.jpg.jpg\" to \"susilo_bambang_yudhoyono_34.jpg\"\n",
      "Renamed: \"susilo_bambang_yudhoyono_35.jpg.jpg\" to \"susilo_bambang_yudhoyono_35.jpg\"\n",
      "Renamed: \"susilo_bambang_yudhoyono_36.jpg.jpg\" to \"susilo_bambang_yudhoyono_36.jpg\"\n",
      "Renamed: \"susilo_bambang_yudhoyono_37.jpg.jpg\" to \"susilo_bambang_yudhoyono_37.jpg\"\n",
      "Renamed: \"susilo_bambang_yudhoyono_38.jpg.jpg\" to \"susilo_bambang_yudhoyono_38.jpg\"\n",
      "Renamed: \"susilo_bambang_yudhoyono_39.jpg.jpg\" to \"susilo_bambang_yudhoyono_39.jpg\"\n",
      "Renamed: \"susilo_bambang_yudhoyono_40.jpg.jpg\" to \"susilo_bambang_yudhoyono_40.jpg\"\n",
      "Renamed: \"susilo_bambang_yudhoyono_41.jpg.jpg\" to \"susilo_bambang_yudhoyono_41.jpg\"\n",
      "Renamed: \"susilo_bambang_yudhoyono_42.jpg.jpg\" to \"susilo_bambang_yudhoyono_42.jpg\"\n",
      "Renamed: \"susilo_bambang_yudhoyono_43.jpg.jpg\" to \"susilo_bambang_yudhoyono_43.jpg\"\n",
      "Renamed: \"susilo_bambang_yudhoyono_44.jpg.jpg\" to \"susilo_bambang_yudhoyono_44.jpg\"\n",
      "Renamed: \"susilo_bambang_yudhoyono_45.jpg.jpg\" to \"susilo_bambang_yudhoyono_45.jpg\"\n",
      "Renamed: \"susilo_bambang_yudhoyono_46.jpg.jpg\" to \"susilo_bambang_yudhoyono_46.jpg\"\n",
      "Renamed: \"susilo_bambang_yudhoyono_47.jpg.jpg\" to \"susilo_bambang_yudhoyono_47.jpg\"\n",
      "Renamed: \"susilo_bambang_yudhoyono_48.jpg.jpg\" to \"susilo_bambang_yudhoyono_48.jpg\"\n",
      "Renamed: \"susilo_bambang_yudhoyono_49.jpg.jpg\" to \"susilo_bambang_yudhoyono_49.jpg\"\n",
      "Renamed: \"susilo_bambang_yudhoyono_50.jpg.jpg\" to \"susilo_bambang_yudhoyono_50.jpg\"\n",
      "\n",
      "Finished renaming all .jpg files.\n"
     ]
    }
   ],
   "execution_count": 21
  }
 ],
 "metadata": {
  "kernelspec": {
   "display_name": "Python 3",
   "language": "python",
   "name": "python3"
  },
  "language_info": {
   "codemirror_mode": {
    "name": "ipython",
    "version": 2
   },
   "file_extension": ".py",
   "mimetype": "text/x-python",
   "name": "python",
   "nbconvert_exporter": "python",
   "pygments_lexer": "ipython2",
   "version": "2.7.6"
  }
 },
 "nbformat": 4,
 "nbformat_minor": 5
}
