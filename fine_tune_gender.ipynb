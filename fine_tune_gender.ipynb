{
 "cells": [
  {
   "cell_type": "code",
   "id": "initial_id",
   "metadata": {
    "collapsed": true,
    "ExecuteTime": {
     "end_time": "2025-06-24T04:01:11.322949Z",
     "start_time": "2025-06-24T03:58:56.006982Z"
    }
   },
   "source": [
    "import os\n",
    "import pandas as pd\n",
    "import torch\n",
    "from torch.utils.data import Dataset, DataLoader\n",
    "from torchvision import transforms\n",
    "from PIL import Image\n",
    "import open_clip\n",
    "from tqdm import tqdm\n",
    "import matplotlib.pyplot as plt\n",
    "import textwrap\n",
    "import re\n",
    "\n",
    "# ------------------------------\n",
    "# DEBUGGING & CONFIGURATION\n",
    "# ------------------------------\n",
    "# This forces CUDA operations to be synchronous for accurate error reporting.\n",
    "os.environ['CUDA_LAUNCH_BLOCKING'] = \"1\"\n",
    "\n",
    "CONFIG = {\n",
    "    \"model_name\": \"ViT-B-16\",\n",
    "    \"pretrained\": \"laion2b_s34b_b88k\",\n",
    "    \"csv_train\": \"C:/Users/yehte/Downloads/Ye Htet/Projects/TikTok/Annotation/fine-tune/train.csv\",\n",
    "    \"csv_val\": \"C:/Users/yehte/Downloads/Ye Htet/Projects/TikTok/Annotation/fine-tune/valid.csv\",\n",
    "    \"csv_test\": \"C:/Users/yehte/Downloads/Ye Htet/Projects/TikTok/Annotation/fine-tune/test.csv\",\n",
    "    \"save_path\": \"finetuned_gender_only_best.pt\", # <-- New save path\n",
    "    \"plot_save_dir\": \"test_results_gender_only\", # <-- New plot directory\n",
    "    \"num_plots\": 100,\n",
    "    \"batch_size\": 32, # Start small for large models\n",
    "    \"epochs\": 100,\n",
    "    \"lr\": 1e-6,\n",
    "    \"patience\": 5,\n",
    "    \"device\": \"cuda\" if torch.cuda.is_available() else \"cpu\",\n",
    "\n",
    "    # --- FOCUSED: Prompts for Gender ONLY ---\n",
    "    \"gender_prompts\": [\n",
    "        \"a photo of a male person.\",\n",
    "        \"a photo of a female person.\"\n",
    "    ]\n",
    "}\n",
    "\n",
    "# --- Create simplified keys from prompts for mapping ---\n",
    "CONFIG[\"gender_keys\"] = [\"male\", \"female\"]\n",
    "\n",
    "# ------------------------------\n",
    "# Helper Function for Parsing\n",
    "# ------------------------------\n",
    "def parse_gender_from_prompt(prompt_text):\n",
    "    \"\"\"\n",
    "    A robust parser to find any of the gender keys in the prompt.\n",
    "    \"\"\"\n",
    "    # Search for any of the gender keys from the list in the prompt text\n",
    "    for gender_key in CONFIG[\"gender_keys\"]:\n",
    "        # Use regex with word boundaries (\\b) to ensure it matches the whole phrase\n",
    "        if re.search(r'\\b' + re.escape(gender_key) + r'\\b', prompt_text, re.IGNORECASE):\n",
    "            return gender_key\n",
    "    return None\n",
    "\n",
    "# def parse_gender_from_prompt(prompt_text):\n",
    "#     \"\"\"\n",
    "#     A simple parser to find 'male' or 'female' in the prompt.\n",
    "#     \"\"\"\n",
    "#     prompt_lower = prompt_text.lower()\n",
    "#     if 'male' in prompt_lower:\n",
    "#         return 'male'\n",
    "#     elif 'female' in prompt_lower:\n",
    "#         return 'female'\n",
    "#     return None\n",
    "\n",
    "# ------------------------------\n",
    "# Preprocessing and Caching\n",
    "# ------------------------------\n",
    "def preprocess_and_cache_csv(csv_path):\n",
    "    \"\"\"\n",
    "    Parses prompts for gender and saves a cached version.\n",
    "    \"\"\"\n",
    "    cache_path = csv_path.replace(\".csv\", \".gender_cached.csv\")\n",
    "    if os.path.exists(cache_path):\n",
    "        print(f\"Loading preprocessed gender data from cache: {cache_path}\")\n",
    "        try:\n",
    "            df_cache = pd.read_csv(cache_path)\n",
    "            if df_cache.empty:\n",
    "                 print(\"Warning: Cached file is empty. Reprocessing.\")\n",
    "            else:\n",
    "                return df_cache\n",
    "        except pd.errors.EmptyDataError:\n",
    "            print(f\"Warning: Cached file is empty. Reprocessing.\")\n",
    "\n",
    "    print(f\"Preprocessing gender data and caching: {csv_path}\")\n",
    "    try:\n",
    "        df = pd.read_csv(csv_path)\n",
    "    except (FileNotFoundError, pd.errors.EmptyDataError):\n",
    "        print(f\"Error or empty file at {csv_path}\")\n",
    "        return None\n",
    "\n",
    "    new_data = []\n",
    "    for _, row in tqdm(df.iterrows(), total=len(df), desc=f\"Preprocessing {os.path.basename(csv_path)}\"):\n",
    "        gender = parse_gender_from_prompt(row['prompt'])\n",
    "        if gender:\n",
    "            row_data = {\n",
    "                'filepath': row['filepath'],\n",
    "                'prompt': row['prompt'],\n",
    "                'gender_idx': CONFIG[\"gender_keys\"].index(gender)\n",
    "            }\n",
    "            new_data.append(row_data)\n",
    "\n",
    "    if not new_data:\n",
    "        print(\"Warning: Preprocessing resulted in an empty dataset for gender.\")\n",
    "        return None\n",
    "\n",
    "    cached_df = pd.DataFrame(new_data)\n",
    "    cached_df.to_csv(cache_path, index=False)\n",
    "    return cached_df\n",
    "\n",
    "# ------------------------------\n",
    "# Dataset Class\n",
    "# ------------------------------\n",
    "class GenderDataset(Dataset):\n",
    "    def __init__(self, df, preprocess):\n",
    "        self.df = df if df is not None else pd.DataFrame()\n",
    "        self.preprocess = preprocess\n",
    "\n",
    "    def __len__(self):\n",
    "        return len(self.df)\n",
    "\n",
    "    def __getitem__(self, idx):\n",
    "        row = self.df.iloc[idx]\n",
    "        image_path = row[\"filepath\"]\n",
    "        try:\n",
    "            image = Image.open(image_path).convert(\"RGB\")\n",
    "            image = self.preprocess(image)\n",
    "        except FileNotFoundError:\n",
    "            image = torch.zeros((3, 224, 224))\n",
    "\n",
    "        gender_idx = torch.tensor(row[\"gender_idx\"])\n",
    "        return image, gender_idx, image_path\n",
    "\n",
    "# ------------------------------\n",
    "# Training and Evaluation Functions\n",
    "# ------------------------------\n",
    "def train_and_validate(model, train_loader, val_loader, gender_text_features):\n",
    "    optimizer = torch.optim.AdamW(model.parameters(), lr=CONFIG[\"lr\"])\n",
    "    loss_fn = torch.nn.CrossEntropyLoss()\n",
    "    best_val_loss = float(\"inf\")\n",
    "    patience_counter = 0\n",
    "    model_saved = False\n",
    "\n",
    "    for epoch in range(CONFIG[\"epochs\"]):\n",
    "        model.train()\n",
    "        total_train_loss = 0\n",
    "        for images, gt_indices, _ in tqdm(train_loader, desc=f\"Epoch {epoch+1}/{CONFIG['epochs']} [Train]\"):\n",
    "            images, gt_indices = images.to(CONFIG[\"device\"]), gt_indices.to(CONFIG[\"device\"])\n",
    "\n",
    "            image_features = model.encode_image(images)\n",
    "            image_features = image_features / image_features.norm(dim=-1, keepdim=True)\n",
    "\n",
    "            logits_per_image = (100.0 * image_features @ gender_text_features.T)\n",
    "            loss = loss_fn(logits_per_image, gt_indices)\n",
    "\n",
    "            optimizer.zero_grad(); loss.backward(); optimizer.step()\n",
    "            total_train_loss += loss.item()\n",
    "\n",
    "        avg_train_loss = total_train_loss / len(train_loader)\n",
    "\n",
    "        model.eval()\n",
    "        total_val_loss = 0\n",
    "        with torch.no_grad():\n",
    "            for images, gt_indices, _ in tqdm(val_loader, desc=f\"Epoch {epoch+1}/{CONFIG['epochs']} [Val]\"):\n",
    "                images, gt_indices = images.to(CONFIG[\"device\"]), gt_indices.to(CONFIG[\"device\"])\n",
    "                image_features = model.encode_image(images)\n",
    "                image_features = image_features / image_features.norm(dim=-1, keepdim=True)\n",
    "                logits_per_image = (100.0 * image_features @ gender_text_features.T)\n",
    "                loss = loss_fn(logits_per_image, gt_indices)\n",
    "                total_val_loss += loss.item()\n",
    "\n",
    "        avg_val_loss = total_val_loss / len(val_loader)\n",
    "        print(f\"✅ Epoch {epoch+1}: Train Loss = {avg_train_loss:.4f}, Val Loss = {avg_val_loss:.4f}\")\n",
    "\n",
    "        if avg_val_loss < best_val_loss:\n",
    "            best_val_loss = avg_val_loss\n",
    "            torch.save(model.state_dict(), CONFIG[\"save_path\"])\n",
    "            print(f\"🎉 Saved best model to {CONFIG['save_path']}\")\n",
    "            patience_counter = 0\n",
    "            model_saved = True\n",
    "        else:\n",
    "            patience_counter += 1\n",
    "            print(f\"⚠️ No improvement. Patience: {patience_counter}/{CONFIG['patience']}\")\n",
    "        if patience_counter >= CONFIG[\"patience\"]:\n",
    "            print(\"🛑 Early stopping triggered.\"); break\n",
    "\n",
    "    return model_saved\n",
    "\n",
    "\n",
    "def test_and_plot(model, gender_text_features, preprocess):\n",
    "    print(\"\\n--- Starting Final Testing and Plotting Phase for Gender ---\")\n",
    "    model.load_state_dict(torch.load(CONFIG[\"save_path\"])); model.to(CONFIG[\"device\"]).eval()\n",
    "    print(\"Best model loaded.\")\n",
    "\n",
    "    test_df = preprocess_and_cache_csv(CONFIG[\"csv_test\"])\n",
    "    if test_df is None or test_df.empty:\n",
    "        print(f\"Error or empty data in test CSV. Halting testing.\")\n",
    "        return\n",
    "\n",
    "    test_dataset = GenderDataset(test_df, preprocess)\n",
    "    test_loader = DataLoader(test_dataset, batch_size=CONFIG[\"batch_size\"], shuffle=False)\n",
    "\n",
    "    correct_predictions, total_samples = 0, 0\n",
    "    all_results = []\n",
    "\n",
    "    with torch.no_grad():\n",
    "        for images, gt_indices, image_paths in tqdm(test_loader, desc=\"[Testing Gender]\"):\n",
    "            images = images.to(CONFIG[\"device\"])\n",
    "            image_features = model.encode_image(images)\n",
    "            image_features = image_features / image_features.norm(dim=-1, keepdim=True)\n",
    "\n",
    "            logits = (100.0 * image_features @ gender_text_features.T)\n",
    "            preds = logits.argmax(dim=-1)\n",
    "\n",
    "            for i in range(len(images)):\n",
    "                is_correct = (preds[i] == gt_indices[i]).item()\n",
    "                if is_correct: correct_predictions += 1\n",
    "\n",
    "                all_results.append({\n",
    "                    \"image_path\": image_paths[i],\n",
    "                    \"ground_truth\": CONFIG[\"gender_keys\"][gt_indices[i]],\n",
    "                    \"prediction\": CONFIG[\"gender_keys\"][preds[i]],\n",
    "                    \"is_correct\": is_correct\n",
    "                })\n",
    "            total_samples += len(images)\n",
    "\n",
    "    if total_samples > 0:\n",
    "        accuracy = (correct_predictions / total_samples) * 100\n",
    "        print(f\"\\n📊 Gender Test Accuracy: {accuracy:.2f}%\")\n",
    "    else:\n",
    "        print(\"No valid samples were processed in the test set.\")\n",
    "\n",
    "    print(f\"\\n--- Plotting up to {CONFIG['num_plots']} gender results ---\")\n",
    "    os.makedirs(CONFIG[\"plot_save_dir\"], exist_ok=True)\n",
    "\n",
    "    for i, result in enumerate(all_results):\n",
    "        if i >= CONFIG[\"num_plots\"]: break\n",
    "        try:\n",
    "            img = Image.open(result[\"image_path\"])\n",
    "        except FileNotFoundError: continue\n",
    "\n",
    "        fig, ax = plt.subplots(figsize=(8, 10))\n",
    "        ax.imshow(img); ax.axis(\"off\")\n",
    "\n",
    "        title = f\"Result {i+1}: {'CORRECT' if result['is_correct'] else 'INCORRECT'}\"\n",
    "        color = 'green' if result['is_correct'] else 'red'\n",
    "        fig.suptitle(title, fontsize=16, color=color)\n",
    "\n",
    "        text = (f\"Ground Truth: {result['ground_truth']}\\n\"\n",
    "                f\"Prediction:   {result['prediction']}\")\n",
    "\n",
    "        ax.set_title(text, fontsize=12, pad=10)\n",
    "\n",
    "        save_name = f\"result_{i+1}_{'correct' if result['is_correct'] else 'incorrect'}.png\"\n",
    "        plt.savefig(os.path.join(CONFIG[\"plot_save_dir\"], save_name), bbox_inches='tight')\n",
    "        plt.close(fig)\n",
    "\n",
    "    print(\"--- Plotting complete ---\")\n",
    "\n",
    "# ==============================\n",
    "#      MAIN EXECUTION BLOCK\n",
    "# ==============================\n",
    "if __name__ == '__main__':\n",
    "    print(f\"Using device: {CONFIG['device']}\")\n",
    "    if torch.cuda.is_available():\n",
    "        print(f\"PyTorch Version: {torch.__version__}, CUDA Version: {torch.version.cuda}\")\n",
    "\n",
    "    model, _, preprocess = open_clip.create_model_and_transforms(\n",
    "        CONFIG[\"model_name\"], pretrained=CONFIG[\"pretrained\"], device=CONFIG[\"device\"]\n",
    "    )\n",
    "    tokenizer = open_clip.get_tokenizer(CONFIG[\"model_name\"])\n",
    "\n",
    "    with torch.no_grad():\n",
    "        gender_text_tokens = tokenizer(CONFIG[\"gender_prompts\"]).to(CONFIG[\"device\"])\n",
    "        gender_text_features = model.encode_text(gender_text_tokens)\n",
    "        gender_text_features = gender_text_features / gender_text_features.norm(dim=-1, keepdim=True)\n",
    "\n",
    "    train_df = preprocess_and_cache_csv(CONFIG[\"csv_train\"])\n",
    "    val_df = preprocess_and_cache_csv(CONFIG[\"csv_val\"])\n",
    "\n",
    "    if train_df is not None and val_df is not None and not train_df.empty and not val_df.empty:\n",
    "        train_dataset = GenderDataset(train_df, preprocess)\n",
    "        val_dataset = GenderDataset(val_df, preprocess)\n",
    "        train_loader = DataLoader(train_dataset, batch_size=CONFIG[\"batch_size\"], shuffle=True)\n",
    "        val_loader = DataLoader(val_dataset, batch_size=CONFIG[\"batch_size\"], shuffle=False)\n",
    "\n",
    "        training_successful = train_and_validate(model, train_loader, val_loader, gender_text_features)\n",
    "\n",
    "        if training_successful:\n",
    "            test_and_plot(model, gender_text_features, preprocess)\n",
    "        else:\n",
    "            print(\"\\nSkipping testing phase: No model was saved during training.\")\n",
    "    else:\n",
    "        print(\"\\nSkipping training: Training/validation datasets are empty or could not be loaded.\")\n"
   ],
   "outputs": [
    {
     "name": "stdout",
     "output_type": "stream",
     "text": [
      "Using device: cuda\n",
      "PyTorch Version: 2.8.0.dev20250507+cu128, CUDA Version: 12.8\n",
      "Preprocessing gender data and caching: C:/Users/yehte/Downloads/Ye Htet/Projects/TikTok/Annotation/fine-tune/train.csv\n"
     ]
    },
    {
     "name": "stderr",
     "output_type": "stream",
     "text": [
      "Preprocessing train.csv: 100%|██████████| 700/700 [00:00<00:00, 59903.96it/s]\n"
     ]
    },
    {
     "name": "stdout",
     "output_type": "stream",
     "text": [
      "Preprocessing gender data and caching: C:/Users/yehte/Downloads/Ye Htet/Projects/TikTok/Annotation/fine-tune/valid.csv\n"
     ]
    },
    {
     "name": "stderr",
     "output_type": "stream",
     "text": [
      "Preprocessing valid.csv: 100%|██████████| 200/200 [00:00<00:00, 76405.94it/s]\n",
      "Epoch 1/100 [Train]: 100%|██████████| 22/22 [00:10<00:00,  2.06it/s]\n",
      "Epoch 1/100 [Val]: 100%|██████████| 7/7 [00:02<00:00,  3.47it/s]\n"
     ]
    },
    {
     "name": "stdout",
     "output_type": "stream",
     "text": [
      "✅ Epoch 1: Train Loss = 0.0673, Val Loss = 0.0293\n",
      "🎉 Saved best model to finetuned_gender_only_best.pt\n"
     ]
    },
    {
     "name": "stderr",
     "output_type": "stream",
     "text": [
      "Epoch 2/100 [Train]: 100%|██████████| 22/22 [00:15<00:00,  1.40it/s]\n",
      "Epoch 2/100 [Val]: 100%|██████████| 7/7 [00:02<00:00,  2.45it/s]\n"
     ]
    },
    {
     "name": "stdout",
     "output_type": "stream",
     "text": [
      "✅ Epoch 2: Train Loss = 0.0052, Val Loss = 0.0227\n",
      "🎉 Saved best model to finetuned_gender_only_best.pt\n"
     ]
    },
    {
     "name": "stderr",
     "output_type": "stream",
     "text": [
      "Epoch 3/100 [Train]: 100%|██████████| 22/22 [00:15<00:00,  1.41it/s]\n",
      "Epoch 3/100 [Val]: 100%|██████████| 7/7 [00:02<00:00,  2.46it/s]\n"
     ]
    },
    {
     "name": "stdout",
     "output_type": "stream",
     "text": [
      "✅ Epoch 3: Train Loss = 0.0021, Val Loss = 0.0182\n",
      "🎉 Saved best model to finetuned_gender_only_best.pt\n"
     ]
    },
    {
     "name": "stderr",
     "output_type": "stream",
     "text": [
      "Epoch 4/100 [Train]: 100%|██████████| 22/22 [00:14<00:00,  1.57it/s]\n",
      "Epoch 4/100 [Val]: 100%|██████████| 7/7 [00:02<00:00,  2.72it/s]\n"
     ]
    },
    {
     "name": "stdout",
     "output_type": "stream",
     "text": [
      "✅ Epoch 4: Train Loss = 0.0012, Val Loss = 0.0188\n",
      "⚠️ No improvement. Patience: 1/5\n"
     ]
    },
    {
     "name": "stderr",
     "output_type": "stream",
     "text": [
      "Epoch 5/100 [Train]: 100%|██████████| 22/22 [00:12<00:00,  1.73it/s]\n",
      "Epoch 5/100 [Val]: 100%|██████████| 7/7 [00:02<00:00,  2.78it/s]\n"
     ]
    },
    {
     "name": "stdout",
     "output_type": "stream",
     "text": [
      "✅ Epoch 5: Train Loss = 0.0009, Val Loss = 0.0203\n",
      "⚠️ No improvement. Patience: 2/5\n"
     ]
    },
    {
     "name": "stderr",
     "output_type": "stream",
     "text": [
      "Epoch 6/100 [Train]: 100%|██████████| 22/22 [00:12<00:00,  1.77it/s]\n",
      "Epoch 6/100 [Val]: 100%|██████████| 7/7 [00:01<00:00,  3.55it/s]\n"
     ]
    },
    {
     "name": "stdout",
     "output_type": "stream",
     "text": [
      "✅ Epoch 6: Train Loss = 0.0007, Val Loss = 0.0210\n",
      "⚠️ No improvement. Patience: 3/5\n"
     ]
    },
    {
     "name": "stderr",
     "output_type": "stream",
     "text": [
      "Epoch 7/100 [Train]: 100%|██████████| 22/22 [00:10<00:00,  2.07it/s]\n",
      "Epoch 7/100 [Val]: 100%|██████████| 7/7 [00:01<00:00,  3.53it/s]\n"
     ]
    },
    {
     "name": "stdout",
     "output_type": "stream",
     "text": [
      "✅ Epoch 7: Train Loss = 0.0006, Val Loss = 0.0215\n",
      "⚠️ No improvement. Patience: 4/5\n"
     ]
    },
    {
     "name": "stderr",
     "output_type": "stream",
     "text": [
      "Epoch 8/100 [Train]: 100%|██████████| 22/22 [00:10<00:00,  2.06it/s]\n",
      "Epoch 8/100 [Val]: 100%|██████████| 7/7 [00:01<00:00,  3.55it/s]\n"
     ]
    },
    {
     "name": "stdout",
     "output_type": "stream",
     "text": [
      "✅ Epoch 8: Train Loss = 0.0006, Val Loss = 0.0218\n",
      "⚠️ No improvement. Patience: 5/5\n",
      "🛑 Early stopping triggered.\n",
      "\n",
      "--- Starting Final Testing and Plotting Phase for Gender ---\n",
      "Best model loaded.\n",
      "Preprocessing gender data and caching: C:/Users/yehte/Downloads/Ye Htet/Projects/TikTok/Annotation/fine-tune/test.csv\n"
     ]
    },
    {
     "name": "stderr",
     "output_type": "stream",
     "text": [
      "Preprocessing test.csv: 100%|██████████| 100/100 [00:00<00:00, 56496.55it/s]\n",
      "[Testing Gender]: 100%|██████████| 4/4 [00:00<00:00,  4.08it/s]\n"
     ]
    },
    {
     "name": "stdout",
     "output_type": "stream",
     "text": [
      "\n",
      "📊 Gender Test Accuracy: 100.00%\n",
      "\n",
      "--- Plotting up to 100 gender results ---\n",
      "--- Plotting complete ---\n"
     ]
    }
   ],
   "execution_count": 4
  }
 ],
 "metadata": {
  "kernelspec": {
   "display_name": "Python 3",
   "language": "python",
   "name": "python3"
  },
  "language_info": {
   "codemirror_mode": {
    "name": "ipython",
    "version": 2
   },
   "file_extension": ".py",
   "mimetype": "text/x-python",
   "name": "python",
   "nbconvert_exporter": "python",
   "pygments_lexer": "ipython2",
   "version": "2.7.6"
  }
 },
 "nbformat": 4,
 "nbformat_minor": 5
}
